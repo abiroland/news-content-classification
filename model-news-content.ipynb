{
  "cells": [
    {
      "cell_type": "code",
      "metadata": {
        "id": "f2abb0c9"
      },
      "source": [
        "import os\n",
        "import glob\n",
        "import pathlib\n",
        "import pandas as pd\n",
        "import numpy as np\n",
        "import tensorflow as tf\n",
        "import keras\n",
        "from sklearn.feature_extraction.text import TfidfVectorizer\n",
        "from sklearn.model_selection import train_test_split\n",
        "import matplotlib.pyplot as plt"
      ],
      "id": "f2abb0c9",
      "execution_count": 1,
      "outputs": []
    },
    {
      "cell_type": "code",
      "source": [
        "from google.colab import drive\n",
        "drive.mount('/content/drive')"
      ],
      "metadata": {
        "colab": {
          "base_uri": "https://localhost:8080/"
        },
        "id": "XXWnFdK6te5x",
        "outputId": "d14aa04a-3eba-4bbf-fd69-6621ce22f1c0"
      },
      "id": "XXWnFdK6te5x",
      "execution_count": 2,
      "outputs": [
        {
          "output_type": "stream",
          "name": "stdout",
          "text": [
            "Drive already mounted at /content/drive; to attempt to forcibly remount, call drive.mount(\"/content/drive\", force_remount=True).\n"
          ]
        }
      ]
    },
    {
      "cell_type": "markdown",
      "metadata": {
        "id": "ea5e3932"
      },
      "source": [
        "## Extracting files\n"
      ],
      "id": "ea5e3932"
    },
    {
      "cell_type": "code",
      "metadata": {
        "id": "76fac624"
      },
      "source": [
        "def extract_files(folder_path):\n",
        "    csv_files = glob.glob(os.path.join(folder_path, \"*.csv\"))\n",
        "    dataframes = []\n",
        "\n",
        "    for file in csv_files:\n",
        "        df = pd.read_csv(file)\n",
        "        dataframes.append(df)\n",
        "    return dataframes\n",
        "\n",
        "\n",
        "extracted = extract_files(\"/content/drive/MyDrive/Topic_modelling\")"
      ],
      "id": "76fac624",
      "execution_count": 3,
      "outputs": []
    },
    {
      "cell_type": "code",
      "metadata": {
        "id": "870ea5d5"
      },
      "source": [
        "alldata = pd.DataFrame()\n",
        "for listitems in extracted:\n",
        "    alldata = pd.concat([alldata, listitems])"
      ],
      "id": "870ea5d5",
      "execution_count": 4,
      "outputs": []
    },
    {
      "cell_type": "markdown",
      "metadata": {
        "id": "9229e619"
      },
      "source": [
        "## Feature extraction"
      ],
      "id": "9229e619"
    },
    {
      "cell_type": "code",
      "source": [
        "alldata.head()"
      ],
      "metadata": {
        "colab": {
          "base_uri": "https://localhost:8080/",
          "height": 293
        },
        "id": "A7nkj8K6SzP9",
        "outputId": "e2c55aee-3651-4b2d-c733-75b9368b8481"
      },
      "id": "A7nkj8K6SzP9",
      "execution_count": 5,
      "outputs": [
        {
          "output_type": "execute_result",
          "data": {
            "text/plain": [
              "                                           headlines  \\\n",
              "0  CUET PG 2024: Register with NTA to enable admi...   \n",
              "1  Oxford ends ties with TCS iON over technical g...   \n",
              "2  Enrollments in Computer Engineering surge, mec...   \n",
              "3  NDMC plans to provide free JEE, NEET UG coachi...   \n",
              "4  BA courses register highest enrollment, maximu...   \n",
              "\n",
              "                                         description  \\\n",
              "0  CUET PG 2024: UGC said that the list of partic...   \n",
              "1  On April 10, 2023 TCS had announced that it ha...   \n",
              "2  AISHE Report 2021-22: The enrollment in STEM (...   \n",
              "3  The coaching partner will also provide up-to-d...   \n",
              "4  AISHE Report 2021-22: For programmes including...   \n",
              "\n",
              "                                             content  \\\n",
              "0  The Common University Entrance Test Postgradua...   \n",
              "1  Less than a year after the Oxford University s...   \n",
              "2  Student enrollments in Computer Engineering ha...   \n",
              "3  The New Delhi Municipal Council (NDMC) is invi...   \n",
              "4  Bachelor of Arts (BA) courses had the highest ...   \n",
              "\n",
              "                                                 url   category  \n",
              "0  https://indianexpress.com/article/education/cu...  education  \n",
              "1  https://indianexpress.com/article/education/ox...  education  \n",
              "2  https://indianexpress.com/article/education/en...  education  \n",
              "3  https://indianexpress.com/article/education/nd...  education  \n",
              "4  https://indianexpress.com/article/education/ba...  education  "
            ],
            "text/html": [
              "\n",
              "  <div id=\"df-c0e0fd6c-3f61-4639-8049-e49333f0e8a7\" class=\"colab-df-container\">\n",
              "    <div>\n",
              "<style scoped>\n",
              "    .dataframe tbody tr th:only-of-type {\n",
              "        vertical-align: middle;\n",
              "    }\n",
              "\n",
              "    .dataframe tbody tr th {\n",
              "        vertical-align: top;\n",
              "    }\n",
              "\n",
              "    .dataframe thead th {\n",
              "        text-align: right;\n",
              "    }\n",
              "</style>\n",
              "<table border=\"1\" class=\"dataframe\">\n",
              "  <thead>\n",
              "    <tr style=\"text-align: right;\">\n",
              "      <th></th>\n",
              "      <th>headlines</th>\n",
              "      <th>description</th>\n",
              "      <th>content</th>\n",
              "      <th>url</th>\n",
              "      <th>category</th>\n",
              "    </tr>\n",
              "  </thead>\n",
              "  <tbody>\n",
              "    <tr>\n",
              "      <th>0</th>\n",
              "      <td>CUET PG 2024: Register with NTA to enable admi...</td>\n",
              "      <td>CUET PG 2024: UGC said that the list of partic...</td>\n",
              "      <td>The Common University Entrance Test Postgradua...</td>\n",
              "      <td>https://indianexpress.com/article/education/cu...</td>\n",
              "      <td>education</td>\n",
              "    </tr>\n",
              "    <tr>\n",
              "      <th>1</th>\n",
              "      <td>Oxford ends ties with TCS iON over technical g...</td>\n",
              "      <td>On April 10, 2023 TCS had announced that it ha...</td>\n",
              "      <td>Less than a year after the Oxford University s...</td>\n",
              "      <td>https://indianexpress.com/article/education/ox...</td>\n",
              "      <td>education</td>\n",
              "    </tr>\n",
              "    <tr>\n",
              "      <th>2</th>\n",
              "      <td>Enrollments in Computer Engineering surge, mec...</td>\n",
              "      <td>AISHE Report 2021-22: The enrollment in STEM (...</td>\n",
              "      <td>Student enrollments in Computer Engineering ha...</td>\n",
              "      <td>https://indianexpress.com/article/education/en...</td>\n",
              "      <td>education</td>\n",
              "    </tr>\n",
              "    <tr>\n",
              "      <th>3</th>\n",
              "      <td>NDMC plans to provide free JEE, NEET UG coachi...</td>\n",
              "      <td>The coaching partner will also provide up-to-d...</td>\n",
              "      <td>The New Delhi Municipal Council (NDMC) is invi...</td>\n",
              "      <td>https://indianexpress.com/article/education/nd...</td>\n",
              "      <td>education</td>\n",
              "    </tr>\n",
              "    <tr>\n",
              "      <th>4</th>\n",
              "      <td>BA courses register highest enrollment, maximu...</td>\n",
              "      <td>AISHE Report 2021-22: For programmes including...</td>\n",
              "      <td>Bachelor of Arts (BA) courses had the highest ...</td>\n",
              "      <td>https://indianexpress.com/article/education/ba...</td>\n",
              "      <td>education</td>\n",
              "    </tr>\n",
              "  </tbody>\n",
              "</table>\n",
              "</div>\n",
              "    <div class=\"colab-df-buttons\">\n",
              "\n",
              "  <div class=\"colab-df-container\">\n",
              "    <button class=\"colab-df-convert\" onclick=\"convertToInteractive('df-c0e0fd6c-3f61-4639-8049-e49333f0e8a7')\"\n",
              "            title=\"Convert this dataframe to an interactive table.\"\n",
              "            style=\"display:none;\">\n",
              "\n",
              "  <svg xmlns=\"http://www.w3.org/2000/svg\" height=\"24px\" viewBox=\"0 -960 960 960\">\n",
              "    <path d=\"M120-120v-720h720v720H120Zm60-500h600v-160H180v160Zm220 220h160v-160H400v160Zm0 220h160v-160H400v160ZM180-400h160v-160H180v160Zm440 0h160v-160H620v160ZM180-180h160v-160H180v160Zm440 0h160v-160H620v160Z\"/>\n",
              "  </svg>\n",
              "    </button>\n",
              "\n",
              "  <style>\n",
              "    .colab-df-container {\n",
              "      display:flex;\n",
              "      gap: 12px;\n",
              "    }\n",
              "\n",
              "    .colab-df-convert {\n",
              "      background-color: #E8F0FE;\n",
              "      border: none;\n",
              "      border-radius: 50%;\n",
              "      cursor: pointer;\n",
              "      display: none;\n",
              "      fill: #1967D2;\n",
              "      height: 32px;\n",
              "      padding: 0 0 0 0;\n",
              "      width: 32px;\n",
              "    }\n",
              "\n",
              "    .colab-df-convert:hover {\n",
              "      background-color: #E2EBFA;\n",
              "      box-shadow: 0px 1px 2px rgba(60, 64, 67, 0.3), 0px 1px 3px 1px rgba(60, 64, 67, 0.15);\n",
              "      fill: #174EA6;\n",
              "    }\n",
              "\n",
              "    .colab-df-buttons div {\n",
              "      margin-bottom: 4px;\n",
              "    }\n",
              "\n",
              "    [theme=dark] .colab-df-convert {\n",
              "      background-color: #3B4455;\n",
              "      fill: #D2E3FC;\n",
              "    }\n",
              "\n",
              "    [theme=dark] .colab-df-convert:hover {\n",
              "      background-color: #434B5C;\n",
              "      box-shadow: 0px 1px 3px 1px rgba(0, 0, 0, 0.15);\n",
              "      filter: drop-shadow(0px 1px 2px rgba(0, 0, 0, 0.3));\n",
              "      fill: #FFFFFF;\n",
              "    }\n",
              "  </style>\n",
              "\n",
              "    <script>\n",
              "      const buttonEl =\n",
              "        document.querySelector('#df-c0e0fd6c-3f61-4639-8049-e49333f0e8a7 button.colab-df-convert');\n",
              "      buttonEl.style.display =\n",
              "        google.colab.kernel.accessAllowed ? 'block' : 'none';\n",
              "\n",
              "      async function convertToInteractive(key) {\n",
              "        const element = document.querySelector('#df-c0e0fd6c-3f61-4639-8049-e49333f0e8a7');\n",
              "        const dataTable =\n",
              "          await google.colab.kernel.invokeFunction('convertToInteractive',\n",
              "                                                    [key], {});\n",
              "        if (!dataTable) return;\n",
              "\n",
              "        const docLinkHtml = 'Like what you see? Visit the ' +\n",
              "          '<a target=\"_blank\" href=https://colab.research.google.com/notebooks/data_table.ipynb>data table notebook</a>'\n",
              "          + ' to learn more about interactive tables.';\n",
              "        element.innerHTML = '';\n",
              "        dataTable['output_type'] = 'display_data';\n",
              "        await google.colab.output.renderOutput(dataTable, element);\n",
              "        const docLink = document.createElement('div');\n",
              "        docLink.innerHTML = docLinkHtml;\n",
              "        element.appendChild(docLink);\n",
              "      }\n",
              "    </script>\n",
              "  </div>\n",
              "\n",
              "\n",
              "<div id=\"df-9493e096-d6fc-412a-9e32-3c858764618f\">\n",
              "  <button class=\"colab-df-quickchart\" onclick=\"quickchart('df-9493e096-d6fc-412a-9e32-3c858764618f')\"\n",
              "            title=\"Suggest charts\"\n",
              "            style=\"display:none;\">\n",
              "\n",
              "<svg xmlns=\"http://www.w3.org/2000/svg\" height=\"24px\"viewBox=\"0 0 24 24\"\n",
              "     width=\"24px\">\n",
              "    <g>\n",
              "        <path d=\"M19 3H5c-1.1 0-2 .9-2 2v14c0 1.1.9 2 2 2h14c1.1 0 2-.9 2-2V5c0-1.1-.9-2-2-2zM9 17H7v-7h2v7zm4 0h-2V7h2v10zm4 0h-2v-4h2v4z\"/>\n",
              "    </g>\n",
              "</svg>\n",
              "  </button>\n",
              "\n",
              "<style>\n",
              "  .colab-df-quickchart {\n",
              "      --bg-color: #E8F0FE;\n",
              "      --fill-color: #1967D2;\n",
              "      --hover-bg-color: #E2EBFA;\n",
              "      --hover-fill-color: #174EA6;\n",
              "      --disabled-fill-color: #AAA;\n",
              "      --disabled-bg-color: #DDD;\n",
              "  }\n",
              "\n",
              "  [theme=dark] .colab-df-quickchart {\n",
              "      --bg-color: #3B4455;\n",
              "      --fill-color: #D2E3FC;\n",
              "      --hover-bg-color: #434B5C;\n",
              "      --hover-fill-color: #FFFFFF;\n",
              "      --disabled-bg-color: #3B4455;\n",
              "      --disabled-fill-color: #666;\n",
              "  }\n",
              "\n",
              "  .colab-df-quickchart {\n",
              "    background-color: var(--bg-color);\n",
              "    border: none;\n",
              "    border-radius: 50%;\n",
              "    cursor: pointer;\n",
              "    display: none;\n",
              "    fill: var(--fill-color);\n",
              "    height: 32px;\n",
              "    padding: 0;\n",
              "    width: 32px;\n",
              "  }\n",
              "\n",
              "  .colab-df-quickchart:hover {\n",
              "    background-color: var(--hover-bg-color);\n",
              "    box-shadow: 0 1px 2px rgba(60, 64, 67, 0.3), 0 1px 3px 1px rgba(60, 64, 67, 0.15);\n",
              "    fill: var(--button-hover-fill-color);\n",
              "  }\n",
              "\n",
              "  .colab-df-quickchart-complete:disabled,\n",
              "  .colab-df-quickchart-complete:disabled:hover {\n",
              "    background-color: var(--disabled-bg-color);\n",
              "    fill: var(--disabled-fill-color);\n",
              "    box-shadow: none;\n",
              "  }\n",
              "\n",
              "  .colab-df-spinner {\n",
              "    border: 2px solid var(--fill-color);\n",
              "    border-color: transparent;\n",
              "    border-bottom-color: var(--fill-color);\n",
              "    animation:\n",
              "      spin 1s steps(1) infinite;\n",
              "  }\n",
              "\n",
              "  @keyframes spin {\n",
              "    0% {\n",
              "      border-color: transparent;\n",
              "      border-bottom-color: var(--fill-color);\n",
              "      border-left-color: var(--fill-color);\n",
              "    }\n",
              "    20% {\n",
              "      border-color: transparent;\n",
              "      border-left-color: var(--fill-color);\n",
              "      border-top-color: var(--fill-color);\n",
              "    }\n",
              "    30% {\n",
              "      border-color: transparent;\n",
              "      border-left-color: var(--fill-color);\n",
              "      border-top-color: var(--fill-color);\n",
              "      border-right-color: var(--fill-color);\n",
              "    }\n",
              "    40% {\n",
              "      border-color: transparent;\n",
              "      border-right-color: var(--fill-color);\n",
              "      border-top-color: var(--fill-color);\n",
              "    }\n",
              "    60% {\n",
              "      border-color: transparent;\n",
              "      border-right-color: var(--fill-color);\n",
              "    }\n",
              "    80% {\n",
              "      border-color: transparent;\n",
              "      border-right-color: var(--fill-color);\n",
              "      border-bottom-color: var(--fill-color);\n",
              "    }\n",
              "    90% {\n",
              "      border-color: transparent;\n",
              "      border-bottom-color: var(--fill-color);\n",
              "    }\n",
              "  }\n",
              "</style>\n",
              "\n",
              "  <script>\n",
              "    async function quickchart(key) {\n",
              "      const quickchartButtonEl =\n",
              "        document.querySelector('#' + key + ' button');\n",
              "      quickchartButtonEl.disabled = true;  // To prevent multiple clicks.\n",
              "      quickchartButtonEl.classList.add('colab-df-spinner');\n",
              "      try {\n",
              "        const charts = await google.colab.kernel.invokeFunction(\n",
              "            'suggestCharts', [key], {});\n",
              "      } catch (error) {\n",
              "        console.error('Error during call to suggestCharts:', error);\n",
              "      }\n",
              "      quickchartButtonEl.classList.remove('colab-df-spinner');\n",
              "      quickchartButtonEl.classList.add('colab-df-quickchart-complete');\n",
              "    }\n",
              "    (() => {\n",
              "      let quickchartButtonEl =\n",
              "        document.querySelector('#df-9493e096-d6fc-412a-9e32-3c858764618f button');\n",
              "      quickchartButtonEl.style.display =\n",
              "        google.colab.kernel.accessAllowed ? 'block' : 'none';\n",
              "    })();\n",
              "  </script>\n",
              "</div>\n",
              "\n",
              "    </div>\n",
              "  </div>\n"
            ],
            "application/vnd.google.colaboratory.intrinsic+json": {
              "type": "dataframe",
              "variable_name": "alldata",
              "summary": "{\n  \"name\": \"alldata\",\n  \"rows\": 10000,\n  \"fields\": [\n    {\n      \"column\": \"headlines\",\n      \"properties\": {\n        \"dtype\": \"string\",\n        \"num_unique_values\": 9987,\n        \"samples\": [\n          \"AP EAMCET/ EAPCET 2023 Counselling: Schedule released, registrations from July 24\",\n          \"France\\u2019s TotalEnergies to invest $300 million in JV with Adani Group\",\n          \"7 things you need to know about Gemini, Google\\u2019s rival to OpenAI\\u2019s GPT\"\n        ],\n        \"semantic_type\": \"\",\n        \"description\": \"\"\n      }\n    },\n    {\n      \"column\": \"description\",\n      \"properties\": {\n        \"dtype\": \"string\",\n        \"num_unique_values\": 9978,\n        \"samples\": [\n          \"Animal box office collection Day 8 early report: Helmed by Sandeep Reddy Vanga, the Ranbir Kapoo-starrer has collected more than Rs 560 crore worldwide.\",\n          \"The 23-year-old seam bowling all-rounder, who is recovering from a surgery on his index finger in his right hand, had a bowl at the nets in Alur.\",\n          \"Star forward, Karim Benzema has been nominated for the men's best player award alongside Lionel Messi and Kylian Mbappe, both of whom had starred in the 2022 World Cup final last year.\"\n        ],\n        \"semantic_type\": \"\",\n        \"description\": \"\"\n      }\n    },\n    {\n      \"column\": \"content\",\n      \"properties\": {\n        \"dtype\": \"string\",\n        \"num_unique_values\": 9991,\n        \"samples\": [\n          \"Days after Ranbir Kapoor managed to upstage mother Neetu Kapoor in an ad for a snack company, Neetu has made a comeback which has been described as \\u201cperfect\\u201d by Ranbir\\u2019s Animal co-star Triptii Dimri. Earlier, an ad for Lay\\u2019s had Ranbir snacking under Neetu\\u2019s nose without her getting to know about it. In the new ad, Neetu has managed to do the same.\\nTriptii shared the ad on her social media and wrote in the caption, \\u201cHave you also caught your friends red-handed stealing your @lays_india pack? \\ud83d\\ude05 Perfect comeback @neetu54 ji! Scorecard is now even at 1-1, is there more to come? \\ud83d\\udc40.\\u201d Lays India shared it with the caption, \\u201cWhen you love something, you just can\\u2019t let it go! #IseyKehteHainPyaar scorecard update RK 1- Neetu 1.\\u201d\\nYou have exhausted your monthly limit of free stories.\\nRegister to read more stories\\nContinue With:-\\nGoogle\\nFacebook\\nEmail\\nAlready have an account? Sign in\\n\\nClick for more updates and latest Bollywood news along with Entertainment updates. Also get latest news and top headlines from India and around the world at The Indian Express.\",\n          \"Paris Saint Germain(PSG) superstar Kylian Mbappe is awestruck after his teammate Neymar Jr takes a free kick during warmups ahead of the team\\u2019s Ligue 1 clash against Stade de Reims on Sunday.\\nIn a video released by Prime Video Sport France Neymar is seen taking a free kick outside the penalty box he strikes it cleanly into the top left corner of the goal. The goalkeeper did not even move to try to save the ball.\",\n          \"SWAYAM January 2023 Result: The NTA has announced the Study Webs of Active Learning for Young Aspiring Minds, or SWAYAM, January 2023 semester exam results. The SWAYAM January 2023 result can be checked and downloaded from the NTA website \\u2013 swayam.nta.ac.in and at swayam.ntaonline.in. \\nThe National Testing Agency (NTA) conducted the SWAYAM January 2023 semester exam between October 19 and 21 in six sessions at 102 centres in 77 cities across the country. \\nRegister to continue reading this story\\nGoogle\\nFacebook\\nEmail\\nAlready have an account? Sign in\"\n        ],\n        \"semantic_type\": \"\",\n        \"description\": \"\"\n      }\n    },\n    {\n      \"column\": \"url\",\n      \"properties\": {\n        \"dtype\": \"string\",\n        \"num_unique_values\": 9990,\n        \"samples\": [\n          \"https://indianexpress.com/article/entertainment/tamil/vetrimaaran-on-nayantharas-annapoorni-being-taken-off-netflix-these-decisions-will-question-the-authority-of-cbfc-9113461/\",\n          \"https://indianexpress.com/article/entertainment/bollywood/karan-johar-questions-why-kajol-kept-a-silent-distance-from-rani-mukerji-kuch-kuch-hota-hai-9048063/\",\n          \"https://indianexpress.com/article/education/study-abroad/university-of-sheffield-to-offer-ug-scholarships-worth-10000-9019891/\"\n        ],\n        \"semantic_type\": \"\",\n        \"description\": \"\"\n      }\n    },\n    {\n      \"column\": \"category\",\n      \"properties\": {\n        \"dtype\": \"category\",\n        \"num_unique_values\": 5,\n        \"samples\": [\n          \"business\",\n          \"technology\",\n          \"entertainment\"\n        ],\n        \"semantic_type\": \"\",\n        \"description\": \"\"\n      }\n    }\n  ]\n}"
            }
          },
          "metadata": {},
          "execution_count": 5
        }
      ]
    },
    {
      "cell_type": "code",
      "metadata": {
        "id": "1105635c"
      },
      "source": [
        "targets = alldata[\"category\"]\n",
        "feature = alldata[\"content\"]"
      ],
      "id": "1105635c",
      "execution_count": 6,
      "outputs": []
    },
    {
      "cell_type": "code",
      "source": [
        "print(targets.unique())"
      ],
      "metadata": {
        "colab": {
          "base_uri": "https://localhost:8080/"
        },
        "id": "qhOo_SfPFFmX",
        "outputId": "c8aa1467-f9a7-4118-eb99-467803ae1bfc"
      },
      "id": "qhOo_SfPFFmX",
      "execution_count": 7,
      "outputs": [
        {
          "output_type": "stream",
          "name": "stdout",
          "text": [
            "['education' 'business' 'entertainment' 'sports' 'technology']\n"
          ]
        }
      ]
    },
    {
      "cell_type": "code",
      "metadata": {
        "id": "3bf16e35"
      },
      "source": [
        "VALIDATION_SPLIT = 0.25\n",
        "TRAIN_SPLIT = 0.8\n",
        "\n",
        "nb_training_samples = int(TRAIN_SPLIT * feature.shape[0])\n",
        "nb_validation_samples = int(VALIDATION_SPLIT * feature.shape[0])\n",
        "\n",
        "#Train/Test sets\n",
        "x_train, x_test = feature[:nb_training_samples], feature[nb_training_samples:]\n",
        "y_train, y_test = targets[:nb_training_samples], targets[nb_training_samples:]\n",
        "\n",
        "# validation sets\n",
        "x_valid = x_train[-nb_validation_samples:]\n",
        "y_valid = y_train[-nb_validation_samples:]"
      ],
      "id": "3bf16e35",
      "execution_count": 7,
      "outputs": []
    },
    {
      "cell_type": "code",
      "source": [
        "maxlen = 100\n",
        "embedding_dim = 100\n",
        "max_words = 10000\n",
        "\n",
        "classnames = {\n",
        "    0 : 'Business',\n",
        "    1 : 'Education',\n",
        "    2 : 'Entertainment',\n",
        "    3 : 'Sports',\n",
        "    4 : 'Technology'\n",
        "}"
      ],
      "metadata": {
        "id": "-wFeINwQ2bgU"
      },
      "id": "-wFeINwQ2bgU",
      "execution_count": 89,
      "outputs": []
    },
    {
      "cell_type": "markdown",
      "metadata": {
        "id": "324c114a"
      },
      "source": [
        "### Prepare pretained word embeddings"
      ],
      "id": "324c114a"
    },
    {
      "cell_type": "code",
      "metadata": {
        "colab": {
          "base_uri": "https://localhost:8080/"
        },
        "id": "5511fda1",
        "outputId": "a99b06be-e59c-4dd4-99fa-2e783b6ac1c8"
      },
      "source": [
        "embeddings_index = {}\n",
        "f = open('glove.6B.100d.txt')\n",
        "for line in f:\n",
        "    values = line.split()\n",
        "    word = values[0]\n",
        "    coefs = np.asarray(values[1:], dtype=\"float32\")\n",
        "    embeddings_index[word] = coefs\n",
        "f.close()\n",
        "\n",
        "print('found %s word vectors.' % len(embeddings_index))"
      ],
      "id": "5511fda1",
      "execution_count": 94,
      "outputs": [
        {
          "output_type": "stream",
          "name": "stdout",
          "text": [
            "found 400000 word vectors.\n"
          ]
        }
      ]
    },
    {
      "cell_type": "code",
      "metadata": {
        "id": "d9f93746"
      },
      "source": [
        "embedding_matrix = np.zeros((max_words, embedding_dim))\n",
        "for word, i in word_index.items():\n",
        "    if i < max_words:\n",
        "        embedding_vector = embeddings_index.get(word)\n",
        "        if embedding_vector is not None:\n",
        "            embedding_matrix[i] = embedding_vector"
      ],
      "id": "d9f93746",
      "execution_count": 95,
      "outputs": []
    },
    {
      "cell_type": "code",
      "source": [
        "def scheduler(epoch, lr):\n",
        "    if epoch < 10:\n",
        "        return lr\n",
        "    else:\n",
        "        return lr * tf.math.exp(-0.1)\n",
        "\n",
        "lr_scheduler = keras.callbacks.LearningRateScheduler(scheduler)"
      ],
      "metadata": {
        "id": "hwVFFoi_aKLk"
      },
      "id": "hwVFFoi_aKLk",
      "execution_count": 96,
      "outputs": []
    },
    {
      "cell_type": "code",
      "source": [
        "my_callbacks = [\n",
        "    lr_scheduler,\n",
        "    keras.callbacks.EarlyStopping(monitor=\"val_loss\",\n",
        "                                  patience=10, restore_best_weights=True),\n",
        "    keras.callbacks.ReduceLROnPlateau(monitor='val_loss', factor=0.2,\n",
        "                                      patience=10, min_lr=0.0001),\n",
        "    keras.callbacks.ModelCheckpoint(\"model.keras\", save_best_only=True)\n",
        "]"
      ],
      "metadata": {
        "id": "7QkOXiNd_0cC"
      },
      "id": "7QkOXiNd_0cC",
      "execution_count": 97,
      "outputs": []
    },
    {
      "cell_type": "markdown",
      "metadata": {
        "id": "a5e901fb"
      },
      "source": [
        "### Using TfIDvectorizer"
      ],
      "id": "a5e901fb"
    },
    {
      "cell_type": "code",
      "source": [
        "labels1 = np.asarray(targets)\n",
        "indices1 = np.arange(feature.shape[0])\n",
        "np.random.shuffle(indices1)\n",
        "labels1 = labels1[indices1]"
      ],
      "metadata": {
        "id": "Z68T7pVoNT97"
      },
      "id": "Z68T7pVoNT97",
      "execution_count": null,
      "outputs": []
    },
    {
      "cell_type": "code",
      "metadata": {
        "id": "87c0610a"
      },
      "source": [
        "VALIDATION_SPLIT = 0.25\n",
        "TRAIN_SPLIT = 0.7\n",
        "\n",
        "nb_training_samples = int(TRAIN_SPLIT * feature.shape[0])\n",
        "nb_validation_samples = int(VALIDATION_SPLIT * feature.shape[0])\n",
        "\n",
        "#Train/Test sets\n",
        "x_train_tf, x_test_tf = feature[:nb_training_samples], feature[nb_training_samples:]\n",
        "y_train_tf, y_test_tf_real = labels1[:nb_training_samples], labels1[nb_training_samples:]\n",
        "\n",
        "# validation sets\n",
        "x_valid_tf = x_train_tf[-nb_validation_samples:]\n",
        "y_valid_tf = y_train_tf[-nb_validation_samples:]"
      ],
      "id": "87c0610a",
      "execution_count": null,
      "outputs": []
    },
    {
      "cell_type": "code",
      "source": [
        "tfidf_vectorizer = TfidfVectorizer(stop_words='english', max_features=10000)\n",
        "tfidf_vectorizer.fit(x_train_tf)\n",
        "x_train_tfid = tfidf_vectorizer.transform(x_train_tf)\n",
        "x_test_tfid = tfidf_vectorizer.transform(x_test_tf)\n",
        "x_valid_tfid = tfidf_vectorizer.transform(x_valid_tf)\n",
        "\n",
        "#y_train_tfid = tf.keras.utils.to_categorical(y_train_tf)\n",
        "#y_valid_tfid = tf.keras.utils.to_categorical(y_valid_tf)"
      ],
      "metadata": {
        "id": "0WZPZ32mFvUc"
      },
      "id": "0WZPZ32mFvUc",
      "execution_count": null,
      "outputs": []
    },
    {
      "cell_type": "code",
      "source": [
        "print(x_train_tfid.shape)\n",
        "print(x_test_tfid.shape)\n",
        "print(x_valid_tfid.shape)"
      ],
      "metadata": {
        "colab": {
          "base_uri": "https://localhost:8080/",
          "height": 176
        },
        "id": "_USRJ8U-8UO6",
        "outputId": "5a5e4a83-d186-42b7-e2aa-e21565ad883b"
      },
      "id": "_USRJ8U-8UO6",
      "execution_count": null,
      "outputs": [
        {
          "output_type": "error",
          "ename": "NameError",
          "evalue": "name 'x_train_tfidf' is not defined",
          "traceback": [
            "\u001b[0;31m---------------------------------------------------------------------------\u001b[0m",
            "\u001b[0;31mNameError\u001b[0m                                 Traceback (most recent call last)",
            "\u001b[0;32m<ipython-input-177-1ed99c9e0f12>\u001b[0m in \u001b[0;36m<cell line: 1>\u001b[0;34m()\u001b[0m\n\u001b[0;32m----> 1\u001b[0;31m \u001b[0mprint\u001b[0m\u001b[0;34m(\u001b[0m\u001b[0mx_train_tfidf\u001b[0m\u001b[0;34m.\u001b[0m\u001b[0mshape\u001b[0m\u001b[0;34m)\u001b[0m\u001b[0;34m\u001b[0m\u001b[0;34m\u001b[0m\u001b[0m\n\u001b[0m\u001b[1;32m      2\u001b[0m \u001b[0mprint\u001b[0m\u001b[0;34m(\u001b[0m\u001b[0mx_test_tfidf\u001b[0m\u001b[0;34m.\u001b[0m\u001b[0mshape\u001b[0m\u001b[0;34m)\u001b[0m\u001b[0;34m\u001b[0m\u001b[0;34m\u001b[0m\u001b[0m\n\u001b[1;32m      3\u001b[0m \u001b[0mprint\u001b[0m\u001b[0;34m(\u001b[0m\u001b[0mx_valid_tfidf\u001b[0m\u001b[0;34m.\u001b[0m\u001b[0mshape\u001b[0m\u001b[0;34m)\u001b[0m\u001b[0;34m\u001b[0m\u001b[0;34m\u001b[0m\u001b[0m\n",
            "\u001b[0;31mNameError\u001b[0m: name 'x_train_tfidf' is not defined"
          ]
        }
      ]
    },
    {
      "cell_type": "code",
      "source": [
        "from sklearn.preprocessing import LabelEncoder\n",
        "\n",
        "encoder = LabelEncoder()\n",
        "encoder.fit(y_train_tf)\n",
        "y_train_tf = encoder.transform(y_train_tf)"
      ],
      "metadata": {
        "id": "VI1Hy9k6P6Jv"
      },
      "id": "VI1Hy9k6P6Jv",
      "execution_count": null,
      "outputs": []
    },
    {
      "cell_type": "code",
      "source": [
        "y_valid_tf = encoder.transform(y_valid_tf)\n",
        "y_test_tf = encoder.transform(y_test_tf_real)\n",
        "y_test_coms_tf = encoder.transform(y_test_tf_real)"
      ],
      "metadata": {
        "id": "LLCkCIMnRv45"
      },
      "id": "LLCkCIMnRv45",
      "execution_count": null,
      "outputs": []
    },
    {
      "cell_type": "code",
      "source": [
        "y_train_tfid = tf.keras.utils.to_categorical(y_train_tf)\n",
        "y_valid_tfid = tf.keras.utils.to_categorical(y_valid_tf)"
      ],
      "metadata": {
        "id": "A5cDOqJSTGPu"
      },
      "id": "A5cDOqJSTGPu",
      "execution_count": null,
      "outputs": []
    },
    {
      "cell_type": "markdown",
      "metadata": {
        "id": "abaf1c17"
      },
      "source": [
        "### Models with TFID Vectorizer\n"
      ],
      "id": "abaf1c17"
    },
    {
      "cell_type": "code",
      "source": [
        "import keras\n",
        "from keras.models import Sequential\n",
        "from keras.layers import Embedding, Dense, Flatten, LSTM\n",
        "from keras.layers import Conv1D, MaxPooling1D, Dropout\n",
        "\n",
        "model_tifid = Sequential()\n",
        "model_tifid.add(Embedding(input_dim=max_words, output_dim = embedding_dim,\n",
        "                          embeddings_initializer = 'he_normal'))\n",
        "model_tifid.add(Conv1D(64, 3, activation = 'relu'))\n",
        "model_tifid.add(MaxPooling1D(5))\n",
        "model_tifid.add(LSTM(32))\n",
        "model_tifid.add(Flatten())\n",
        "model_tifid.add(Dense(units=128, activation='relu'))\n",
        "model_tifid.add(Dropout(0.5))\n",
        "model_tifid.add(Dense(units=80, activation='relu'))\n",
        "model_tifid.add(Dropout(0.5))\n",
        "model_tifid.add(Dropout(0.5))\n",
        "model_tifid.add(Dense(5, activation = 'softmax'))\n",
        "\n",
        "model_tifid.summary()\n",
        "model_tifid.save(\"model_tifid.keras\")"
      ],
      "metadata": {
        "colab": {
          "base_uri": "https://localhost:8080/"
        },
        "id": "KApoJIGQ0nYL",
        "outputId": "75a28127-4732-4239-83d6-226b87209f62"
      },
      "id": "KApoJIGQ0nYL",
      "execution_count": null,
      "outputs": [
        {
          "output_type": "stream",
          "name": "stdout",
          "text": [
            "Model: \"sequential_3\"\n",
            "_________________________________________________________________\n",
            " Layer (type)                Output Shape              Param #   \n",
            "=================================================================\n",
            " embedding (Embedding)       (None, None, 100)         1000000   \n",
            "                                                                 \n",
            " conv1d (Conv1D)             (None, None, 64)          19264     \n",
            "                                                                 \n",
            " max_pooling1d (MaxPooling1  (None, None, 64)          0         \n",
            " D)                                                              \n",
            "                                                                 \n",
            " lstm (LSTM)                 (None, 32)                12416     \n",
            "                                                                 \n",
            " flatten (Flatten)           (None, 32)                0         \n",
            "                                                                 \n",
            " dense_9 (Dense)             (None, 128)               4224      \n",
            "                                                                 \n",
            " dropout_6 (Dropout)         (None, 128)               0         \n",
            "                                                                 \n",
            " dense_10 (Dense)            (None, 80)                10320     \n",
            "                                                                 \n",
            " dropout_7 (Dropout)         (None, 80)                0         \n",
            "                                                                 \n",
            " dropout_8 (Dropout)         (None, 80)                0         \n",
            "                                                                 \n",
            " dense_11 (Dense)            (None, 5)                 405       \n",
            "                                                                 \n",
            "=================================================================\n",
            "Total params: 1046629 (3.99 MB)\n",
            "Trainable params: 1046629 (3.99 MB)\n",
            "Non-trainable params: 0 (0.00 Byte)\n",
            "_________________________________________________________________\n"
          ]
        }
      ]
    },
    {
      "cell_type": "code",
      "source": [
        "x_train_tfid[1].shape"
      ],
      "metadata": {
        "colab": {
          "base_uri": "https://localhost:8080/"
        },
        "id": "iyeJsplIHRLn",
        "outputId": "990902ed-b9a4-4db3-c0a5-ca35a7daad92"
      },
      "id": "iyeJsplIHRLn",
      "execution_count": null,
      "outputs": [
        {
          "output_type": "execute_result",
          "data": {
            "text/plain": [
              "(1, 10000)"
            ]
          },
          "metadata": {},
          "execution_count": 180
        }
      ]
    },
    {
      "cell_type": "code",
      "source": [
        "input_dim = 10000\n",
        "\n",
        "tf.random.set_seed(42)\n",
        "\n",
        "model_opt2 = keras.models.Sequential([\n",
        "    keras.layers.Input(shape = [input_dim]),\n",
        "    keras.layers.Dense(200, activation='selu',\n",
        "                       kernel_initializer=\"lecun_normal\",\n",
        "                       kernel_regularizer=keras.regularizers.l2(0.001),\n",
        "                       kernel_constraint=keras.constraints.max_norm(1.)),\n",
        "    keras.layers.Dropout(0.5),\n",
        "    keras.layers.Dense(100, activation='selu',\n",
        "                       kernel_initializer=\"lecun_normal\",\n",
        "                       kernel_regularizer=keras.regularizers.l2(0.001),\n",
        "                       kernel_constraint=keras.constraints.max_norm(1.)),\n",
        "    keras.layers.Dense(50, activation='selu'),\n",
        "    keras.layers.Dropout(0.5),\n",
        "    keras.layers.Dropout(0.5),\n",
        "    keras.layers.Dense(50, activation='selu'),\n",
        "    keras.layers.Dense(5, activation = 'softmax')\n",
        "])\n",
        "\n",
        "model_opt2.summary()\n",
        "model_opt2.save('model_opt2.keras')"
      ],
      "metadata": {
        "colab": {
          "base_uri": "https://localhost:8080/"
        },
        "id": "cOHpG2H-EF6d",
        "outputId": "d878ced5-7a95-4729-cae5-1ef24645111c"
      },
      "id": "cOHpG2H-EF6d",
      "execution_count": null,
      "outputs": [
        {
          "output_type": "stream",
          "name": "stdout",
          "text": [
            "Model: \"sequential_38\"\n",
            "_________________________________________________________________\n",
            " Layer (type)                Output Shape              Param #   \n",
            "=================================================================\n",
            " dense_151 (Dense)           (None, 200)               2000200   \n",
            "                                                                 \n",
            " dropout_26 (Dropout)        (None, 200)               0         \n",
            "                                                                 \n",
            " dense_152 (Dense)           (None, 100)               20100     \n",
            "                                                                 \n",
            " dense_153 (Dense)           (None, 50)                5050      \n",
            "                                                                 \n",
            " dropout_27 (Dropout)        (None, 50)                0         \n",
            "                                                                 \n",
            " dropout_28 (Dropout)        (None, 50)                0         \n",
            "                                                                 \n",
            " dense_154 (Dense)           (None, 50)                2550      \n",
            "                                                                 \n",
            " dense_155 (Dense)           (None, 5)                 255       \n",
            "                                                                 \n",
            "=================================================================\n",
            "Total params: 2028155 (7.74 MB)\n",
            "Trainable params: 2028155 (7.74 MB)\n",
            "Non-trainable params: 0 (0.00 Byte)\n",
            "_________________________________________________________________\n"
          ]
        }
      ]
    },
    {
      "cell_type": "code",
      "source": [
        "from gc import callbacks\n",
        "model_opt2.compile(\n",
        "    optimizer = keras.optimizers.RMSprop(),\n",
        "    loss= keras.losses.SparseCategoricalCrossentropy(),\n",
        "    metrics=['accuracy']\n",
        ")"
      ],
      "metadata": {
        "id": "1kIRsjWm4Jl2"
      },
      "id": "1kIRsjWm4Jl2",
      "execution_count": null,
      "outputs": []
    },
    {
      "cell_type": "code",
      "source": [
        "def convert_sparse_matrix_to_sparse_tensor(X):\n",
        "    coo = X.tocoo()\n",
        "    indices = np.mat([coo.row, coo.col]).transpose()\n",
        "    sparse_tensor = tf.SparseTensor(indices, coo.data, coo.shape)\n",
        "    return tf.sparse.reorder(sparse_tensor)"
      ],
      "metadata": {
        "id": "S7kiZMeOQVn4"
      },
      "id": "S7kiZMeOQVn4",
      "execution_count": null,
      "outputs": []
    },
    {
      "cell_type": "code",
      "source": [
        "sparse_x_train = convert_sparse_matrix_to_sparse_tensor(x_train_tfid)\n",
        "sparse_x_valid = convert_sparse_matrix_to_sparse_tensor(x_valid_tfid)\n",
        "sparse_x_test = convert_sparse_matrix_to_sparse_tensor(x_test_tfid)"
      ],
      "metadata": {
        "id": "Xfrd0ogAQWu6"
      },
      "id": "Xfrd0ogAQWu6",
      "execution_count": null,
      "outputs": []
    },
    {
      "cell_type": "code",
      "source": [
        "x_train_dense = tf.sparse.to_dense(sparse_x_train)\n",
        "x_valid_dense = tf.sparse.to_dense(sparse_x_valid)"
      ],
      "metadata": {
        "id": "ti1-PERIWbDT"
      },
      "id": "ti1-PERIWbDT",
      "execution_count": null,
      "outputs": []
    },
    {
      "cell_type": "code",
      "source": [
        "history_tfid = model_opt2.fit(sparse_x_train, y_train_tf,\n",
        "                    epochs=20,\n",
        "                    validation_data = (sparse_x_valid, y_valid_tf),\n",
        "                    callbacks = my_callbacks)"
      ],
      "metadata": {
        "colab": {
          "base_uri": "https://localhost:8080/"
        },
        "id": "RerO1jzn4kKH",
        "outputId": "7342e407-f440-4cde-afe2-029f1dff1d48"
      },
      "id": "RerO1jzn4kKH",
      "execution_count": null,
      "outputs": [
        {
          "output_type": "stream",
          "name": "stdout",
          "text": [
            "Epoch 1/20\n",
            "219/219 [==============================] - 10s 39ms/step - loss: 1.2287 - accuracy: 0.6096 - val_loss: 0.7885 - val_accuracy: 0.8204 - lr: 0.0010\n",
            "Epoch 2/20\n",
            "219/219 [==============================] - 7s 33ms/step - loss: 1.3483 - accuracy: 0.5664 - val_loss: 0.8913 - val_accuracy: 0.8272 - lr: 0.0010\n",
            "Epoch 3/20\n",
            "219/219 [==============================] - 8s 38ms/step - loss: 1.3860 - accuracy: 0.5544 - val_loss: 0.9771 - val_accuracy: 0.7888 - lr: 0.0010\n",
            "Epoch 4/20\n",
            "219/219 [==============================] - 7s 34ms/step - loss: 1.4257 - accuracy: 0.5389 - val_loss: 1.0239 - val_accuracy: 0.7628 - lr: 0.0010\n",
            "Epoch 5/20\n",
            "219/219 [==============================] - 7s 34ms/step - loss: 1.4307 - accuracy: 0.5299 - val_loss: 1.1084 - val_accuracy: 0.7324 - lr: 0.0010\n",
            "Epoch 6/20\n",
            "219/219 [==============================] - 9s 40ms/step - loss: 1.4447 - accuracy: 0.5237 - val_loss: 1.1950 - val_accuracy: 0.6412 - lr: 0.0010\n",
            "Epoch 7/20\n",
            "219/219 [==============================] - 7s 33ms/step - loss: 1.4460 - accuracy: 0.5264 - val_loss: 1.0926 - val_accuracy: 0.7328 - lr: 0.0010\n",
            "Epoch 8/20\n",
            "219/219 [==============================] - 7s 33ms/step - loss: 1.4472 - accuracy: 0.5237 - val_loss: 1.0539 - val_accuracy: 0.7608 - lr: 0.0010\n",
            "Epoch 9/20\n",
            "219/219 [==============================] - 8s 36ms/step - loss: 1.4380 - accuracy: 0.5271 - val_loss: 1.0516 - val_accuracy: 0.7580 - lr: 0.0010\n",
            "Epoch 10/20\n",
            "219/219 [==============================] - 8s 37ms/step - loss: 1.4439 - accuracy: 0.5256 - val_loss: 1.0451 - val_accuracy: 0.7560 - lr: 0.0010\n",
            "Epoch 11/20\n",
            "219/219 [==============================] - 7s 33ms/step - loss: 1.3919 - accuracy: 0.5470 - val_loss: 0.9749 - val_accuracy: 0.7784 - lr: 9.0484e-04\n"
          ]
        }
      ]
    },
    {
      "cell_type": "code",
      "source": [
        "pd.DataFrame(history_tfid.history).plot(figsize=(8, 5))\n",
        "plt.grid(True)\n",
        "plt.gca().set_ylim(0, 1)\n",
        "plt.show()"
      ],
      "metadata": {
        "id": "JtXYKZt7Vp3K",
        "colab": {
          "base_uri": "https://localhost:8080/",
          "height": 451
        },
        "outputId": "cf80a2d2-da14-4cef-b0a2-d8af96409c21"
      },
      "id": "JtXYKZt7Vp3K",
      "execution_count": null,
      "outputs": [
        {
          "output_type": "display_data",
          "data": {
            "text/plain": [
              "<Figure size 800x500 with 1 Axes>"
            ],
            "image/png": "[encoded data removed]"
          },
          "metadata": {}
        }
      ]
    },
    {
      "cell_type": "code",
      "source": [
        "model_opt2.evaluate(sparse_x_test, y_test_tf)"
      ],
      "metadata": {
        "colab": {
          "base_uri": "https://localhost:8080/"
        },
        "id": "20ISy4Tn2N_n",
        "outputId": "0eaef664-436d-4172-8c9a-a5f5ce4f7caf"
      },
      "id": "20ISy4Tn2N_n",
      "execution_count": null,
      "outputs": [
        {
          "output_type": "stream",
          "name": "stdout",
          "text": [
            "94/94 [==============================] - 1s 6ms/step - loss: 2.4413 - accuracy: 0.1950\n"
          ]
        },
        {
          "output_type": "execute_result",
          "data": {
            "text/plain": [
              "[2.4413235187530518, 0.19499999284744263]"
            ]
          },
          "metadata": {},
          "execution_count": 187
        }
      ]
    },
    {
      "cell_type": "code",
      "source": [
        "from sklearn.svm import SVC\n",
        "from sklearn.model_selection import GridSearchCV, cross_val_score\n",
        "from sklearn.model_selection import KFold\n",
        "from sklearn.ensemble import AdaBoostClassifier\n",
        "from sklearn.multiclass import OneVsRestClassifier\n",
        "from sklearn.model_selection import train_test_split\n",
        "from sklearn.tree import DecisionTreeClassifier\n",
        "\n",
        "cv = KFold(n_splits=10, shuffle=True, random_state=42)"
      ],
      "metadata": {
        "id": "neTb6YQdd-Le"
      },
      "id": "neTb6YQdd-Le",
      "execution_count": null,
      "outputs": []
    },
    {
      "cell_type": "code",
      "source": [
        "alldata_en = alldata[['content', 'category']]"
      ],
      "metadata": {
        "id": "mJmZ1r2oeg4d"
      },
      "id": "mJmZ1r2oeg4d",
      "execution_count": null,
      "outputs": []
    },
    {
      "cell_type": "markdown",
      "source": [
        "**Preparing TFID vectors for OneVsRest Model**"
      ],
      "metadata": {
        "id": "R88MlWgojwMZ"
      },
      "id": "R88MlWgojwMZ"
    },
    {
      "cell_type": "code",
      "source": [
        "x_train_tf, x_test_tf, y_train_tf, y_test_tf = train_test_split(alldata_en['content'],\n",
        "                                                                alldata_en['category'],\n",
        "                                                                test_size = 0.3, random_state=42)\n",
        "\n",
        "tfidf_vectorizer = TfidfVectorizer(stop_words='english', max_features=10000)\n",
        "tfidf_vectorizer.fit(x_train_tf)\n",
        "x_train_tfid = tfidf_vectorizer.fit_transform(x_train_tf)\n",
        "x_test_tfid = tfidf_vectorizer.transform(x_test_tf)"
      ],
      "metadata": {
        "id": "fH5wW7mYj8Ey"
      },
      "id": "fH5wW7mYj8Ey",
      "execution_count": null,
      "outputs": []
    },
    {
      "cell_type": "code",
      "source": [
        "#tree = DecisionTreeClassifier()\n",
        "parameters = {\n",
        "    'max_depth':[2, 4, 6, 8],\n",
        "    'min_samples_split':[2, 5, 10],\n",
        "    'min_samples_leaf':[2, 5, 10]\n",
        "    }\n",
        "#clftree = GridSearchCV(tree, parameters, cv=cv)\n",
        "#clftree.fit(x_train_tfid, y_train_tf)\n",
        "#besttree = clftree.best_estimator_\n",
        "#DecisionTreeClassifier(max_depth=8, min_samples_leaf=5, min_samples_split=10)"
      ],
      "metadata": {
        "id": "8XJto9sjVYzF"
      },
      "id": "8XJto9sjVYzF",
      "execution_count": null,
      "outputs": []
    },
    {
      "cell_type": "code",
      "source": [
        "tree = DecisionTreeClassifier()"
      ],
      "metadata": {
        "id": "S60Tr6h_kvjp"
      },
      "id": "S60Tr6h_kvjp",
      "execution_count": null,
      "outputs": []
    },
    {
      "cell_type": "code",
      "source": [
        "parameters = {\n",
        "    'n_estimators': [50, 100, 200],\n",
        "    'learning_rate': [0.1, 0.01, 0.001]\n",
        "    }\n",
        "\n",
        "ada_clf = AdaBoostClassifier(estimator=tree, algorithm=\"SAMME.R\")\n"
      ],
      "metadata": {
        "id": "ZwGJGtyLmCUA"
      },
      "id": "ZwGJGtyLmCUA",
      "execution_count": null,
      "outputs": []
    },
    {
      "cell_type": "code",
      "source": [
        "grid_search = GridSearchCV(ada_clf, param_grid=parameters, cv=cv)"
      ],
      "metadata": {
        "id": "z9nYyO-HjvRB"
      },
      "id": "z9nYyO-HjvRB",
      "execution_count": null,
      "outputs": []
    },
    {
      "cell_type": "code",
      "source": [
        "grid_search.fit(x_train_tfid, y_train_tf)"
      ],
      "metadata": {
        "colab": {
          "base_uri": "https://localhost:8080/",
          "height": 156
        },
        "id": "Ys9lqUp-ulgH",
        "outputId": "47132b4a-581d-42ba-b929-d20a31fc466e"
      },
      "id": "Ys9lqUp-ulgH",
      "execution_count": null,
      "outputs": [
        {
          "output_type": "execute_result",
          "data": {
            "text/plain": [
              "GridSearchCV(cv=KFold(n_splits=10, random_state=42, shuffle=True),\n",
              "             estimator=AdaBoostClassifier(estimator=DecisionTreeClassifier()),\n",
              "             param_grid={'learning_rate': [0.1, 0.01, 0.001],\n",
              "                         'n_estimators': [50, 100, 200]})"
            ],
            "text/html": [
              "<style>#sk-container-id-6 {color: black;background-color: white;}#sk-container-id-6 pre{padding: 0;}#sk-container-id-6 div.sk-toggleable {background-color: white;}#sk-container-id-6 label.sk-toggleable__label {cursor: pointer;display: block;width: 100%;margin-bottom: 0;padding: 0.3em;box-sizing: border-box;text-align: center;}#sk-container-id-6 label.sk-toggleable__label-arrow:before {content: \"▸\";float: left;margin-right: 0.25em;color: #696969;}#sk-container-id-6 label.sk-toggleable__label-arrow:hover:before {color: black;}#sk-container-id-6 div.sk-estimator:hover label.sk-toggleable__label-arrow:before {color: black;}#sk-container-id-6 div.sk-toggleable__content {max-height: 0;max-width: 0;overflow: hidden;text-align: left;background-color: #f0f8ff;}#sk-container-id-6 div.sk-toggleable__content pre {margin: 0.2em;color: black;border-radius: 0.25em;background-color: #f0f8ff;}#sk-container-id-6 input.sk-toggleable__control:checked~div.sk-toggleable__content {max-height: 200px;max-width: 100%;overflow: auto;}#sk-container-id-6 input.sk-toggleable__control:checked~label.sk-toggleable__label-arrow:before {content: \"▾\";}#sk-container-id-6 div.sk-estimator input.sk-toggleable__control:checked~label.sk-toggleable__label {background-color: #d4ebff;}#sk-container-id-6 div.sk-label input.sk-toggleable__control:checked~label.sk-toggleable__label {background-color: #d4ebff;}#sk-container-id-6 input.sk-hidden--visually {border: 0;clip: rect(1px 1px 1px 1px);clip: rect(1px, 1px, 1px, 1px);height: 1px;margin: -1px;overflow: hidden;padding: 0;position: absolute;width: 1px;}#sk-container-id-6 div.sk-estimator {font-family: monospace;background-color: #f0f8ff;border: 1px dotted black;border-radius: 0.25em;box-sizing: border-box;margin-bottom: 0.5em;}#sk-container-id-6 div.sk-estimator:hover {background-color: #d4ebff;}#sk-container-id-6 div.sk-parallel-item::after {content: \"\";width: 100%;border-bottom: 1px solid gray;flex-grow: 1;}#sk-container-id-6 div.sk-label:hover label.sk-toggleable__label {background-color: #d4ebff;}#sk-container-id-6 div.sk-serial::before {content: \"\";position: absolute;border-left: 1px solid gray;box-sizing: border-box;top: 0;bottom: 0;left: 50%;z-index: 0;}#sk-container-id-6 div.sk-serial {display: flex;flex-direction: column;align-items: center;background-color: white;padding-right: 0.2em;padding-left: 0.2em;position: relative;}#sk-container-id-6 div.sk-item {position: relative;z-index: 1;}#sk-container-id-6 div.sk-parallel {display: flex;align-items: stretch;justify-content: center;background-color: white;position: relative;}#sk-container-id-6 div.sk-item::before, #sk-container-id-6 div.sk-parallel-item::before {content: \"\";position: absolute;border-left: 1px solid gray;box-sizing: border-box;top: 0;bottom: 0;left: 50%;z-index: -1;}#sk-container-id-6 div.sk-parallel-item {display: flex;flex-direction: column;z-index: 1;position: relative;background-color: white;}#sk-container-id-6 div.sk-parallel-item:first-child::after {align-self: flex-end;width: 50%;}#sk-container-id-6 div.sk-parallel-item:last-child::after {align-self: flex-start;width: 50%;}#sk-container-id-6 div.sk-parallel-item:only-child::after {width: 0;}#sk-container-id-6 div.sk-dashed-wrapped {border: 1px dashed gray;margin: 0 0.4em 0.5em 0.4em;box-sizing: border-box;padding-bottom: 0.4em;background-color: white;}#sk-container-id-6 div.sk-label label {font-family: monospace;font-weight: bold;display: inline-block;line-height: 1.2em;}#sk-container-id-6 div.sk-label-container {text-align: center;}#sk-container-id-6 div.sk-container {/* jupyter's `normalize.less` sets `[hidden] { display: none; }` but bootstrap.min.css set `[hidden] { display: none !important; }` so we also need the `!important` here to be able to override the default hidden behavior on the sphinx rendered scikit-learn.org. See: https://github.com/scikit-learn/scikit-learn/issues/21755 */display: inline-block !important;position: relative;}#sk-container-id-6 div.sk-text-repr-fallback {display: none;}</style><div id=\"sk-container-id-6\" class=\"sk-top-container\"><div class=\"sk-text-repr-fallback\"><pre>GridSearchCV(cv=KFold(n_splits=10, random_state=42, shuffle=True),\n",
              "             estimator=AdaBoostClassifier(estimator=DecisionTreeClassifier()),\n",
              "             param_grid={&#x27;learning_rate&#x27;: [0.1, 0.01, 0.001],\n",
              "                         &#x27;n_estimators&#x27;: [50, 100, 200]})</pre><b>In a Jupyter environment, please rerun this cell to show the HTML representation or trust the notebook. <br />On GitHub, the HTML representation is unable to render, please try loading this page with nbviewer.org.</b></div><div class=\"sk-container\" hidden><div class=\"sk-item sk-dashed-wrapped\"><div class=\"sk-label-container\"><div class=\"sk-label sk-toggleable\"><input class=\"sk-toggleable__control sk-hidden--visually\" id=\"sk-estimator-id-21\" type=\"checkbox\" ><label for=\"sk-estimator-id-21\" class=\"sk-toggleable__label sk-toggleable__label-arrow\">GridSearchCV</label><div class=\"sk-toggleable__content\"><pre>GridSearchCV(cv=KFold(n_splits=10, random_state=42, shuffle=True),\n",
              "             estimator=AdaBoostClassifier(estimator=DecisionTreeClassifier()),\n",
              "             param_grid={&#x27;learning_rate&#x27;: [0.1, 0.01, 0.001],\n",
              "                         &#x27;n_estimators&#x27;: [50, 100, 200]})</pre></div></div></div><div class=\"sk-parallel\"><div class=\"sk-parallel-item\"><div class=\"sk-item\"><div class=\"sk-label-container\"><div class=\"sk-label sk-toggleable\"><input class=\"sk-toggleable__control sk-hidden--visually\" id=\"sk-estimator-id-22\" type=\"checkbox\" ><label for=\"sk-estimator-id-22\" class=\"sk-toggleable__label sk-toggleable__label-arrow\">estimator: AdaBoostClassifier</label><div class=\"sk-toggleable__content\"><pre>AdaBoostClassifier(estimator=DecisionTreeClassifier())</pre></div></div></div><div class=\"sk-serial\"><div class=\"sk-item sk-dashed-wrapped\"><div class=\"sk-parallel\"><div class=\"sk-parallel-item\"><div class=\"sk-item\"><div class=\"sk-label-container\"><div class=\"sk-label sk-toggleable\"><input class=\"sk-toggleable__control sk-hidden--visually\" id=\"sk-estimator-id-23\" type=\"checkbox\" ><label for=\"sk-estimator-id-23\" class=\"sk-toggleable__label sk-toggleable__label-arrow\">estimator: DecisionTreeClassifier</label><div class=\"sk-toggleable__content\"><pre>DecisionTreeClassifier()</pre></div></div></div><div class=\"sk-serial\"><div class=\"sk-item\"><div class=\"sk-estimator sk-toggleable\"><input class=\"sk-toggleable__control sk-hidden--visually\" id=\"sk-estimator-id-24\" type=\"checkbox\" ><label for=\"sk-estimator-id-24\" class=\"sk-toggleable__label sk-toggleable__label-arrow\">DecisionTreeClassifier</label><div class=\"sk-toggleable__content\"><pre>DecisionTreeClassifier()</pre></div></div></div></div></div></div></div></div></div></div></div></div></div></div></div>"
            ]
          },
          "metadata": {},
          "execution_count": 40
        }
      ]
    },
    {
      "cell_type": "code",
      "source": [
        "ada_clf_tfid = grid_search.best_estimator_"
      ],
      "metadata": {
        "id": "wPqQ1lRu1q9W"
      },
      "id": "wPqQ1lRu1q9W",
      "execution_count": null,
      "outputs": []
    },
    {
      "cell_type": "code",
      "source": [
        "ovr = OneVsRestClassifier(ada_clf_tfid)"
      ],
      "metadata": {
        "id": "dJQPO7snUG8m"
      },
      "id": "dJQPO7snUG8m",
      "execution_count": null,
      "outputs": []
    },
    {
      "cell_type": "code",
      "source": [
        "ovr.fit(x_train_tfid, y_train_tf)"
      ],
      "metadata": {
        "colab": {
          "base_uri": "https://localhost:8080/",
          "height": 156
        },
        "id": "__eJ5dK9VDWK",
        "outputId": "ffbea288-d0c7-497f-9deb-067d0a16ddc8"
      },
      "id": "__eJ5dK9VDWK",
      "execution_count": null,
      "outputs": [
        {
          "output_type": "execute_result",
          "data": {
            "text/plain": [
              "OneVsRestClassifier(estimator=AdaBoostClassifier(estimator=DecisionTreeClassifier(),\n",
              "                                                 learning_rate=0.1,\n",
              "                                                 n_estimators=200))"
            ],
            "text/html": [
              "<style>#sk-container-id-7 {color: black;background-color: white;}#sk-container-id-7 pre{padding: 0;}#sk-container-id-7 div.sk-toggleable {background-color: white;}#sk-container-id-7 label.sk-toggleable__label {cursor: pointer;display: block;width: 100%;margin-bottom: 0;padding: 0.3em;box-sizing: border-box;text-align: center;}#sk-container-id-7 label.sk-toggleable__label-arrow:before {content: \"▸\";float: left;margin-right: 0.25em;color: #696969;}#sk-container-id-7 label.sk-toggleable__label-arrow:hover:before {color: black;}#sk-container-id-7 div.sk-estimator:hover label.sk-toggleable__label-arrow:before {color: black;}#sk-container-id-7 div.sk-toggleable__content {max-height: 0;max-width: 0;overflow: hidden;text-align: left;background-color: #f0f8ff;}#sk-container-id-7 div.sk-toggleable__content pre {margin: 0.2em;color: black;border-radius: 0.25em;background-color: #f0f8ff;}#sk-container-id-7 input.sk-toggleable__control:checked~div.sk-toggleable__content {max-height: 200px;max-width: 100%;overflow: auto;}#sk-container-id-7 input.sk-toggleable__control:checked~label.sk-toggleable__label-arrow:before {content: \"▾\";}#sk-container-id-7 div.sk-estimator input.sk-toggleable__control:checked~label.sk-toggleable__label {background-color: #d4ebff;}#sk-container-id-7 div.sk-label input.sk-toggleable__control:checked~label.sk-toggleable__label {background-color: #d4ebff;}#sk-container-id-7 input.sk-hidden--visually {border: 0;clip: rect(1px 1px 1px 1px);clip: rect(1px, 1px, 1px, 1px);height: 1px;margin: -1px;overflow: hidden;padding: 0;position: absolute;width: 1px;}#sk-container-id-7 div.sk-estimator {font-family: monospace;background-color: #f0f8ff;border: 1px dotted black;border-radius: 0.25em;box-sizing: border-box;margin-bottom: 0.5em;}#sk-container-id-7 div.sk-estimator:hover {background-color: #d4ebff;}#sk-container-id-7 div.sk-parallel-item::after {content: \"\";width: 100%;border-bottom: 1px solid gray;flex-grow: 1;}#sk-container-id-7 div.sk-label:hover label.sk-toggleable__label {background-color: #d4ebff;}#sk-container-id-7 div.sk-serial::before {content: \"\";position: absolute;border-left: 1px solid gray;box-sizing: border-box;top: 0;bottom: 0;left: 50%;z-index: 0;}#sk-container-id-7 div.sk-serial {display: flex;flex-direction: column;align-items: center;background-color: white;padding-right: 0.2em;padding-left: 0.2em;position: relative;}#sk-container-id-7 div.sk-item {position: relative;z-index: 1;}#sk-container-id-7 div.sk-parallel {display: flex;align-items: stretch;justify-content: center;background-color: white;position: relative;}#sk-container-id-7 div.sk-item::before, #sk-container-id-7 div.sk-parallel-item::before {content: \"\";position: absolute;border-left: 1px solid gray;box-sizing: border-box;top: 0;bottom: 0;left: 50%;z-index: -1;}#sk-container-id-7 div.sk-parallel-item {display: flex;flex-direction: column;z-index: 1;position: relative;background-color: white;}#sk-container-id-7 div.sk-parallel-item:first-child::after {align-self: flex-end;width: 50%;}#sk-container-id-7 div.sk-parallel-item:last-child::after {align-self: flex-start;width: 50%;}#sk-container-id-7 div.sk-parallel-item:only-child::after {width: 0;}#sk-container-id-7 div.sk-dashed-wrapped {border: 1px dashed gray;margin: 0 0.4em 0.5em 0.4em;box-sizing: border-box;padding-bottom: 0.4em;background-color: white;}#sk-container-id-7 div.sk-label label {font-family: monospace;font-weight: bold;display: inline-block;line-height: 1.2em;}#sk-container-id-7 div.sk-label-container {text-align: center;}#sk-container-id-7 div.sk-container {/* jupyter's `normalize.less` sets `[hidden] { display: none; }` but bootstrap.min.css set `[hidden] { display: none !important; }` so we also need the `!important` here to be able to override the default hidden behavior on the sphinx rendered scikit-learn.org. See: https://github.com/scikit-learn/scikit-learn/issues/21755 */display: inline-block !important;position: relative;}#sk-container-id-7 div.sk-text-repr-fallback {display: none;}</style><div id=\"sk-container-id-7\" class=\"sk-top-container\"><div class=\"sk-text-repr-fallback\"><pre>OneVsRestClassifier(estimator=AdaBoostClassifier(estimator=DecisionTreeClassifier(),\n",
              "                                                 learning_rate=0.1,\n",
              "                                                 n_estimators=200))</pre><b>In a Jupyter environment, please rerun this cell to show the HTML representation or trust the notebook. <br />On GitHub, the HTML representation is unable to render, please try loading this page with nbviewer.org.</b></div><div class=\"sk-container\" hidden><div class=\"sk-item sk-dashed-wrapped\"><div class=\"sk-label-container\"><div class=\"sk-label sk-toggleable\"><input class=\"sk-toggleable__control sk-hidden--visually\" id=\"sk-estimator-id-25\" type=\"checkbox\" ><label for=\"sk-estimator-id-25\" class=\"sk-toggleable__label sk-toggleable__label-arrow\">OneVsRestClassifier</label><div class=\"sk-toggleable__content\"><pre>OneVsRestClassifier(estimator=AdaBoostClassifier(estimator=DecisionTreeClassifier(),\n",
              "                                                 learning_rate=0.1,\n",
              "                                                 n_estimators=200))</pre></div></div></div><div class=\"sk-parallel\"><div class=\"sk-parallel-item\"><div class=\"sk-item\"><div class=\"sk-label-container\"><div class=\"sk-label sk-toggleable\"><input class=\"sk-toggleable__control sk-hidden--visually\" id=\"sk-estimator-id-26\" type=\"checkbox\" ><label for=\"sk-estimator-id-26\" class=\"sk-toggleable__label sk-toggleable__label-arrow\">estimator: AdaBoostClassifier</label><div class=\"sk-toggleable__content\"><pre>AdaBoostClassifier(estimator=DecisionTreeClassifier(), learning_rate=0.1,\n",
              "                   n_estimators=200)</pre></div></div></div><div class=\"sk-serial\"><div class=\"sk-item sk-dashed-wrapped\"><div class=\"sk-parallel\"><div class=\"sk-parallel-item\"><div class=\"sk-item\"><div class=\"sk-label-container\"><div class=\"sk-label sk-toggleable\"><input class=\"sk-toggleable__control sk-hidden--visually\" id=\"sk-estimator-id-27\" type=\"checkbox\" ><label for=\"sk-estimator-id-27\" class=\"sk-toggleable__label sk-toggleable__label-arrow\">estimator: DecisionTreeClassifier</label><div class=\"sk-toggleable__content\"><pre>DecisionTreeClassifier()</pre></div></div></div><div class=\"sk-serial\"><div class=\"sk-item\"><div class=\"sk-estimator sk-toggleable\"><input class=\"sk-toggleable__control sk-hidden--visually\" id=\"sk-estimator-id-28\" type=\"checkbox\" ><label for=\"sk-estimator-id-28\" class=\"sk-toggleable__label sk-toggleable__label-arrow\">DecisionTreeClassifier</label><div class=\"sk-toggleable__content\"><pre>DecisionTreeClassifier()</pre></div></div></div></div></div></div></div></div></div></div></div></div></div></div></div>"
            ]
          },
          "metadata": {},
          "execution_count": 43
        }
      ]
    },
    {
      "cell_type": "code",
      "source": [
        "ypreds_ovr = ovr.predict(x_test_tfid)\n",
        "\n",
        "scorestree = cross_val_score(ovr, x_train_tfid, y_train_tf)\n",
        "print(\"Cross-validation scores Tree: \", np.round(np.mean(scorestree),3))"
      ],
      "metadata": {
        "colab": {
          "base_uri": "https://localhost:8080/"
        },
        "id": "ZMcHuEch_FtL",
        "outputId": "98609094-8a4c-43b2-eded-f5691c16db72"
      },
      "id": "ZMcHuEch_FtL",
      "execution_count": null,
      "outputs": [
        {
          "output_type": "stream",
          "name": "stdout",
          "text": [
            "Cross-validation scores Tree:  0.891\n"
          ]
        }
      ]
    },
    {
      "cell_type": "code",
      "source": [
        "from sklearn.metrics import ConfusionMatrixDisplay, classification_report\n",
        "cm_ovr = classification_report(y_test_tf, ypreds_ovr)\n",
        "print(cm_ovr)"
      ],
      "metadata": {
        "colab": {
          "base_uri": "https://localhost:8080/"
        },
        "id": "GE9OQhzxE99k",
        "outputId": "b3e281be-e30b-4395-ba1c-7933abda7ba5"
      },
      "id": "GE9OQhzxE99k",
      "execution_count": null,
      "outputs": [
        {
          "output_type": "stream",
          "name": "stdout",
          "text": [
            "               precision    recall  f1-score   support\n",
            "\n",
            "     business       0.98      0.83      0.90       591\n",
            "    education       0.98      0.89      0.93       626\n",
            "entertainment       0.98      0.91      0.94       610\n",
            "       sports       0.93      0.91      0.92       584\n",
            "   technology       0.72      0.97      0.83       589\n",
            "\n",
            "     accuracy                           0.90      3000\n",
            "    macro avg       0.92      0.90      0.90      3000\n",
            " weighted avg       0.92      0.90      0.90      3000\n",
            "\n"
          ]
        }
      ]
    },
    {
      "cell_type": "code",
      "source": [
        "fig, ax = plt.subplots(figsize=(10, 5))\n",
        "disp2 = ConfusionMatrixDisplay.from_predictions(y_test_tf, ypreds_ovr, ax=ax,\n",
        "                                               xticks_rotation=\"vertical\")\n",
        "ax.xaxis.set_ticklabels(classnames.values())\n",
        "ax.yaxis.set_ticklabels(classnames.values())\n",
        "plt.title(\"Confusion Matrix Model with Tfid representation Adaboost/OneVsRest model\")"
      ],
      "metadata": {
        "colab": {
          "base_uri": "https://localhost:8080/",
          "height": 590
        },
        "id": "wHhCg15lHroM",
        "outputId": "f844b764-27d5-4cbb-e101-09ea5a929feb"
      },
      "id": "wHhCg15lHroM",
      "execution_count": null,
      "outputs": [
        {
          "output_type": "execute_result",
          "data": {
            "text/plain": [
              "Text(0.5, 1.0, 'Confusion Matrix Model with Tfid representation Adaboost/OneVsRest model')"
            ]
          },
          "metadata": {},
          "execution_count": 55
        },
        {
          "output_type": "display_data",
          "data": {
            "text/plain": [
              "<Figure size 1000x500 with 2 Axes>"
            ],
            "image/png": "[encoded data removed]"
          },
          "metadata": {}
        }
      ]
    },
    {
      "cell_type": "markdown",
      "metadata": {
        "id": "077854d3"
      },
      "source": [
        "### Using pretrained word embeddings\n"
      ],
      "id": "077854d3"
    },
    {
      "cell_type": "code",
      "metadata": {
        "colab": {
          "base_uri": "https://localhost:8080/"
        },
        "id": "c4876f85",
        "outputId": "85a4aba7-9ff9-42f5-bd6c-5991b5ef03bb"
      },
      "source": [
        "# Tokenize feature\n",
        "\n",
        "from tf_keras.preprocessing.text import Tokenizer\n",
        "from keras.preprocessing.sequence import pad_sequences\n",
        "\n",
        "maxlen = 100\n",
        "max_words = 10000\n",
        "\n",
        "tokenizer = Tokenizer(num_words=max_words)\n",
        "tokenizer.fit_on_texts(feature)\n",
        "sequences = tokenizer.texts_to_sequences(feature)\n",
        "\n",
        "word_index = tokenizer.word_index\n",
        "\n",
        "data = pad_sequences(sequences, maxlen=maxlen)\n",
        "\n",
        "labels = np.asarray(targets)\n",
        "print('Shape of data tensor:', data.shape)\n",
        "print('Shape of label tensor:', labels.shape)\n",
        "\n",
        "indices = np.arange(data.shape[0])\n",
        "np.random.shuffle(indices)\n",
        "data = data[indices]\n",
        "labels = labels[indices]"
      ],
      "id": "c4876f85",
      "execution_count": 98,
      "outputs": [
        {
          "output_type": "stream",
          "name": "stdout",
          "text": [
            "Shape of data tensor: (10000, 100)\n",
            "Shape of label tensor: (10000,)\n"
          ]
        }
      ]
    },
    {
      "cell_type": "code",
      "metadata": {
        "id": "c5dede9c"
      },
      "source": [
        "VALIDATION_SPLIT = 0.25\n",
        "TRAIN_SPLIT = 0.7\n",
        "\n",
        "nb_training_samples = int(TRAIN_SPLIT * data.shape[0])\n",
        "nb_validation_samples = int(VALIDATION_SPLIT * data.shape[0])\n",
        "\n",
        "#Train/Test sets\n",
        "x_train, x_test = data[:nb_training_samples], data[nb_training_samples:]\n",
        "y_train, y_test_real = labels[:nb_training_samples], labels[nb_training_samples:]\n",
        "\n",
        "# validation sets\n",
        "x_valid = x_train[-nb_validation_samples:]\n",
        "y_valid = y_train[-nb_validation_samples:]"
      ],
      "id": "c5dede9c",
      "execution_count": 99,
      "outputs": []
    },
    {
      "cell_type": "code",
      "source": [
        "print(y_train[0:10])\n",
        "#print(type(y_valid))"
      ],
      "metadata": {
        "colab": {
          "base_uri": "https://localhost:8080/"
        },
        "id": "NwhQXecasEzZ",
        "outputId": "4c2770ad-f9c7-4196-c38a-21daf0a5bde7"
      },
      "id": "NwhQXecasEzZ",
      "execution_count": 23,
      "outputs": [
        {
          "output_type": "stream",
          "name": "stdout",
          "text": [
            "['technology' 'education' 'entertainment' 'sports' 'entertainment'\n",
            " 'business' 'sports' 'education' 'education' 'sports']\n"
          ]
        }
      ]
    },
    {
      "cell_type": "code",
      "source": [
        "from sklearn.preprocessing import LabelEncoder\n",
        "\n",
        "encoder = LabelEncoder()\n",
        "encoder.fit(y_train)\n",
        "y_train = encoder.transform(y_train)"
      ],
      "metadata": {
        "id": "VCjZdu2Ps0S-"
      },
      "id": "VCjZdu2Ps0S-",
      "execution_count": 100,
      "outputs": []
    },
    {
      "cell_type": "code",
      "source": [
        "y_valid = encoder.transform(y_valid)\n",
        "y_test = encoder.transform(y_test_real)\n",
        "y_test_coms = encoder.transform(y_test_real)"
      ],
      "metadata": {
        "id": "ItAjfufczMle"
      },
      "id": "ItAjfufczMle",
      "execution_count": 101,
      "outputs": []
    },
    {
      "cell_type": "code",
      "source": [
        "y_train = keras.utils.to_categorical(y_train)\n",
        "y_valid = keras.utils.to_categorical(y_valid)\n",
        "y_test = keras.utils.to_categorical(y_test)"
      ],
      "metadata": {
        "id": "9ZvsbFP2qrCJ"
      },
      "id": "9ZvsbFP2qrCJ",
      "execution_count": 102,
      "outputs": []
    },
    {
      "cell_type": "code",
      "source": [
        "print(y_train)"
      ],
      "metadata": {
        "colab": {
          "base_uri": "https://localhost:8080/"
        },
        "id": "ct5tSOx_Ap83",
        "outputId": "8a7691c9-4a6a-406b-8c25-4f64c154b69d"
      },
      "id": "ct5tSOx_Ap83",
      "execution_count": 103,
      "outputs": [
        {
          "output_type": "stream",
          "name": "stdout",
          "text": [
            "[[0. 1. 0. 0. 0.]\n",
            " [1. 0. 0. 0. 0.]\n",
            " [0. 1. 0. 0. 0.]\n",
            " ...\n",
            " [0. 1. 0. 0. 0.]\n",
            " [0. 1. 0. 0. 0.]\n",
            " [0. 1. 0. 0. 0.]]\n"
          ]
        }
      ]
    },
    {
      "cell_type": "markdown",
      "metadata": {
        "id": "6c238314"
      },
      "source": [
        "### Model with Word embeddings\n"
      ],
      "id": "6c238314"
    },
    {
      "cell_type": "code",
      "metadata": {
        "colab": {
          "base_uri": "https://localhost:8080/"
        },
        "id": "f20eac00",
        "outputId": "ec603529-3314-4e73-8af1-caa493fdcf8a"
      },
      "source": [
        "from keras.models import Sequential\n",
        "from keras.layers import Embedding, Dense, Flatten, LSTM\n",
        "from keras.layers import Conv1D, MaxPooling1D, Dropout\n",
        "\n",
        "model = Sequential()\n",
        "model.add(Embedding(input_dim=max_words,\n",
        "                    output_dim=embedding_dim,\n",
        "                    input_length = maxlen,\n",
        "                    weights = [embedding_matrix],\n",
        "                    trainable = False))\n",
        "model.add(Conv1D(32, 7, activation = 'relu'))\n",
        "model.add(MaxPooling1D(5))\n",
        "model.add(Conv1D(32, 7, activation = 'relu'))\n",
        "model.add(MaxPooling1D(5))\n",
        "model.add(LSTM(32, recurrent_dropout=0.25, unroll=True))\n",
        "model.add(Flatten())\n",
        "model.add(Dense(units=128, activation='relu'))\n",
        "model.add(Dropout(0.5))\n",
        "model.add(Dense(units=64, activation='relu'))\n",
        "model.add(Dropout(0.5))\n",
        "model.add(Dropout(0.5))\n",
        "model.add(Dense(5, activation = 'softmax'))\n",
        "\n",
        "model.summary()\n",
        "model.save(\"model.keras\")"
      ],
      "id": "f20eac00",
      "execution_count": 118,
      "outputs": [
        {
          "output_type": "stream",
          "name": "stderr",
          "text": [
            "WARNING:tensorflow:Layer lstm_18 will not use cuDNN kernels since it doesn't meet the criteria. It will use a generic GPU kernel as fallback when running on GPU.\n"
          ]
        },
        {
          "output_type": "stream",
          "name": "stdout",
          "text": [
            "Model: \"sequential_20\"\n",
            "_________________________________________________________________\n",
            " Layer (type)                Output Shape              Param #   \n",
            "=================================================================\n",
            " embedding_20 (Embedding)    (None, 100, 100)          1000000   \n",
            "                                                                 \n",
            " conv1d_38 (Conv1D)          (None, 94, 32)            22432     \n",
            "                                                                 \n",
            " max_pooling1d_38 (MaxPooli  (None, 18, 32)            0         \n",
            " ng1D)                                                           \n",
            "                                                                 \n",
            " conv1d_39 (Conv1D)          (None, 12, 32)            7200      \n",
            "                                                                 \n",
            " max_pooling1d_39 (MaxPooli  (None, 2, 32)             0         \n",
            " ng1D)                                                           \n",
            "                                                                 \n",
            " lstm_18 (LSTM)              (None, 32)                8320      \n",
            "                                                                 \n",
            " flatten_18 (Flatten)        (None, 32)                0         \n",
            "                                                                 \n",
            " dense_54 (Dense)            (None, 128)               4224      \n",
            "                                                                 \n",
            " dropout_55 (Dropout)        (None, 128)               0         \n",
            "                                                                 \n",
            " dense_55 (Dense)            (None, 64)                8256      \n",
            "                                                                 \n",
            " dropout_56 (Dropout)        (None, 64)                0         \n",
            "                                                                 \n",
            " dropout_57 (Dropout)        (None, 64)                0         \n",
            "                                                                 \n",
            " dense_56 (Dense)            (None, 5)                 325       \n",
            "                                                                 \n",
            "=================================================================\n",
            "Total params: 1050757 (4.01 MB)\n",
            "Trainable params: 50757 (198.27 KB)\n",
            "Non-trainable params: 1000000 (3.81 MB)\n",
            "_________________________________________________________________\n"
          ]
        }
      ]
    },
    {
      "cell_type": "code",
      "source": [
        "from gc import callbacks\n",
        "model.compile(\n",
        "    optimizer = keras.optimizers.Adam(),\n",
        "    loss=\"categorical_crossentropy\",\n",
        "    metrics=['accuracy']\n",
        ")"
      ],
      "metadata": {
        "id": "qaSu0c-Hyi05"
      },
      "id": "qaSu0c-Hyi05",
      "execution_count": 119,
      "outputs": []
    },
    {
      "cell_type": "code",
      "source": [
        "history = model.fit(x_train, y_train,\n",
        "                    epochs=10,\n",
        "                    batch_size=100,\n",
        "                    validation_data = (x_valid, y_valid),\n",
        "                    callbacks = my_callbacks)"
      ],
      "metadata": {
        "colab": {
          "base_uri": "https://localhost:8080/"
        },
        "id": "G76Pmf1zzTz-",
        "outputId": "1ea25dd3-a8fe-456e-b543-c5b955a9ac8f"
      },
      "id": "G76Pmf1zzTz-",
      "execution_count": 120,
      "outputs": [
        {
          "output_type": "stream",
          "name": "stdout",
          "text": [
            "Epoch 1/10\n",
            "70/70 [==============================] - 4s 18ms/step - loss: 1.4727 - accuracy: 0.3339 - val_loss: 0.8256 - val_accuracy: 0.8172 - lr: 0.0010\n",
            "Epoch 2/10\n",
            "70/70 [==============================] - 1s 15ms/step - loss: 0.6785 - accuracy: 0.7674 - val_loss: 0.2336 - val_accuracy: 0.9220 - lr: 0.0010\n",
            "Epoch 3/10\n",
            "70/70 [==============================] - 1s 13ms/step - loss: 0.3712 - accuracy: 0.8906 - val_loss: 0.1961 - val_accuracy: 0.9364 - lr: 0.0010\n",
            "Epoch 4/10\n",
            "70/70 [==============================] - 1s 15ms/step - loss: 0.3035 - accuracy: 0.9144 - val_loss: 0.1801 - val_accuracy: 0.9424 - lr: 0.0010\n",
            "Epoch 5/10\n",
            "70/70 [==============================] - 1s 13ms/step - loss: 0.2534 - accuracy: 0.9301 - val_loss: 0.1371 - val_accuracy: 0.9584 - lr: 0.0010\n",
            "Epoch 6/10\n",
            "70/70 [==============================] - 1s 16ms/step - loss: 0.2236 - accuracy: 0.9439 - val_loss: 0.1062 - val_accuracy: 0.9704 - lr: 0.0010\n",
            "Epoch 7/10\n",
            "70/70 [==============================] - 1s 18ms/step - loss: 0.1762 - accuracy: 0.9521 - val_loss: 0.0826 - val_accuracy: 0.9776 - lr: 0.0010\n",
            "Epoch 8/10\n",
            "70/70 [==============================] - 1s 20ms/step - loss: 0.1471 - accuracy: 0.9610 - val_loss: 0.0776 - val_accuracy: 0.9776 - lr: 0.0010\n",
            "Epoch 9/10\n",
            "70/70 [==============================] - 1s 13ms/step - loss: 0.1179 - accuracy: 0.9707 - val_loss: 0.1079 - val_accuracy: 0.9704 - lr: 0.0010\n",
            "Epoch 10/10\n",
            "70/70 [==============================] - 1s 14ms/step - loss: 0.1457 - accuracy: 0.9626 - val_loss: 0.0458 - val_accuracy: 0.9888 - lr: 0.0010\n"
          ]
        }
      ]
    },
    {
      "cell_type": "code",
      "source": [
        "pd.DataFrame(history.history).plot(figsize=(8, 5))\n",
        "plt.grid(True)\n",
        "plt.gca().set_ylim(0, 1)\n",
        "plt.show()"
      ],
      "metadata": {
        "colab": {
          "base_uri": "https://localhost:8080/",
          "height": 451
        },
        "id": "n_fzf_bYoklP",
        "outputId": "437a63ac-83ee-40ae-c527-0a1ea9cea7e4"
      },
      "id": "n_fzf_bYoklP",
      "execution_count": 121,
      "outputs": [
        {
          "output_type": "display_data",
          "data": {
            "text/plain": [
              "<Figure size 800x500 with 1 Axes>"
            ],
            "image/png": "[encoded data removed]"
          },
          "metadata": {}
        }
      ]
    },
    {
      "cell_type": "code",
      "source": [
        "model.evaluate(x_test, y_test)"
      ],
      "metadata": {
        "colab": {
          "base_uri": "https://localhost:8080/"
        },
        "id": "K-7ZhJ6P6rRl",
        "outputId": "0fda8e68-49fa-498c-d9c8-99096ade5f1a"
      },
      "id": "K-7ZhJ6P6rRl",
      "execution_count": 122,
      "outputs": [
        {
          "output_type": "stream",
          "name": "stdout",
          "text": [
            "94/94 [==============================] - 1s 5ms/step - loss: 0.2549 - accuracy: 0.9377\n"
          ]
        },
        {
          "output_type": "execute_result",
          "data": {
            "text/plain": [
              "[0.2548697590827942, 0.937666654586792]"
            ]
          },
          "metadata": {},
          "execution_count": 122
        }
      ]
    },
    {
      "cell_type": "code",
      "source": [
        "class_names = targets.unique()\n",
        "class_names"
      ],
      "metadata": {
        "colab": {
          "base_uri": "https://localhost:8080/"
        },
        "id": "mBaE4TQ0G55b",
        "outputId": "641795a6-d98e-4007-f5fd-7ca22df9556f"
      },
      "id": "mBaE4TQ0G55b",
      "execution_count": 123,
      "outputs": [
        {
          "output_type": "execute_result",
          "data": {
            "text/plain": [
              "array(['education', 'business', 'entertainment', 'sports', 'technology'],\n",
              "      dtype=object)"
            ]
          },
          "metadata": {},
          "execution_count": 123
        }
      ]
    },
    {
      "cell_type": "code",
      "source": [
        "X_new = x_test[:10]\n",
        "y_pred = np.argmax(model.predict(X_new), axis=1)\n",
        "print(np.array(class_names)[y_pred])\n",
        "\n",
        "y_preds = np.argmax(model.predict(x_test), axis=1)"
      ],
      "metadata": {
        "colab": {
          "base_uri": "https://localhost:8080/"
        },
        "id": "27KNioZFGnxa",
        "outputId": "c8b7ecf9-c455-4ddc-aea3-79ade91d9426"
      },
      "id": "27KNioZFGnxa",
      "execution_count": 124,
      "outputs": [
        {
          "output_type": "stream",
          "name": "stdout",
          "text": [
            "1/1 [==============================] - 0s 363ms/step\n",
            "['entertainment' 'technology' 'education' 'entertainment' 'entertainment'\n",
            " 'sports' 'technology' 'education' 'entertainment' 'entertainment']\n",
            "94/94 [==============================] - 0s 3ms/step\n"
          ]
        }
      ]
    },
    {
      "cell_type": "code",
      "source": [
        "from sklearn.metrics import ConfusionMatrixDisplay, classification_report\n",
        "cm = classification_report(y_test_coms, y_preds)\n",
        "print(cm)"
      ],
      "metadata": {
        "colab": {
          "base_uri": "https://localhost:8080/"
        },
        "id": "UH8LzWOtIExT",
        "outputId": "bd86b3e1-67d1-448c-f7af-93eee66fb292"
      },
      "id": "UH8LzWOtIExT",
      "execution_count": 125,
      "outputs": [
        {
          "output_type": "stream",
          "name": "stdout",
          "text": [
            "              precision    recall  f1-score   support\n",
            "\n",
            "           0       0.94      0.90      0.92       587\n",
            "           1       0.97      0.94      0.95       587\n",
            "           2       0.96      0.97      0.96       622\n",
            "           3       0.96      0.96      0.96       601\n",
            "           4       0.87      0.92      0.89       603\n",
            "\n",
            "    accuracy                           0.94      3000\n",
            "   macro avg       0.94      0.94      0.94      3000\n",
            "weighted avg       0.94      0.94      0.94      3000\n",
            "\n"
          ]
        }
      ]
    },
    {
      "cell_type": "code",
      "source": [
        "fig, ax = plt.subplots(figsize=(10, 5))\n",
        "disp = ConfusionMatrixDisplay.from_predictions(y_test_coms, y_preds, ax=ax,\n",
        "                                               xticks_rotation=\"vertical\")\n",
        "ax.xaxis.set_ticklabels(classnames.values())\n",
        "ax.yaxis.set_ticklabels(classnames.values())\n",
        "plt.title(\"Confusion Matrix Model with pretrained word embeddings\")"
      ],
      "metadata": {
        "colab": {
          "base_uri": "https://localhost:8080/",
          "height": 590
        },
        "id": "Z077mJsuZWlO",
        "outputId": "46e5161b-6183-4b22-a6cb-91a993a43080"
      },
      "id": "Z077mJsuZWlO",
      "execution_count": 126,
      "outputs": [
        {
          "output_type": "execute_result",
          "data": {
            "text/plain": [
              "Text(0.5, 1.0, 'Confusion Matrix Model with pretrained word embeddings')"
            ]
          },
          "metadata": {},
          "execution_count": 126
        },
        {
          "output_type": "display_data",
          "data": {
            "text/plain": [
              "<Figure size 1000x500 with 2 Axes>"
            ],
            "image/png": "[encoded data removed]"
          },
          "metadata": {}
        }
      ]
    },
    {
      "cell_type": "code",
      "source": [
        "import pickle"
      ],
      "metadata": {
        "id": "pcgAc0Hti5LR"
      },
      "id": "pcgAc0Hti5LR",
      "execution_count": 127,
      "outputs": []
    },
    {
      "cell_type": "code",
      "source": [
        "pickle.dump(model, open('modelreal.pkl', 'wb'))"
      ],
      "metadata": {
        "id": "txDCk59iApqN"
      },
      "id": "txDCk59iApqN",
      "execution_count": 128,
      "outputs": []
    },
    {
      "cell_type": "code",
      "source": [
        "pickled_model = pickle.load(open('modelreal.pkl', 'rb'))"
      ],
      "metadata": {
        "colab": {
          "base_uri": "https://localhost:8080/"
        },
        "id": "NUpRlecaBZCq",
        "outputId": "a9a32158-f97e-4d70-e084-25d57f521d34"
      },
      "id": "NUpRlecaBZCq",
      "execution_count": 129,
      "outputs": [
        {
          "output_type": "stream",
          "name": "stderr",
          "text": [
            "WARNING:tensorflow:Layer lstm_18 will not use cuDNN kernels since it doesn't meet the criteria. It will use a generic GPU kernel as fallback when running on GPU.\n"
          ]
        }
      ]
    },
    {
      "cell_type": "code",
      "source": [
        "ypred = np.argmax(pickled_model.predict(x_test), axis=1)"
      ],
      "metadata": {
        "colab": {
          "base_uri": "https://localhost:8080/"
        },
        "id": "5dzClam4BrnL",
        "outputId": "c37ab654-6757-4930-d79d-6943fff6ae37"
      },
      "id": "5dzClam4BrnL",
      "execution_count": 131,
      "outputs": [
        {
          "output_type": "stream",
          "name": "stdout",
          "text": [
            "94/94 [==============================] - 0s 3ms/step\n"
          ]
        }
      ]
    },
    {
      "cell_type": "code",
      "source": [
        "print(np.array(class_names)[y_pred])"
      ],
      "metadata": {
        "colab": {
          "base_uri": "https://localhost:8080/"
        },
        "id": "2n-DVEoNCR4H",
        "outputId": "55c62fe4-4377-47b0-d83d-badd80a3ad51"
      },
      "id": "2n-DVEoNCR4H",
      "execution_count": 132,
      "outputs": [
        {
          "output_type": "stream",
          "name": "stdout",
          "text": [
            "['entertainment' 'technology' 'education' 'entertainment' 'entertainment'\n",
            " 'sports' 'technology' 'education' 'entertainment' 'entertainment']\n"
          ]
        }
      ]
    }
  ],
  "metadata": {
    "kernelspec": {
      "display_name": "Python 3",
      "name": "python3"
    },
    "colab": {
      "provenance": [],
      "gpuType": "T4"
    },
    "accelerator": "GPU"
  },
  "nbformat": 4,
  "nbformat_minor": 5
}