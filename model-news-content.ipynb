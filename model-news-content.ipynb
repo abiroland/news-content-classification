{
  "cells": [
    {
      "cell_type": "code",
      "execution_count": 585,
      "id": "f2abb0c9",
      "metadata": {
        "id": "f2abb0c9"
      },
      "outputs": [],
      "source": [
        "import os\n",
        "import glob\n",
        "import pathlib\n",
        "import pandas as pd\n",
        "import numpy as np\n",
        "import tensorflow as tf\n",
        "import keras\n",
        "from sklearn.feature_extraction.text import TfidfVectorizer\n",
        "from sklearn.model_selection import train_test_split\n",
        "import matplotlib.pyplot as plt"
      ]
    },
    {
      "cell_type": "code",
      "execution_count": 586,
      "id": "XXWnFdK6te5x",
      "metadata": {
        "colab": {
          "base_uri": "https://localhost:8080/"
        },
        "id": "XXWnFdK6te5x",
        "outputId": "d14aa04a-3eba-4bbf-fd69-6621ce22f1c0"
      },
      "outputs": [],
      "source": [
        "#from google.colab import drive\n",
        "#drive.mount('/content/drive')"
      ]
    },
    {
      "cell_type": "markdown",
      "id": "ea5e3932",
      "metadata": {
        "id": "ea5e3932"
      },
      "source": [
        "## Extracting files\n"
      ]
    },
    {
      "cell_type": "code",
      "execution_count": 587,
      "id": "76fac624",
      "metadata": {
        "id": "76fac624"
      },
      "outputs": [],
      "source": [
        "def extract_files(folder_path):\n",
        "    csv_files = glob.glob(os.path.join(folder_path, \"*.csv\"))\n",
        "    dataframes = []\n",
        "\n",
        "    for file in csv_files:\n",
        "        df = pd.read_csv(file)\n",
        "        dataframes.append(df)\n",
        "    return dataframes\n",
        "\n",
        "\n",
        "extracted = extract_files(\"Topic_modelling\")"
      ]
    },
    {
      "cell_type": "code",
      "execution_count": 588,
      "id": "870ea5d5",
      "metadata": {
        "id": "870ea5d5"
      },
      "outputs": [],
      "source": [
        "alldata = pd.DataFrame()\n",
        "for listitems in extracted:\n",
        "    alldata = pd.concat([alldata, listitems])"
      ]
    },
    {
      "cell_type": "markdown",
      "id": "9229e619",
      "metadata": {
        "id": "9229e619"
      },
      "source": [
        "## Feature extraction"
      ]
    },
    {
      "cell_type": "code",
      "execution_count": 589,
      "id": "A7nkj8K6SzP9",
      "metadata": {
        "colab": {
          "base_uri": "https://localhost:8080/",
          "height": 293
        },
        "id": "A7nkj8K6SzP9",
        "outputId": "e2c55aee-3651-4b2d-c733-75b9368b8481"
      },
      "outputs": [
        {
          "data": {
            "text/html": [
              "<div>\n",
              "<style scoped>\n",
              "    .dataframe tbody tr th:only-of-type {\n",
              "        vertical-align: middle;\n",
              "    }\n",
              "\n",
              "    .dataframe tbody tr th {\n",
              "        vertical-align: top;\n",
              "    }\n",
              "\n",
              "    .dataframe thead th {\n",
              "        text-align: right;\n",
              "    }\n",
              "</style>\n",
              "<table border=\"1\" class=\"dataframe\">\n",
              "  <thead>\n",
              "    <tr style=\"text-align: right;\">\n",
              "      <th></th>\n",
              "      <th>headlines</th>\n",
              "      <th>description</th>\n",
              "      <th>content</th>\n",
              "      <th>url</th>\n",
              "      <th>category</th>\n",
              "    </tr>\n",
              "  </thead>\n",
              "  <tbody>\n",
              "    <tr>\n",
              "      <th>0</th>\n",
              "      <td>Nirmala Sitharaman to equal Morarji Desai’s re...</td>\n",
              "      <td>With the presentation of the interim budget on...</td>\n",
              "      <td>Sitharaman, the first full-time woman finance ...</td>\n",
              "      <td>https://indianexpress.com/article/business/bud...</td>\n",
              "      <td>business</td>\n",
              "    </tr>\n",
              "    <tr>\n",
              "      <th>1</th>\n",
              "      <td>‘Will densify network, want to be at least no....</td>\n",
              "      <td>'In terms of market share, we aim to double it...</td>\n",
              "      <td>The merger of Tata group’s budget airlines Air...</td>\n",
              "      <td>https://indianexpress.com/article/business/avi...</td>\n",
              "      <td>business</td>\n",
              "    </tr>\n",
              "    <tr>\n",
              "      <th>2</th>\n",
              "      <td>Air India group to induct an aircraft every si...</td>\n",
              "      <td>Air India currently has 117 operational aircra...</td>\n",
              "      <td>The Air India group plans to induct one aircra...</td>\n",
              "      <td>https://indianexpress.com/article/business/avi...</td>\n",
              "      <td>business</td>\n",
              "    </tr>\n",
              "    <tr>\n",
              "      <th>3</th>\n",
              "      <td>Red Sea woes: Exporters seek increased credit ...</td>\n",
              "      <td>Rising attacks forced shippers to consider the...</td>\n",
              "      <td>Indian exporters have asked the central govern...</td>\n",
              "      <td>https://indianexpress.com/article/business/red...</td>\n",
              "      <td>business</td>\n",
              "    </tr>\n",
              "    <tr>\n",
              "      <th>4</th>\n",
              "      <td>Air India group to induct a plane every 6 days...</td>\n",
              "      <td>Apart from fleet expansion, 2024 will also see...</td>\n",
              "      <td>The Air India group plans to induct one aircra...</td>\n",
              "      <td>https://indianexpress.com/article/business/avi...</td>\n",
              "      <td>business</td>\n",
              "    </tr>\n",
              "  </tbody>\n",
              "</table>\n",
              "</div>"
            ],
            "text/plain": [
              "                                           headlines  \\\n",
              "0  Nirmala Sitharaman to equal Morarji Desai’s re...   \n",
              "1  ‘Will densify network, want to be at least no....   \n",
              "2  Air India group to induct an aircraft every si...   \n",
              "3  Red Sea woes: Exporters seek increased credit ...   \n",
              "4  Air India group to induct a plane every 6 days...   \n",
              "\n",
              "                                         description  \\\n",
              "0  With the presentation of the interim budget on...   \n",
              "1  'In terms of market share, we aim to double it...   \n",
              "2  Air India currently has 117 operational aircra...   \n",
              "3  Rising attacks forced shippers to consider the...   \n",
              "4  Apart from fleet expansion, 2024 will also see...   \n",
              "\n",
              "                                             content  \\\n",
              "0  Sitharaman, the first full-time woman finance ...   \n",
              "1  The merger of Tata group’s budget airlines Air...   \n",
              "2  The Air India group plans to induct one aircra...   \n",
              "3  Indian exporters have asked the central govern...   \n",
              "4  The Air India group plans to induct one aircra...   \n",
              "\n",
              "                                                 url  category  \n",
              "0  https://indianexpress.com/article/business/bud...  business  \n",
              "1  https://indianexpress.com/article/business/avi...  business  \n",
              "2  https://indianexpress.com/article/business/avi...  business  \n",
              "3  https://indianexpress.com/article/business/red...  business  \n",
              "4  https://indianexpress.com/article/business/avi...  business  "
            ]
          },
          "execution_count": 589,
          "metadata": {},
          "output_type": "execute_result"
        }
      ],
      "source": [
        "alldata.head()"
      ]
    },
    {
      "cell_type": "code",
      "execution_count": 590,
      "id": "1105635c",
      "metadata": {
        "id": "1105635c"
      },
      "outputs": [],
      "source": [
        "targets = alldata[\"category\"]\n",
        "feature = alldata[\"content\"]"
      ]
    },
    {
      "cell_type": "code",
      "execution_count": 591,
      "id": "qhOo_SfPFFmX",
      "metadata": {
        "colab": {
          "base_uri": "https://localhost:8080/"
        },
        "id": "qhOo_SfPFFmX",
        "outputId": "c8aa1467-f9a7-4118-eb99-467803ae1bfc"
      },
      "outputs": [
        {
          "name": "stdout",
          "output_type": "stream",
          "text": [
            "['business' 'education' 'entertainment' 'sports' 'technology']\n"
          ]
        }
      ],
      "source": [
        "print(targets.unique())"
      ]
    },
    {
      "cell_type": "code",
      "execution_count": 592,
      "id": "-wFeINwQ2bgU",
      "metadata": {
        "id": "-wFeINwQ2bgU"
      },
      "outputs": [],
      "source": [
        "maxlen = 100\n",
        "embedding_dim = 100\n",
        "max_words = 10000\n",
        "\n",
        "classnames = {\n",
        "    0 : 'Business',\n",
        "    1 : 'Education',\n",
        "    2 : 'Entertainment',\n",
        "    3 : 'Sports',\n",
        "    4 : 'Technology'\n",
        "}"
      ]
    },
    {
      "cell_type": "code",
      "execution_count": 593,
      "id": "7e21a2c2",
      "metadata": {},
      "outputs": [],
      "source": [
        "from tf_keras.preprocessing.text import Tokenizer\n",
        "from keras.preprocessing.sequence import pad_sequences\n",
        "\n",
        "maxlen = 100\n",
        "max_words = 10000\n",
        "\n",
        "tokenizer = Tokenizer(num_words=max_words)\n",
        "tokenizer.fit_on_texts(feature)\n",
        "sequences = tokenizer.texts_to_sequences(feature)\n",
        "\n",
        "word_index = tokenizer.word_index\n",
        "data = pad_sequences(sequences, maxlen=maxlen)"
      ]
    },
    {
      "cell_type": "code",
      "execution_count": 594,
      "id": "02bbd8fb",
      "metadata": {},
      "outputs": [
        {
          "name": "stdout",
          "output_type": "stream",
          "text": [
            "[   1 1523  138    4   85  712  115    9 1082 2736    3    9 4886    2\n",
            "    1 1681  521    3  815  255    5   61  401 1519   24 6656   18    1\n",
            "  756  225    9    4    1  409    5   36 1255  287   21 8408  401   28\n",
            "    3 6355    2  858   62  619  690 3062  169    1  401   28 1189    3\n",
            "  401   28  111    3 8139 2564 1977   28    2  858   62 1142 1255  169\n",
            "    1  401   28  111 1189   91    1 2634 3642    5  401   28  111    3\n",
            " 8139 2564    9 1210    1 1867    5  401   28    3 6355    9  313 5399\n",
            "    4 2146]\n"
          ]
        }
      ],
      "source": [
        "print(data[2])"
      ]
    },
    {
      "cell_type": "markdown",
      "id": "324c114a",
      "metadata": {
        "id": "324c114a"
      },
      "source": [
        "### Prepare pretained word embeddings"
      ]
    },
    {
      "cell_type": "code",
      "execution_count": 595,
      "id": "5511fda1",
      "metadata": {
        "colab": {
          "base_uri": "https://localhost:8080/"
        },
        "id": "5511fda1",
        "outputId": "a99b06be-e59c-4dd4-99fa-2e783b6ac1c8"
      },
      "outputs": [
        {
          "name": "stdout",
          "output_type": "stream",
          "text": [
            "found 400000 word vectors.\n"
          ]
        }
      ],
      "source": [
        "embeddings_index = {}\n",
        "f = open('glove.6B.100d.txt', encoding=\"utf-8\")\n",
        "for line in f:\n",
        "    values = line.split()\n",
        "    word = values[0]\n",
        "    coefs = np.asarray(values[1:], dtype=\"float32\")\n",
        "    embeddings_index[word] = coefs\n",
        "f.close()\n",
        "\n",
        "print('found %s word vectors.' % len(embeddings_index))"
      ]
    },
    {
      "cell_type": "code",
      "execution_count": 596,
      "id": "d9f93746",
      "metadata": {
        "id": "d9f93746"
      },
      "outputs": [],
      "source": [
        "embedding_matrix = np.zeros((max_words, embedding_dim))\n",
        "for word, i in word_index.items():\n",
        "    if i < max_words:\n",
        "        embedding_vector = embeddings_index.get(word)\n",
        "        if embedding_vector is not None:\n",
        "            embedding_matrix[i] = embedding_vector\n"
      ]
    },
    {
      "cell_type": "markdown",
      "id": "077854d3",
      "metadata": {
        "id": "077854d3"
      },
      "source": [
        "### Using pretrained word embeddings\n"
      ]
    },
    {
      "cell_type": "code",
      "execution_count": 597,
      "id": "c4876f85",
      "metadata": {
        "colab": {
          "base_uri": "https://localhost:8080/"
        },
        "id": "c4876f85",
        "outputId": "85a4aba7-9ff9-42f5-bd6c-5991b5ef03bb"
      },
      "outputs": [
        {
          "name": "stdout",
          "output_type": "stream",
          "text": [
            "Shape of data tensor: (10000, 100)\n",
            "Shape of label tensor: (10000,)\n"
          ]
        }
      ],
      "source": [
        "\n",
        "labels = np.asarray(targets)\n",
        "print('Shape of data tensor:', data.shape)\n",
        "print('Shape of label tensor:', labels.shape)\n",
        "\n",
        "indices = np.arange(data.shape[0])\n",
        "np.random.shuffle(indices)\n",
        "data = data[indices]\n",
        "labels = labels[indices]"
      ]
    },
    {
      "cell_type": "code",
      "execution_count": 598,
      "id": "c5dede9c",
      "metadata": {
        "id": "c5dede9c"
      },
      "outputs": [],
      "source": [
        "VALIDATION_SPLIT = 0.25\n",
        "TRAIN_SPLIT = 0.7\n",
        "\n",
        "nb_training_samples = int(TRAIN_SPLIT * data.shape[0])\n",
        "nb_validation_samples = int(VALIDATION_SPLIT * data.shape[0])\n",
        "\n",
        "#Train/Test sets\n",
        "x_train, x_test = data[:nb_training_samples], data[nb_training_samples:]\n",
        "y_train, y_test_real = labels[:nb_training_samples], labels[nb_training_samples:]\n",
        "\n",
        "# validation sets\n",
        "x_valid = x_train[-nb_validation_samples:]\n",
        "y_valid = y_train[-nb_validation_samples:]"
      ]
    },
    {
      "cell_type": "code",
      "execution_count": 599,
      "id": "NwhQXecasEzZ",
      "metadata": {
        "colab": {
          "base_uri": "https://localhost:8080/"
        },
        "id": "NwhQXecasEzZ",
        "outputId": "4c2770ad-f9c7-4196-c38a-21daf0a5bde7"
      },
      "outputs": [
        {
          "name": "stdout",
          "output_type": "stream",
          "text": [
            "['education' 'sports' 'technology' 'technology' 'technology' 'sports'\n",
            " 'sports' 'technology' 'entertainment' 'business']\n"
          ]
        }
      ],
      "source": [
        "print(y_train[0:10])\n",
        "#print(type(y_valid))"
      ]
    },
    {
      "cell_type": "code",
      "execution_count": 600,
      "id": "VCjZdu2Ps0S-",
      "metadata": {
        "id": "VCjZdu2Ps0S-"
      },
      "outputs": [],
      "source": [
        "from sklearn.preprocessing import LabelEncoder\n",
        "\n",
        "encoder = LabelEncoder()\n",
        "encoder.fit(y_train)\n",
        "y_train = encoder.transform(y_train)"
      ]
    },
    {
      "cell_type": "code",
      "execution_count": 601,
      "id": "ItAjfufczMle",
      "metadata": {
        "id": "ItAjfufczMle"
      },
      "outputs": [],
      "source": [
        "y_valid = encoder.transform(y_valid)\n",
        "y_test = encoder.transform(y_test_real)\n",
        "y_test_coms = encoder.transform(y_test_real)"
      ]
    },
    {
      "cell_type": "code",
      "execution_count": 602,
      "id": "9ZvsbFP2qrCJ",
      "metadata": {
        "id": "9ZvsbFP2qrCJ"
      },
      "outputs": [],
      "source": [
        "y_train = keras.utils.to_categorical(y_train)\n",
        "y_valid = keras.utils.to_categorical(y_valid)\n",
        "y_test = keras.utils.to_categorical(y_test)"
      ]
    },
    {
      "cell_type": "code",
      "execution_count": 603,
      "id": "ct5tSOx_Ap83",
      "metadata": {
        "colab": {
          "base_uri": "https://localhost:8080/"
        },
        "id": "ct5tSOx_Ap83",
        "outputId": "8a7691c9-4a6a-406b-8c25-4f64c154b69d"
      },
      "outputs": [
        {
          "name": "stdout",
          "output_type": "stream",
          "text": [
            "[[0. 1. 0. 0. 0.]\n",
            " [0. 0. 0. 1. 0.]\n",
            " [0. 0. 0. 0. 1.]\n",
            " ...\n",
            " [0. 0. 1. 0. 0.]\n",
            " [0. 0. 0. 1. 0.]\n",
            " [0. 1. 0. 0. 0.]]\n"
          ]
        }
      ],
      "source": [
        "print(y_train)"
      ]
    },
    {
      "cell_type": "markdown",
      "id": "6c238314",
      "metadata": {
        "id": "6c238314"
      },
      "source": [
        "### Model with Word embeddings\n"
      ]
    },
    {
      "cell_type": "code",
      "execution_count": 604,
      "id": "f20eac00",
      "metadata": {
        "colab": {
          "base_uri": "https://localhost:8080/"
        },
        "id": "f20eac00",
        "outputId": "ec603529-3314-4e73-8af1-caa493fdcf8a"
      },
      "outputs": [
        {
          "data": {
            "text/html": [
              "<pre style=\"white-space:pre;overflow-x:auto;line-height:normal;font-family:Menlo,'DejaVu Sans Mono',consolas,'Courier New',monospace\"><span style=\"font-weight: bold\">Model: \"sequential_79\"</span>\n",
              "</pre>\n"
            ],
            "text/plain": [
              "\u001b[1mModel: \"sequential_79\"\u001b[0m\n"
            ]
          },
          "metadata": {},
          "output_type": "display_data"
        },
        {
          "data": {
            "text/html": [
              "<pre style=\"white-space:pre;overflow-x:auto;line-height:normal;font-family:Menlo,'DejaVu Sans Mono',consolas,'Courier New',monospace\">┏━━━━━━━━━━━━━━━━━━━━━━━━━━━━━━━━━┳━━━━━━━━━━━━━━━━━━━━━━━━┳━━━━━━━━━━━━━━━┓\n",
              "┃<span style=\"font-weight: bold\"> Layer (type)                    </span>┃<span style=\"font-weight: bold\"> Output Shape           </span>┃<span style=\"font-weight: bold\">       Param # </span>┃\n",
              "┡━━━━━━━━━━━━━━━━━━━━━━━━━━━━━━━━━╇━━━━━━━━━━━━━━━━━━━━━━━━╇━━━━━━━━━━━━━━━┩\n",
              "│ embedding_77 (<span style=\"color: #0087ff; text-decoration-color: #0087ff\">Embedding</span>)        │ (<span style=\"color: #00d7ff; text-decoration-color: #00d7ff\">None</span>, <span style=\"color: #00af00; text-decoration-color: #00af00\">100</span>, <span style=\"color: #00af00; text-decoration-color: #00af00\">100</span>)       │     <span style=\"color: #00af00; text-decoration-color: #00af00\">1,000,000</span> │\n",
              "├─────────────────────────────────┼────────────────────────┼───────────────┤\n",
              "│ conv1d_153 (<span style=\"color: #0087ff; text-decoration-color: #0087ff\">Conv1D</span>)             │ (<span style=\"color: #00d7ff; text-decoration-color: #00d7ff\">None</span>, <span style=\"color: #00af00; text-decoration-color: #00af00\">94</span>, <span style=\"color: #00af00; text-decoration-color: #00af00\">32</span>)         │        <span style=\"color: #00af00; text-decoration-color: #00af00\">22,432</span> │\n",
              "├─────────────────────────────────┼────────────────────────┼───────────────┤\n",
              "│ max_pooling1d_153               │ (<span style=\"color: #00d7ff; text-decoration-color: #00d7ff\">None</span>, <span style=\"color: #00af00; text-decoration-color: #00af00\">18</span>, <span style=\"color: #00af00; text-decoration-color: #00af00\">32</span>)         │             <span style=\"color: #00af00; text-decoration-color: #00af00\">0</span> │\n",
              "│ (<span style=\"color: #0087ff; text-decoration-color: #0087ff\">MaxPooling1D</span>)                  │                        │               │\n",
              "├─────────────────────────────────┼────────────────────────┼───────────────┤\n",
              "│ conv1d_154 (<span style=\"color: #0087ff; text-decoration-color: #0087ff\">Conv1D</span>)             │ (<span style=\"color: #00d7ff; text-decoration-color: #00d7ff\">None</span>, <span style=\"color: #00af00; text-decoration-color: #00af00\">12</span>, <span style=\"color: #00af00; text-decoration-color: #00af00\">32</span>)         │         <span style=\"color: #00af00; text-decoration-color: #00af00\">7,200</span> │\n",
              "├─────────────────────────────────┼────────────────────────┼───────────────┤\n",
              "│ max_pooling1d_154               │ (<span style=\"color: #00d7ff; text-decoration-color: #00d7ff\">None</span>, <span style=\"color: #00af00; text-decoration-color: #00af00\">2</span>, <span style=\"color: #00af00; text-decoration-color: #00af00\">32</span>)          │             <span style=\"color: #00af00; text-decoration-color: #00af00\">0</span> │\n",
              "│ (<span style=\"color: #0087ff; text-decoration-color: #0087ff\">MaxPooling1D</span>)                  │                        │               │\n",
              "├─────────────────────────────────┼────────────────────────┼───────────────┤\n",
              "│ lstm_76 (<span style=\"color: #0087ff; text-decoration-color: #0087ff\">LSTM</span>)                  │ (<span style=\"color: #00d7ff; text-decoration-color: #00d7ff\">None</span>, <span style=\"color: #00af00; text-decoration-color: #00af00\">32</span>)             │         <span style=\"color: #00af00; text-decoration-color: #00af00\">8,320</span> │\n",
              "├─────────────────────────────────┼────────────────────────┼───────────────┤\n",
              "│ flatten_76 (<span style=\"color: #0087ff; text-decoration-color: #0087ff\">Flatten</span>)            │ (<span style=\"color: #00d7ff; text-decoration-color: #00d7ff\">None</span>, <span style=\"color: #00af00; text-decoration-color: #00af00\">32</span>)             │             <span style=\"color: #00af00; text-decoration-color: #00af00\">0</span> │\n",
              "├─────────────────────────────────┼────────────────────────┼───────────────┤\n",
              "│ dense_227 (<span style=\"color: #0087ff; text-decoration-color: #0087ff\">Dense</span>)               │ (<span style=\"color: #00d7ff; text-decoration-color: #00d7ff\">None</span>, <span style=\"color: #00af00; text-decoration-color: #00af00\">128</span>)            │         <span style=\"color: #00af00; text-decoration-color: #00af00\">4,224</span> │\n",
              "├─────────────────────────────────┼────────────────────────┼───────────────┤\n",
              "│ dropout_187 (<span style=\"color: #0087ff; text-decoration-color: #0087ff\">Dropout</span>)           │ (<span style=\"color: #00d7ff; text-decoration-color: #00d7ff\">None</span>, <span style=\"color: #00af00; text-decoration-color: #00af00\">128</span>)            │             <span style=\"color: #00af00; text-decoration-color: #00af00\">0</span> │\n",
              "├─────────────────────────────────┼────────────────────────┼───────────────┤\n",
              "│ dense_228 (<span style=\"color: #0087ff; text-decoration-color: #0087ff\">Dense</span>)               │ (<span style=\"color: #00d7ff; text-decoration-color: #00d7ff\">None</span>, <span style=\"color: #00af00; text-decoration-color: #00af00\">64</span>)             │         <span style=\"color: #00af00; text-decoration-color: #00af00\">8,256</span> │\n",
              "├─────────────────────────────────┼────────────────────────┼───────────────┤\n",
              "│ dropout_188 (<span style=\"color: #0087ff; text-decoration-color: #0087ff\">Dropout</span>)           │ (<span style=\"color: #00d7ff; text-decoration-color: #00d7ff\">None</span>, <span style=\"color: #00af00; text-decoration-color: #00af00\">64</span>)             │             <span style=\"color: #00af00; text-decoration-color: #00af00\">0</span> │\n",
              "├─────────────────────────────────┼────────────────────────┼───────────────┤\n",
              "│ dropout_189 (<span style=\"color: #0087ff; text-decoration-color: #0087ff\">Dropout</span>)           │ (<span style=\"color: #00d7ff; text-decoration-color: #00d7ff\">None</span>, <span style=\"color: #00af00; text-decoration-color: #00af00\">64</span>)             │             <span style=\"color: #00af00; text-decoration-color: #00af00\">0</span> │\n",
              "├─────────────────────────────────┼────────────────────────┼───────────────┤\n",
              "│ dense_229 (<span style=\"color: #0087ff; text-decoration-color: #0087ff\">Dense</span>)               │ (<span style=\"color: #00d7ff; text-decoration-color: #00d7ff\">None</span>, <span style=\"color: #00af00; text-decoration-color: #00af00\">5</span>)              │           <span style=\"color: #00af00; text-decoration-color: #00af00\">325</span> │\n",
              "└─────────────────────────────────┴────────────────────────┴───────────────┘\n",
              "</pre>\n"
            ],
            "text/plain": [
              "┏━━━━━━━━━━━━━━━━━━━━━━━━━━━━━━━━━┳━━━━━━━━━━━━━━━━━━━━━━━━┳━━━━━━━━━━━━━━━┓\n",
              "┃\u001b[1m \u001b[0m\u001b[1mLayer (type)                   \u001b[0m\u001b[1m \u001b[0m┃\u001b[1m \u001b[0m\u001b[1mOutput Shape          \u001b[0m\u001b[1m \u001b[0m┃\u001b[1m \u001b[0m\u001b[1m      Param #\u001b[0m\u001b[1m \u001b[0m┃\n",
              "┡━━━━━━━━━━━━━━━━━━━━━━━━━━━━━━━━━╇━━━━━━━━━━━━━━━━━━━━━━━━╇━━━━━━━━━━━━━━━┩\n",
              "│ embedding_77 (\u001b[38;5;33mEmbedding\u001b[0m)        │ (\u001b[38;5;45mNone\u001b[0m, \u001b[38;5;34m100\u001b[0m, \u001b[38;5;34m100\u001b[0m)       │     \u001b[38;5;34m1,000,000\u001b[0m │\n",
              "├─────────────────────────────────┼────────────────────────┼───────────────┤\n",
              "│ conv1d_153 (\u001b[38;5;33mConv1D\u001b[0m)             │ (\u001b[38;5;45mNone\u001b[0m, \u001b[38;5;34m94\u001b[0m, \u001b[38;5;34m32\u001b[0m)         │        \u001b[38;5;34m22,432\u001b[0m │\n",
              "├─────────────────────────────────┼────────────────────────┼───────────────┤\n",
              "│ max_pooling1d_153               │ (\u001b[38;5;45mNone\u001b[0m, \u001b[38;5;34m18\u001b[0m, \u001b[38;5;34m32\u001b[0m)         │             \u001b[38;5;34m0\u001b[0m │\n",
              "│ (\u001b[38;5;33mMaxPooling1D\u001b[0m)                  │                        │               │\n",
              "├─────────────────────────────────┼────────────────────────┼───────────────┤\n",
              "│ conv1d_154 (\u001b[38;5;33mConv1D\u001b[0m)             │ (\u001b[38;5;45mNone\u001b[0m, \u001b[38;5;34m12\u001b[0m, \u001b[38;5;34m32\u001b[0m)         │         \u001b[38;5;34m7,200\u001b[0m │\n",
              "├─────────────────────────────────┼────────────────────────┼───────────────┤\n",
              "│ max_pooling1d_154               │ (\u001b[38;5;45mNone\u001b[0m, \u001b[38;5;34m2\u001b[0m, \u001b[38;5;34m32\u001b[0m)          │             \u001b[38;5;34m0\u001b[0m │\n",
              "│ (\u001b[38;5;33mMaxPooling1D\u001b[0m)                  │                        │               │\n",
              "├─────────────────────────────────┼────────────────────────┼───────────────┤\n",
              "│ lstm_76 (\u001b[38;5;33mLSTM\u001b[0m)                  │ (\u001b[38;5;45mNone\u001b[0m, \u001b[38;5;34m32\u001b[0m)             │         \u001b[38;5;34m8,320\u001b[0m │\n",
              "├─────────────────────────────────┼────────────────────────┼───────────────┤\n",
              "│ flatten_76 (\u001b[38;5;33mFlatten\u001b[0m)            │ (\u001b[38;5;45mNone\u001b[0m, \u001b[38;5;34m32\u001b[0m)             │             \u001b[38;5;34m0\u001b[0m │\n",
              "├─────────────────────────────────┼────────────────────────┼───────────────┤\n",
              "│ dense_227 (\u001b[38;5;33mDense\u001b[0m)               │ (\u001b[38;5;45mNone\u001b[0m, \u001b[38;5;34m128\u001b[0m)            │         \u001b[38;5;34m4,224\u001b[0m │\n",
              "├─────────────────────────────────┼────────────────────────┼───────────────┤\n",
              "│ dropout_187 (\u001b[38;5;33mDropout\u001b[0m)           │ (\u001b[38;5;45mNone\u001b[0m, \u001b[38;5;34m128\u001b[0m)            │             \u001b[38;5;34m0\u001b[0m │\n",
              "├─────────────────────────────────┼────────────────────────┼───────────────┤\n",
              "│ dense_228 (\u001b[38;5;33mDense\u001b[0m)               │ (\u001b[38;5;45mNone\u001b[0m, \u001b[38;5;34m64\u001b[0m)             │         \u001b[38;5;34m8,256\u001b[0m │\n",
              "├─────────────────────────────────┼────────────────────────┼───────────────┤\n",
              "│ dropout_188 (\u001b[38;5;33mDropout\u001b[0m)           │ (\u001b[38;5;45mNone\u001b[0m, \u001b[38;5;34m64\u001b[0m)             │             \u001b[38;5;34m0\u001b[0m │\n",
              "├─────────────────────────────────┼────────────────────────┼───────────────┤\n",
              "│ dropout_189 (\u001b[38;5;33mDropout\u001b[0m)           │ (\u001b[38;5;45mNone\u001b[0m, \u001b[38;5;34m64\u001b[0m)             │             \u001b[38;5;34m0\u001b[0m │\n",
              "├─────────────────────────────────┼────────────────────────┼───────────────┤\n",
              "│ dense_229 (\u001b[38;5;33mDense\u001b[0m)               │ (\u001b[38;5;45mNone\u001b[0m, \u001b[38;5;34m5\u001b[0m)              │           \u001b[38;5;34m325\u001b[0m │\n",
              "└─────────────────────────────────┴────────────────────────┴───────────────┘\n"
            ]
          },
          "metadata": {},
          "output_type": "display_data"
        },
        {
          "data": {
            "text/html": [
              "<pre style=\"white-space:pre;overflow-x:auto;line-height:normal;font-family:Menlo,'DejaVu Sans Mono',consolas,'Courier New',monospace\"><span style=\"font-weight: bold\"> Total params: </span><span style=\"color: #00af00; text-decoration-color: #00af00\">1,050,757</span> (4.01 MB)\n",
              "</pre>\n"
            ],
            "text/plain": [
              "\u001b[1m Total params: \u001b[0m\u001b[38;5;34m1,050,757\u001b[0m (4.01 MB)\n"
            ]
          },
          "metadata": {},
          "output_type": "display_data"
        },
        {
          "data": {
            "text/html": [
              "<pre style=\"white-space:pre;overflow-x:auto;line-height:normal;font-family:Menlo,'DejaVu Sans Mono',consolas,'Courier New',monospace\"><span style=\"font-weight: bold\"> Trainable params: </span><span style=\"color: #00af00; text-decoration-color: #00af00\">50,757</span> (198.27 KB)\n",
              "</pre>\n"
            ],
            "text/plain": [
              "\u001b[1m Trainable params: \u001b[0m\u001b[38;5;34m50,757\u001b[0m (198.27 KB)\n"
            ]
          },
          "metadata": {},
          "output_type": "display_data"
        },
        {
          "data": {
            "text/html": [
              "<pre style=\"white-space:pre;overflow-x:auto;line-height:normal;font-family:Menlo,'DejaVu Sans Mono',consolas,'Courier New',monospace\"><span style=\"font-weight: bold\"> Non-trainable params: </span><span style=\"color: #00af00; text-decoration-color: #00af00\">1,000,000</span> (3.81 MB)\n",
              "</pre>\n"
            ],
            "text/plain": [
              "\u001b[1m Non-trainable params: \u001b[0m\u001b[38;5;34m1,000,000\u001b[0m (3.81 MB)\n"
            ]
          },
          "metadata": {},
          "output_type": "display_data"
        }
      ],
      "source": [
        "from keras.models import Sequential\n",
        "from keras.layers import Embedding, Dense, Flatten, LSTM\n",
        "from keras.layers import Conv1D, MaxPooling1D, Dropout\n",
        "\n",
        "model = Sequential()\n",
        "model.add(Embedding(input_dim=max_words,\n",
        "                    output_dim=embedding_dim,\n",
        "                    weights = [embedding_matrix],\n",
        "                    trainable = False))\n",
        "model.add(Conv1D(32, 7, activation = 'relu'))\n",
        "model.add(MaxPooling1D(5))\n",
        "model.add(Conv1D(32, 7, activation = 'relu'))\n",
        "model.add(MaxPooling1D(5))\n",
        "model.add(LSTM(32, recurrent_dropout=0.25, unroll=True))\n",
        "model.add(Flatten())\n",
        "model.add(Dense(units=128, activation='relu'))\n",
        "model.add(Dropout(0.5))\n",
        "model.add(Dense(units=64, activation='relu'))\n",
        "model.add(Dropout(0.5))\n",
        "model.add(Dropout(0.5))\n",
        "model.add(Dense(5, activation = 'softmax'))\n",
        "\n",
        "model.build(input_shape=(None, 100))\n",
        "\n",
        "model.summary()\n",
        "model.save(\"model.keras\")"
      ]
    },
    {
      "cell_type": "code",
      "execution_count": 605,
      "id": "8d0907b7",
      "metadata": {},
      "outputs": [],
      "source": [
        "def scheduler(epoch, lr):\n",
        "    if epoch < 10:\n",
        "        return lr\n",
        "    else:\n",
        "        return lr * tf.math.exp(-0.1)\n",
        "\n",
        "lr_scheduler = keras.callbacks.LearningRateScheduler(scheduler)"
      ]
    },
    {
      "cell_type": "code",
      "execution_count": 606,
      "id": "7f537aea",
      "metadata": {},
      "outputs": [],
      "source": [
        "my_callbacks = [\n",
        "    lr_scheduler,\n",
        "    keras.callbacks.EarlyStopping(monitor=\"val_loss\",\n",
        "                                  patience=10, restore_best_weights=True),\n",
        "    keras.callbacks.ReduceLROnPlateau(monitor='val_loss', factor=0.2,\n",
        "                                      patience=10, min_lr=0.0001),\n",
        "    keras.callbacks.ModelCheckpoint(\"model.keras\", save_best_only=True)\n",
        "]"
      ]
    },
    {
      "cell_type": "code",
      "execution_count": 607,
      "id": "qaSu0c-Hyi05",
      "metadata": {
        "id": "qaSu0c-Hyi05"
      },
      "outputs": [],
      "source": [
        "from gc import callbacks\n",
        "model.compile(\n",
        "    optimizer = keras.optimizers.Nadam(),\n",
        "    loss=\"categorical_crossentropy\",\n",
        "    metrics=['accuracy']\n",
        ")"
      ]
    },
    {
      "cell_type": "code",
      "execution_count": 608,
      "id": "G76Pmf1zzTz-",
      "metadata": {
        "colab": {
          "base_uri": "https://localhost:8080/"
        },
        "id": "G76Pmf1zzTz-",
        "outputId": "1ea25dd3-a8fe-456e-b543-c5b955a9ac8f"
      },
      "outputs": [
        {
          "name": "stdout",
          "output_type": "stream",
          "text": [
            "Epoch 1/10\n",
            "\u001b[1m70/70\u001b[0m \u001b[32m━━━━━━━━━━━━━━━━━━━━\u001b[0m\u001b[37m\u001b[0m \u001b[1m7s\u001b[0m 30ms/step - accuracy: 0.2651 - loss: 1.5560 - val_accuracy: 0.7624 - val_loss: 0.8027 - learning_rate: 0.0010\n",
            "Epoch 2/10\n",
            "\u001b[1m70/70\u001b[0m \u001b[32m━━━━━━━━━━━━━━━━━━━━\u001b[0m\u001b[37m\u001b[0m \u001b[1m2s\u001b[0m 25ms/step - accuracy: 0.7161 - loss: 0.7584 - val_accuracy: 0.9408 - val_loss: 0.2016 - learning_rate: 0.0010\n",
            "Epoch 3/10\n",
            "\u001b[1m70/70\u001b[0m \u001b[32m━━━━━━━━━━━━━━━━━━━━\u001b[0m\u001b[37m\u001b[0m \u001b[1m2s\u001b[0m 25ms/step - accuracy: 0.8943 - loss: 0.3964 - val_accuracy: 0.9592 - val_loss: 0.1364 - learning_rate: 0.0010\n",
            "Epoch 4/10\n",
            "\u001b[1m70/70\u001b[0m \u001b[32m━━━━━━━━━━━━━━━━━━━━\u001b[0m\u001b[37m\u001b[0m \u001b[1m2s\u001b[0m 23ms/step - accuracy: 0.9237 - loss: 0.2895 - val_accuracy: 0.9612 - val_loss: 0.1223 - learning_rate: 0.0010\n",
            "Epoch 5/10\n",
            "\u001b[1m70/70\u001b[0m \u001b[32m━━━━━━━━━━━━━━━━━━━━\u001b[0m\u001b[37m\u001b[0m \u001b[1m2s\u001b[0m 25ms/step - accuracy: 0.9420 - loss: 0.2107 - val_accuracy: 0.9812 - val_loss: 0.0770 - learning_rate: 0.0010\n",
            "Epoch 6/10\n",
            "\u001b[1m70/70\u001b[0m \u001b[32m━━━━━━━━━━━━━━━━━━━━\u001b[0m\u001b[37m\u001b[0m \u001b[1m2s\u001b[0m 27ms/step - accuracy: 0.9513 - loss: 0.1922 - val_accuracy: 0.9824 - val_loss: 0.0619 - learning_rate: 0.0010\n",
            "Epoch 7/10\n",
            "\u001b[1m70/70\u001b[0m \u001b[32m━━━━━━━━━━━━━━━━━━━━\u001b[0m\u001b[37m\u001b[0m \u001b[1m1s\u001b[0m 19ms/step - accuracy: 0.9630 - loss: 0.1417 - val_accuracy: 0.9812 - val_loss: 0.0725 - learning_rate: 0.0010\n",
            "Epoch 8/10\n",
            "\u001b[1m70/70\u001b[0m \u001b[32m━━━━━━━━━━━━━━━━━━━━\u001b[0m\u001b[37m\u001b[0m \u001b[1m2s\u001b[0m 26ms/step - accuracy: 0.9650 - loss: 0.1269 - val_accuracy: 0.9924 - val_loss: 0.0337 - learning_rate: 0.0010\n",
            "Epoch 9/10\n",
            "\u001b[1m70/70\u001b[0m \u001b[32m━━━━━━━━━━━━━━━━━━━━\u001b[0m\u001b[37m\u001b[0m \u001b[1m2s\u001b[0m 25ms/step - accuracy: 0.9717 - loss: 0.1088 - val_accuracy: 0.9940 - val_loss: 0.0240 - learning_rate: 0.0010\n",
            "Epoch 10/10\n",
            "\u001b[1m70/70\u001b[0m \u001b[32m━━━━━━━━━━━━━━━━━━━━\u001b[0m\u001b[37m\u001b[0m \u001b[1m2s\u001b[0m 25ms/step - accuracy: 0.9710 - loss: 0.0927 - val_accuracy: 0.9952 - val_loss: 0.0222 - learning_rate: 0.0010\n"
          ]
        }
      ],
      "source": [
        "history = model.fit(x_train, y_train,\n",
        "                    epochs=10,\n",
        "                    batch_size=100,\n",
        "                    validation_data = (x_valid, y_valid),\n",
        "                    callbacks = my_callbacks)"
      ]
    },
    {
      "cell_type": "code",
      "execution_count": 609,
      "id": "n_fzf_bYoklP",
      "metadata": {
        "colab": {
          "base_uri": "https://localhost:8080/",
          "height": 451
        },
        "id": "n_fzf_bYoklP",
        "outputId": "437a63ac-83ee-40ae-c527-0a1ea9cea7e4"
      },
      "outputs": [
        {
          "data": {
            "image/png": "[encoded data removed]",
            "text/plain": [
              "<Figure size 800x500 with 1 Axes>"
            ]
          },
          "metadata": {},
          "output_type": "display_data"
        }
      ],
      "source": [
        "pd.DataFrame(history.history).plot(figsize=(8, 5))\n",
        "plt.grid(True)\n",
        "plt.gca().set_ylim(0, 1)\n",
        "plt.show()"
      ]
    },
    {
      "cell_type": "code",
      "execution_count": 610,
      "id": "K-7ZhJ6P6rRl",
      "metadata": {
        "colab": {
          "base_uri": "https://localhost:8080/"
        },
        "id": "K-7ZhJ6P6rRl",
        "outputId": "0fda8e68-49fa-498c-d9c8-99096ade5f1a"
      },
      "outputs": [
        {
          "name": "stdout",
          "output_type": "stream",
          "text": [
            "\u001b[1m94/94\u001b[0m \u001b[32m━━━━━━━━━━━━━━━━━━━━\u001b[0m\u001b[37m\u001b[0m \u001b[1m1s\u001b[0m 6ms/step - accuracy: 0.9446 - loss: 0.2499\n"
          ]
        },
        {
          "data": {
            "text/plain": [
              "[0.2409910410642624, 0.9463333487510681]"
            ]
          },
          "execution_count": 610,
          "metadata": {},
          "output_type": "execute_result"
        }
      ],
      "source": [
        "model.evaluate(x_test, y_test)"
      ]
    },
    {
      "cell_type": "code",
      "execution_count": 427,
      "id": "mBaE4TQ0G55b",
      "metadata": {
        "colab": {
          "base_uri": "https://localhost:8080/"
        },
        "id": "mBaE4TQ0G55b",
        "outputId": "641795a6-d98e-4007-f5fd-7ca22df9556f"
      },
      "outputs": [
        {
          "data": {
            "text/plain": [
              "array(['business', 'education', 'entertainment', 'sports', 'technology'],\n",
              "      dtype=object)"
            ]
          },
          "execution_count": 427,
          "metadata": {},
          "output_type": "execute_result"
        }
      ],
      "source": [
        "class_names = targets.unique()\n",
        "class_names"
      ]
    },
    {
      "cell_type": "code",
      "execution_count": 612,
      "id": "27KNioZFGnxa",
      "metadata": {
        "colab": {
          "base_uri": "https://localhost:8080/"
        },
        "id": "27KNioZFGnxa",
        "outputId": "c8b7ecf9-c455-4ddc-aea3-79ade91d9426"
      },
      "outputs": [
        {
          "name": "stdout",
          "output_type": "stream",
          "text": [
            "\u001b[1m1/1\u001b[0m \u001b[32m━━━━━━━━━━━━━━━━━━━━\u001b[0m\u001b[37m\u001b[0m \u001b[1m0s\u001b[0m 261ms/step\n",
            "['technology' 'business' 'entertainment' 'education' 'technology' 'sports'\n",
            " 'sports' 'business' 'business' 'technology']\n",
            "\u001b[1m94/94\u001b[0m \u001b[32m━━━━━━━━━━━━━━━━━━━━\u001b[0m\u001b[37m\u001b[0m \u001b[1m1s\u001b[0m 7ms/step\n"
          ]
        }
      ],
      "source": [
        "X_new = x_test[:10]\n",
        "y_pred = np.argmax(model.predict(X_new), axis=1)\n",
        "print(np.array(class_names)[y_pred])\n",
        "\n",
        "y_preds = np.argmax(model.predict(x_test), axis=1)"
      ]
    },
    {
      "cell_type": "code",
      "execution_count": 613,
      "id": "UH8LzWOtIExT",
      "metadata": {
        "colab": {
          "base_uri": "https://localhost:8080/"
        },
        "id": "UH8LzWOtIExT",
        "outputId": "bd86b3e1-67d1-448c-f7af-93eee66fb292"
      },
      "outputs": [
        {
          "name": "stdout",
          "output_type": "stream",
          "text": [
            "              precision    recall  f1-score   support\n",
            "\n",
            "           0       0.94      0.91      0.93       580\n",
            "           1       0.98      0.94      0.96       648\n",
            "           2       0.96      0.98      0.97       593\n",
            "           3       0.97      0.97      0.97       602\n",
            "           4       0.88      0.93      0.90       577\n",
            "\n",
            "    accuracy                           0.95      3000\n",
            "   macro avg       0.95      0.95      0.95      3000\n",
            "weighted avg       0.95      0.95      0.95      3000\n",
            "\n"
          ]
        }
      ],
      "source": [
        "from sklearn.metrics import ConfusionMatrixDisplay, classification_report\n",
        "cm = classification_report(y_test_coms, y_preds)\n",
        "print(cm)"
      ]
    },
    {
      "cell_type": "code",
      "execution_count": 430,
      "id": "Z077mJsuZWlO",
      "metadata": {
        "colab": {
          "base_uri": "https://localhost:8080/",
          "height": 590
        },
        "id": "Z077mJsuZWlO",
        "outputId": "46e5161b-6183-4b22-a6cb-91a993a43080"
      },
      "outputs": [
        {
          "data": {
            "text/plain": [
              "Text(0.5, 1.0, 'Confusion Matrix Model with pretrained word embeddings')"
            ]
          },
          "execution_count": 430,
          "metadata": {},
          "output_type": "execute_result"
        },
        {
          "data": {
            "image/png": "[encoded data removed]",
            "text/plain": [
              "<Figure size 1000x500 with 2 Axes>"
            ]
          },
          "metadata": {},
          "output_type": "display_data"
        }
      ],
      "source": [
        "fig, ax = plt.subplots(figsize=(10, 5))\n",
        "disp = ConfusionMatrixDisplay.from_predictions(y_test_coms, y_preds, ax=ax,\n",
        "                                               xticks_rotation=\"vertical\")\n",
        "ax.xaxis.set_ticklabels(classnames.values())\n",
        "ax.yaxis.set_ticklabels(classnames.values())\n",
        "plt.title(\"Confusion Matrix Model with pretrained word embeddings\")"
      ]
    },
    {
      "cell_type": "code",
      "execution_count": 127,
      "id": "pcgAc0Hti5LR",
      "metadata": {
        "id": "pcgAc0Hti5LR"
      },
      "outputs": [],
      "source": [
        "import pickle"
      ]
    },
    {
      "cell_type": "code",
      "execution_count": 128,
      "id": "txDCk59iApqN",
      "metadata": {
        "id": "txDCk59iApqN"
      },
      "outputs": [],
      "source": [
        "pickle.dump(model, open('modelreal.pkl', 'wb'))"
      ]
    },
    {
      "cell_type": "code",
      "execution_count": 129,
      "id": "NUpRlecaBZCq",
      "metadata": {
        "colab": {
          "base_uri": "https://localhost:8080/"
        },
        "id": "NUpRlecaBZCq",
        "outputId": "a9a32158-f97e-4d70-e084-25d57f521d34"
      },
      "outputs": [
        {
          "name": "stderr",
          "output_type": "stream",
          "text": [
            "WARNING:tensorflow:Layer lstm_18 will not use cuDNN kernels since it doesn't meet the criteria. It will use a generic GPU kernel as fallback when running on GPU.\n"
          ]
        }
      ],
      "source": [
        "pickled_model = pickle.load(open('modelreal.pkl', 'rb'))"
      ]
    },
    {
      "cell_type": "code",
      "execution_count": 131,
      "id": "5dzClam4BrnL",
      "metadata": {
        "colab": {
          "base_uri": "https://localhost:8080/"
        },
        "id": "5dzClam4BrnL",
        "outputId": "c37ab654-6757-4930-d79d-6943fff6ae37"
      },
      "outputs": [
        {
          "name": "stdout",
          "output_type": "stream",
          "text": [
            "94/94 [==============================] - 0s 3ms/step\n"
          ]
        }
      ],
      "source": [
        "ypred = np.argmax(pickled_model.predict(x_test), axis=1)"
      ]
    },
    {
      "cell_type": "code",
      "execution_count": 132,
      "id": "2n-DVEoNCR4H",
      "metadata": {
        "colab": {
          "base_uri": "https://localhost:8080/"
        },
        "id": "2n-DVEoNCR4H",
        "outputId": "55c62fe4-4377-47b0-d83d-badd80a3ad51"
      },
      "outputs": [
        {
          "name": "stdout",
          "output_type": "stream",
          "text": [
            "['entertainment' 'technology' 'education' 'entertainment' 'entertainment'\n",
            " 'sports' 'technology' 'education' 'entertainment' 'entertainment']\n"
          ]
        }
      ],
      "source": [
        "print(np.array(class_names)[y_pred])"
      ]
    }
  ],
  "metadata": {
    "accelerator": "GPU",
    "colab": {
      "gpuType": "T4",
      "provenance": []
    },
    "kernelspec": {
      "display_name": "Python 3",
      "name": "python3"
    },
    "language_info": {
      "codemirror_mode": {
        "name": "ipython",
        "version": 3
      },
      "file_extension": ".py",
      "mimetype": "text/x-python",
      "name": "python",
      "nbconvert_exporter": "python",
      "pygments_lexer": "ipython3",
      "version": "3.11.9"
    }
  },
  "nbformat": 4,
  "nbformat_minor": 5
}
