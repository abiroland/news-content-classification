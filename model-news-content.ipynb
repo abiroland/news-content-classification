{
  "cells": [
    {
      "cell_type": "code",
      "execution_count": 1,
      "id": "f2abb0c9",
      "metadata": {
        "id": "f2abb0c9"
      },
      "outputs": [],
      "source": [
        "import os\n",
        "import glob\n",
        "import pathlib\n",
        "import pandas as pd\n",
        "import numpy as np\n",
        "import tensorflow as tf\n",
        "import keras\n",
        "from sklearn.feature_extraction.text import TfidfVectorizer\n",
        "from sklearn.model_selection import train_test_split\n",
        "import matplotlib.pyplot as plt"
      ]
    },
    {
      "cell_type": "code",
      "execution_count": 2,
      "id": "XXWnFdK6te5x",
      "metadata": {
        "colab": {
          "base_uri": "https://localhost:8080/"
        },
        "id": "XXWnFdK6te5x",
        "outputId": "d14aa04a-3eba-4bbf-fd69-6621ce22f1c0"
      },
      "outputs": [
        {
          "name": "stdout",
          "output_type": "stream",
          "text": [
            "Drive already mounted at /content/drive; to attempt to forcibly remount, call drive.mount(\"/content/drive\", force_remount=True).\n"
          ]
        }
      ],
      "source": [
        "from google.colab import drive\n",
        "drive.mount('/content/drive')"
      ]
    },
    {
      "cell_type": "markdown",
      "id": "ea5e3932",
      "metadata": {
        "id": "ea5e3932"
      },
      "source": [
        "## Extracting files\n"
      ]
    },
    {
      "cell_type": "code",
      "execution_count": 3,
      "id": "76fac624",
      "metadata": {
        "id": "76fac624"
      },
      "outputs": [],
      "source": [
        "def extract_files(folder_path):\n",
        "    csv_files = glob.glob(os.path.join(folder_path, \"*.csv\"))\n",
        "    dataframes = []\n",
        "\n",
        "    for file in csv_files:\n",
        "        df = pd.read_csv(file)\n",
        "        dataframes.append(df)\n",
        "    return dataframes\n",
        "\n",
        "\n",
        "extracted = extract_files(\"/content/drive/MyDrive/Topic_modelling\")"
      ]
    },
    {
      "cell_type": "code",
      "execution_count": 4,
      "id": "870ea5d5",
      "metadata": {
        "id": "870ea5d5"
      },
      "outputs": [],
      "source": [
        "alldata = pd.DataFrame()\n",
        "for listitems in extracted:\n",
        "    alldata = pd.concat([alldata, listitems])"
      ]
    },
    {
      "cell_type": "markdown",
      "id": "9229e619",
      "metadata": {
        "id": "9229e619"
      },
      "source": [
        "## Feature extraction"
      ]
    },
    {
      "cell_type": "code",
      "execution_count": 5,
      "id": "A7nkj8K6SzP9",
      "metadata": {
        "colab": {
          "base_uri": "https://localhost:8080/",
          "height": 293
        },
        "id": "A7nkj8K6SzP9",
        "outputId": "e2c55aee-3651-4b2d-c733-75b9368b8481"
      },
      "outputs": [
        {
          "data": {
            "application/vnd.google.colaboratory.intrinsic+json": {
              "summary": "{\n  \"name\": \"alldata\",\n  \"rows\": 10000,\n  \"fields\": [\n    {\n      \"column\": \"headlines\",\n      \"properties\": {\n        \"dtype\": \"string\",\n        \"num_unique_values\": 9987,\n        \"samples\": [\n          \"AP EAMCET/ EAPCET 2023 Counselling: Schedule released, registrations from July 24\",\n          \"France\\u2019s TotalEnergies to invest $300 million in JV with Adani Group\",\n          \"7 things you need to know about Gemini, Google\\u2019s rival to OpenAI\\u2019s GPT\"\n        ],\n        \"semantic_type\": \"\",\n        \"description\": \"\"\n      }\n    },\n    {\n      \"column\": \"description\",\n      \"properties\": {\n        \"dtype\": \"string\",\n        \"num_unique_values\": 9978,\n        \"samples\": [\n          \"Animal box office collection Day 8 early report: Helmed by Sandeep Reddy Vanga, the Ranbir Kapoo-starrer has collected more than Rs 560 crore worldwide.\",\n          \"The 23-year-old seam bowling all-rounder, who is recovering from a surgery on his index finger in his right hand, had a bowl at the nets in Alur.\",\n          \"Star forward, Karim Benzema has been nominated for the men's best player award alongside Lionel Messi and Kylian Mbappe, both of whom had starred in the 2022 World Cup final last year.\"\n        ],\n        \"semantic_type\": \"\",\n        \"description\": \"\"\n      }\n    },\n    {\n      \"column\": \"content\",\n      \"properties\": {\n        \"dtype\": \"string\",\n        \"num_unique_values\": 9991,\n        \"samples\": [\n          \"Days after Ranbir Kapoor managed to upstage mother Neetu Kapoor in an ad for a snack company, Neetu has made a comeback which has been described as \\u201cperfect\\u201d by Ranbir\\u2019s Animal co-star Triptii Dimri. Earlier, an ad for Lay\\u2019s had Ranbir snacking under Neetu\\u2019s nose without her getting to know about it. In the new ad, Neetu has managed to do the same.\\nTriptii shared the ad on her social media and wrote in the caption, \\u201cHave you also caught your friends red-handed stealing your @lays_india pack? \\ud83d\\ude05 Perfect comeback @neetu54 ji! Scorecard is now even at 1-1, is there more to come? \\ud83d\\udc40.\\u201d Lays India shared it with the caption, \\u201cWhen you love something, you just can\\u2019t let it go! #IseyKehteHainPyaar scorecard update RK 1- Neetu 1.\\u201d\\nYou have exhausted your monthly limit of free stories.\\nRegister to read more stories\\nContinue With:-\\nGoogle\\nFacebook\\nEmail\\nAlready have an account? Sign in\\n\\nClick for more updates and latest Bollywood news along with Entertainment updates. Also get latest news and top headlines from India and around the world at The Indian Express.\",\n          \"Paris Saint Germain(PSG) superstar Kylian Mbappe is awestruck after his teammate Neymar Jr takes a free kick during warmups ahead of the team\\u2019s Ligue 1 clash against Stade de Reims on Sunday.\\nIn a video released by Prime Video Sport France Neymar is seen taking a free kick outside the penalty box he strikes it cleanly into the top left corner of the goal. The goalkeeper did not even move to try to save the ball.\",\n          \"SWAYAM January 2023 Result: The NTA has announced the Study Webs of Active Learning for Young Aspiring Minds, or SWAYAM, January 2023 semester exam results. The SWAYAM January 2023 result can be checked and downloaded from the NTA website \\u2013 swayam.nta.ac.in and at swayam.ntaonline.in. \\nThe National Testing Agency (NTA) conducted the SWAYAM January 2023 semester exam between October 19 and 21 in six sessions at 102 centres in 77 cities across the country. \\nRegister to continue reading this story\\nGoogle\\nFacebook\\nEmail\\nAlready have an account? Sign in\"\n        ],\n        \"semantic_type\": \"\",\n        \"description\": \"\"\n      }\n    },\n    {\n      \"column\": \"url\",\n      \"properties\": {\n        \"dtype\": \"string\",\n        \"num_unique_values\": 9990,\n        \"samples\": [\n          \"https://indianexpress.com/article/entertainment/tamil/vetrimaaran-on-nayantharas-annapoorni-being-taken-off-netflix-these-decisions-will-question-the-authority-of-cbfc-9113461/\",\n          \"https://indianexpress.com/article/entertainment/bollywood/karan-johar-questions-why-kajol-kept-a-silent-distance-from-rani-mukerji-kuch-kuch-hota-hai-9048063/\",\n          \"https://indianexpress.com/article/education/study-abroad/university-of-sheffield-to-offer-ug-scholarships-worth-10000-9019891/\"\n        ],\n        \"semantic_type\": \"\",\n        \"description\": \"\"\n      }\n    },\n    {\n      \"column\": \"category\",\n      \"properties\": {\n        \"dtype\": \"category\",\n        \"num_unique_values\": 5,\n        \"samples\": [\n          \"business\",\n          \"technology\",\n          \"entertainment\"\n        ],\n        \"semantic_type\": \"\",\n        \"description\": \"\"\n      }\n    }\n  ]\n}",
              "type": "dataframe",
              "variable_name": "alldata"
            },
            "text/html": [
              "\n",
              "  <div id=\"df-c0e0fd6c-3f61-4639-8049-e49333f0e8a7\" class=\"colab-df-container\">\n",
              "    <div>\n",
              "<style scoped>\n",
              "    .dataframe tbody tr th:only-of-type {\n",
              "        vertical-align: middle;\n",
              "    }\n",
              "\n",
              "    .dataframe tbody tr th {\n",
              "        vertical-align: top;\n",
              "    }\n",
              "\n",
              "    .dataframe thead th {\n",
              "        text-align: right;\n",
              "    }\n",
              "</style>\n",
              "<table border=\"1\" class=\"dataframe\">\n",
              "  <thead>\n",
              "    <tr style=\"text-align: right;\">\n",
              "      <th></th>\n",
              "      <th>headlines</th>\n",
              "      <th>description</th>\n",
              "      <th>content</th>\n",
              "      <th>url</th>\n",
              "      <th>category</th>\n",
              "    </tr>\n",
              "  </thead>\n",
              "  <tbody>\n",
              "    <tr>\n",
              "      <th>0</th>\n",
              "      <td>CUET PG 2024: Register with NTA to enable admi...</td>\n",
              "      <td>CUET PG 2024: UGC said that the list of partic...</td>\n",
              "      <td>The Common University Entrance Test Postgradua...</td>\n",
              "      <td>https://indianexpress.com/article/education/cu...</td>\n",
              "      <td>education</td>\n",
              "    </tr>\n",
              "    <tr>\n",
              "      <th>1</th>\n",
              "      <td>Oxford ends ties with TCS iON over technical g...</td>\n",
              "      <td>On April 10, 2023 TCS had announced that it ha...</td>\n",
              "      <td>Less than a year after the Oxford University s...</td>\n",
              "      <td>https://indianexpress.com/article/education/ox...</td>\n",
              "      <td>education</td>\n",
              "    </tr>\n",
              "    <tr>\n",
              "      <th>2</th>\n",
              "      <td>Enrollments in Computer Engineering surge, mec...</td>\n",
              "      <td>AISHE Report 2021-22: The enrollment in STEM (...</td>\n",
              "      <td>Student enrollments in Computer Engineering ha...</td>\n",
              "      <td>https://indianexpress.com/article/education/en...</td>\n",
              "      <td>education</td>\n",
              "    </tr>\n",
              "    <tr>\n",
              "      <th>3</th>\n",
              "      <td>NDMC plans to provide free JEE, NEET UG coachi...</td>\n",
              "      <td>The coaching partner will also provide up-to-d...</td>\n",
              "      <td>The New Delhi Municipal Council (NDMC) is invi...</td>\n",
              "      <td>https://indianexpress.com/article/education/nd...</td>\n",
              "      <td>education</td>\n",
              "    </tr>\n",
              "    <tr>\n",
              "      <th>4</th>\n",
              "      <td>BA courses register highest enrollment, maximu...</td>\n",
              "      <td>AISHE Report 2021-22: For programmes including...</td>\n",
              "      <td>Bachelor of Arts (BA) courses had the highest ...</td>\n",
              "      <td>https://indianexpress.com/article/education/ba...</td>\n",
              "      <td>education</td>\n",
              "    </tr>\n",
              "  </tbody>\n",
              "</table>\n",
              "</div>\n",
              "    <div class=\"colab-df-buttons\">\n",
              "\n",
              "  <div class=\"colab-df-container\">\n",
              "    <button class=\"colab-df-convert\" onclick=\"convertToInteractive('df-c0e0fd6c-3f61-4639-8049-e49333f0e8a7')\"\n",
              "            title=\"Convert this dataframe to an interactive table.\"\n",
              "            style=\"display:none;\">\n",
              "\n",
              "  <svg xmlns=\"http://www.w3.org/2000/svg\" height=\"24px\" viewBox=\"0 -960 960 960\">\n",
              "    <path d=\"M120-120v-720h720v720H120Zm60-500h600v-160H180v160Zm220 220h160v-160H400v160Zm0 220h160v-160H400v160ZM180-400h160v-160H180v160Zm440 0h160v-160H620v160ZM180-180h160v-160H180v160Zm440 0h160v-160H620v160Z\"/>\n",
              "  </svg>\n",
              "    </button>\n",
              "\n",
              "  <style>\n",
              "    .colab-df-container {\n",
              "      display:flex;\n",
              "      gap: 12px;\n",
              "    }\n",
              "\n",
              "    .colab-df-convert {\n",
              "      background-color: #E8F0FE;\n",
              "      border: none;\n",
              "      border-radius: 50%;\n",
              "      cursor: pointer;\n",
              "      display: none;\n",
              "      fill: #1967D2;\n",
              "      height: 32px;\n",
              "      padding: 0 0 0 0;\n",
              "      width: 32px;\n",
              "    }\n",
              "\n",
              "    .colab-df-convert:hover {\n",
              "      background-color: #E2EBFA;\n",
              "      box-shadow: 0px 1px 2px rgba(60, 64, 67, 0.3), 0px 1px 3px 1px rgba(60, 64, 67, 0.15);\n",
              "      fill: #174EA6;\n",
              "    }\n",
              "\n",
              "    .colab-df-buttons div {\n",
              "      margin-bottom: 4px;\n",
              "    }\n",
              "\n",
              "    [theme=dark] .colab-df-convert {\n",
              "      background-color: #3B4455;\n",
              "      fill: #D2E3FC;\n",
              "    }\n",
              "\n",
              "    [theme=dark] .colab-df-convert:hover {\n",
              "      background-color: #434B5C;\n",
              "      box-shadow: 0px 1px 3px 1px rgba(0, 0, 0, 0.15);\n",
              "      filter: drop-shadow(0px 1px 2px rgba(0, 0, 0, 0.3));\n",
              "      fill: #FFFFFF;\n",
              "    }\n",
              "  </style>\n",
              "\n",
              "    <script>\n",
              "      const buttonEl =\n",
              "        document.querySelector('#df-c0e0fd6c-3f61-4639-8049-e49333f0e8a7 button.colab-df-convert');\n",
              "      buttonEl.style.display =\n",
              "        google.colab.kernel.accessAllowed ? 'block' : 'none';\n",
              "\n",
              "      async function convertToInteractive(key) {\n",
              "        const element = document.querySelector('#df-c0e0fd6c-3f61-4639-8049-e49333f0e8a7');\n",
              "        const dataTable =\n",
              "          await google.colab.kernel.invokeFunction('convertToInteractive',\n",
              "                                                    [key], {});\n",
              "        if (!dataTable) return;\n",
              "\n",
              "        const docLinkHtml = 'Like what you see? Visit the ' +\n",
              "          '<a target=\"_blank\" href=https://colab.research.google.com/notebooks/data_table.ipynb>data table notebook</a>'\n",
              "          + ' to learn more about interactive tables.';\n",
              "        element.innerHTML = '';\n",
              "        dataTable['output_type'] = 'display_data';\n",
              "        await google.colab.output.renderOutput(dataTable, element);\n",
              "        const docLink = document.createElement('div');\n",
              "        docLink.innerHTML = docLinkHtml;\n",
              "        element.appendChild(docLink);\n",
              "      }\n",
              "    </script>\n",
              "  </div>\n",
              "\n",
              "\n",
              "<div id=\"df-9493e096-d6fc-412a-9e32-3c858764618f\">\n",
              "  <button class=\"colab-df-quickchart\" onclick=\"quickchart('df-9493e096-d6fc-412a-9e32-3c858764618f')\"\n",
              "            title=\"Suggest charts\"\n",
              "            style=\"display:none;\">\n",
              "\n",
              "<svg xmlns=\"http://www.w3.org/2000/svg\" height=\"24px\"viewBox=\"0 0 24 24\"\n",
              "     width=\"24px\">\n",
              "    <g>\n",
              "        <path d=\"M19 3H5c-1.1 0-2 .9-2 2v14c0 1.1.9 2 2 2h14c1.1 0 2-.9 2-2V5c0-1.1-.9-2-2-2zM9 17H7v-7h2v7zm4 0h-2V7h2v10zm4 0h-2v-4h2v4z\"/>\n",
              "    </g>\n",
              "</svg>\n",
              "  </button>\n",
              "\n",
              "<style>\n",
              "  .colab-df-quickchart {\n",
              "      --bg-color: #E8F0FE;\n",
              "      --fill-color: #1967D2;\n",
              "      --hover-bg-color: #E2EBFA;\n",
              "      --hover-fill-color: #174EA6;\n",
              "      --disabled-fill-color: #AAA;\n",
              "      --disabled-bg-color: #DDD;\n",
              "  }\n",
              "\n",
              "  [theme=dark] .colab-df-quickchart {\n",
              "      --bg-color: #3B4455;\n",
              "      --fill-color: #D2E3FC;\n",
              "      --hover-bg-color: #434B5C;\n",
              "      --hover-fill-color: #FFFFFF;\n",
              "      --disabled-bg-color: #3B4455;\n",
              "      --disabled-fill-color: #666;\n",
              "  }\n",
              "\n",
              "  .colab-df-quickchart {\n",
              "    background-color: var(--bg-color);\n",
              "    border: none;\n",
              "    border-radius: 50%;\n",
              "    cursor: pointer;\n",
              "    display: none;\n",
              "    fill: var(--fill-color);\n",
              "    height: 32px;\n",
              "    padding: 0;\n",
              "    width: 32px;\n",
              "  }\n",
              "\n",
              "  .colab-df-quickchart:hover {\n",
              "    background-color: var(--hover-bg-color);\n",
              "    box-shadow: 0 1px 2px rgba(60, 64, 67, 0.3), 0 1px 3px 1px rgba(60, 64, 67, 0.15);\n",
              "    fill: var(--button-hover-fill-color);\n",
              "  }\n",
              "\n",
              "  .colab-df-quickchart-complete:disabled,\n",
              "  .colab-df-quickchart-complete:disabled:hover {\n",
              "    background-color: var(--disabled-bg-color);\n",
              "    fill: var(--disabled-fill-color);\n",
              "    box-shadow: none;\n",
              "  }\n",
              "\n",
              "  .colab-df-spinner {\n",
              "    border: 2px solid var(--fill-color);\n",
              "    border-color: transparent;\n",
              "    border-bottom-color: var(--fill-color);\n",
              "    animation:\n",
              "      spin 1s steps(1) infinite;\n",
              "  }\n",
              "\n",
              "  @keyframes spin {\n",
              "    0% {\n",
              "      border-color: transparent;\n",
              "      border-bottom-color: var(--fill-color);\n",
              "      border-left-color: var(--fill-color);\n",
              "    }\n",
              "    20% {\n",
              "      border-color: transparent;\n",
              "      border-left-color: var(--fill-color);\n",
              "      border-top-color: var(--fill-color);\n",
              "    }\n",
              "    30% {\n",
              "      border-color: transparent;\n",
              "      border-left-color: var(--fill-color);\n",
              "      border-top-color: var(--fill-color);\n",
              "      border-right-color: var(--fill-color);\n",
              "    }\n",
              "    40% {\n",
              "      border-color: transparent;\n",
              "      border-right-color: var(--fill-color);\n",
              "      border-top-color: var(--fill-color);\n",
              "    }\n",
              "    60% {\n",
              "      border-color: transparent;\n",
              "      border-right-color: var(--fill-color);\n",
              "    }\n",
              "    80% {\n",
              "      border-color: transparent;\n",
              "      border-right-color: var(--fill-color);\n",
              "      border-bottom-color: var(--fill-color);\n",
              "    }\n",
              "    90% {\n",
              "      border-color: transparent;\n",
              "      border-bottom-color: var(--fill-color);\n",
              "    }\n",
              "  }\n",
              "</style>\n",
              "\n",
              "  <script>\n",
              "    async function quickchart(key) {\n",
              "      const quickchartButtonEl =\n",
              "        document.querySelector('#' + key + ' button');\n",
              "      quickchartButtonEl.disabled = true;  // To prevent multiple clicks.\n",
              "      quickchartButtonEl.classList.add('colab-df-spinner');\n",
              "      try {\n",
              "        const charts = await google.colab.kernel.invokeFunction(\n",
              "            'suggestCharts', [key], {});\n",
              "      } catch (error) {\n",
              "        console.error('Error during call to suggestCharts:', error);\n",
              "      }\n",
              "      quickchartButtonEl.classList.remove('colab-df-spinner');\n",
              "      quickchartButtonEl.classList.add('colab-df-quickchart-complete');\n",
              "    }\n",
              "    (() => {\n",
              "      let quickchartButtonEl =\n",
              "        document.querySelector('#df-9493e096-d6fc-412a-9e32-3c858764618f button');\n",
              "      quickchartButtonEl.style.display =\n",
              "        google.colab.kernel.accessAllowed ? 'block' : 'none';\n",
              "    })();\n",
              "  </script>\n",
              "</div>\n",
              "\n",
              "    </div>\n",
              "  </div>\n"
            ],
            "text/plain": [
              "                                           headlines  \\\n",
              "0  CUET PG 2024: Register with NTA to enable admi...   \n",
              "1  Oxford ends ties with TCS iON over technical g...   \n",
              "2  Enrollments in Computer Engineering surge, mec...   \n",
              "3  NDMC plans to provide free JEE, NEET UG coachi...   \n",
              "4  BA courses register highest enrollment, maximu...   \n",
              "\n",
              "                                         description  \\\n",
              "0  CUET PG 2024: UGC said that the list of partic...   \n",
              "1  On April 10, 2023 TCS had announced that it ha...   \n",
              "2  AISHE Report 2021-22: The enrollment in STEM (...   \n",
              "3  The coaching partner will also provide up-to-d...   \n",
              "4  AISHE Report 2021-22: For programmes including...   \n",
              "\n",
              "                                             content  \\\n",
              "0  The Common University Entrance Test Postgradua...   \n",
              "1  Less than a year after the Oxford University s...   \n",
              "2  Student enrollments in Computer Engineering ha...   \n",
              "3  The New Delhi Municipal Council (NDMC) is invi...   \n",
              "4  Bachelor of Arts (BA) courses had the highest ...   \n",
              "\n",
              "                                                 url   category  \n",
              "0  https://indianexpress.com/article/education/cu...  education  \n",
              "1  https://indianexpress.com/article/education/ox...  education  \n",
              "2  https://indianexpress.com/article/education/en...  education  \n",
              "3  https://indianexpress.com/article/education/nd...  education  \n",
              "4  https://indianexpress.com/article/education/ba...  education  "
            ]
          },
          "execution_count": 5,
          "metadata": {},
          "output_type": "execute_result"
        }
      ],
      "source": [
        "alldata.head()"
      ]
    },
    {
      "cell_type": "code",
      "execution_count": 6,
      "id": "1105635c",
      "metadata": {
        "id": "1105635c"
      },
      "outputs": [],
      "source": [
        "targets = alldata[\"category\"]\n",
        "feature = alldata[\"content\"]"
      ]
    },
    {
      "cell_type": "code",
      "execution_count": 7,
      "id": "qhOo_SfPFFmX",
      "metadata": {
        "colab": {
          "base_uri": "https://localhost:8080/"
        },
        "id": "qhOo_SfPFFmX",
        "outputId": "c8aa1467-f9a7-4118-eb99-467803ae1bfc"
      },
      "outputs": [
        {
          "name": "stdout",
          "output_type": "stream",
          "text": [
            "['education' 'business' 'entertainment' 'sports' 'technology']\n"
          ]
        }
      ],
      "source": [
        "print(targets.unique())"
      ]
    },
    {
      "cell_type": "code",
      "execution_count": 7,
      "id": "3bf16e35",
      "metadata": {
        "id": "3bf16e35"
      },
      "outputs": [],
      "source": [
        "VALIDATION_SPLIT = 0.25\n",
        "TRAIN_SPLIT = 0.8\n",
        "\n",
        "nb_training_samples = int(TRAIN_SPLIT * feature.shape[0])\n",
        "nb_validation_samples = int(VALIDATION_SPLIT * feature.shape[0])\n",
        "\n",
        "#Train/Test sets\n",
        "x_train, x_test = feature[:nb_training_samples], feature[nb_training_samples:]\n",
        "y_train, y_test = targets[:nb_training_samples], targets[nb_training_samples:]\n",
        "\n",
        "# validation sets\n",
        "x_valid = x_train[-nb_validation_samples:]\n",
        "y_valid = y_train[-nb_validation_samples:]"
      ]
    },
    {
      "cell_type": "code",
      "execution_count": 89,
      "id": "-wFeINwQ2bgU",
      "metadata": {
        "id": "-wFeINwQ2bgU"
      },
      "outputs": [],
      "source": [
        "maxlen = 100\n",
        "embedding_dim = 100\n",
        "max_words = 10000\n",
        "\n",
        "classnames = {\n",
        "    0 : 'Business',\n",
        "    1 : 'Education',\n",
        "    2 : 'Entertainment',\n",
        "    3 : 'Sports',\n",
        "    4 : 'Technology'\n",
        "}"
      ]
    },
    {
      "cell_type": "markdown",
      "id": "324c114a",
      "metadata": {
        "id": "324c114a"
      },
      "source": [
        "### Prepare pretained word embeddings"
      ]
    },
    {
      "cell_type": "code",
      "execution_count": 94,
      "id": "5511fda1",
      "metadata": {
        "colab": {
          "base_uri": "https://localhost:8080/"
        },
        "id": "5511fda1",
        "outputId": "a99b06be-e59c-4dd4-99fa-2e783b6ac1c8"
      },
      "outputs": [
        {
          "name": "stdout",
          "output_type": "stream",
          "text": [
            "found 400000 word vectors.\n"
          ]
        }
      ],
      "source": [
        "embeddings_index = {}\n",
        "f = open('glove.6B.100d.txt')\n",
        "for line in f:\n",
        "    values = line.split()\n",
        "    word = values[0]\n",
        "    coefs = np.asarray(values[1:], dtype=\"float32\")\n",
        "    embeddings_index[word] = coefs\n",
        "f.close()\n",
        "\n",
        "print('found %s word vectors.' % len(embeddings_index))"
      ]
    },
    {
      "cell_type": "code",
      "execution_count": 95,
      "id": "d9f93746",
      "metadata": {
        "id": "d9f93746"
      },
      "outputs": [],
      "source": [
        "embedding_matrix = np.zeros((max_words, embedding_dim))\n",
        "for word, i in word_index.items():\n",
        "    if i < max_words:\n",
        "        embedding_vector = embeddings_index.get(word)\n",
        "        if embedding_vector is not None:\n",
        "            embedding_matrix[i] = embedding_vector"
      ]
    },
    {
      "cell_type": "code",
      "execution_count": 96,
      "id": "hwVFFoi_aKLk",
      "metadata": {
        "id": "hwVFFoi_aKLk"
      },
      "outputs": [],
      "source": [
        "def scheduler(epoch, lr):\n",
        "    if epoch < 10:\n",
        "        return lr\n",
        "    else:\n",
        "        return lr * tf.math.exp(-0.1)\n",
        "\n",
        "lr_scheduler = keras.callbacks.LearningRateScheduler(scheduler)"
      ]
    },
    {
      "cell_type": "code",
      "execution_count": 97,
      "id": "7QkOXiNd_0cC",
      "metadata": {
        "id": "7QkOXiNd_0cC"
      },
      "outputs": [],
      "source": [
        "my_callbacks = [\n",
        "    lr_scheduler,\n",
        "    keras.callbacks.EarlyStopping(monitor=\"val_loss\",\n",
        "                                  patience=10, restore_best_weights=True),\n",
        "    keras.callbacks.ReduceLROnPlateau(monitor='val_loss', factor=0.2,\n",
        "                                      patience=10, min_lr=0.0001),\n",
        "    keras.callbacks.ModelCheckpoint(\"model.keras\", save_best_only=True)\n",
        "]"
      ]
    },
    {
      "cell_type": "markdown",
      "id": "077854d3",
      "metadata": {
        "id": "077854d3"
      },
      "source": [
        "### Using pretrained word embeddings\n"
      ]
    },
    {
      "cell_type": "code",
      "execution_count": 98,
      "id": "c4876f85",
      "metadata": {
        "colab": {
          "base_uri": "https://localhost:8080/"
        },
        "id": "c4876f85",
        "outputId": "85a4aba7-9ff9-42f5-bd6c-5991b5ef03bb"
      },
      "outputs": [
        {
          "name": "stdout",
          "output_type": "stream",
          "text": [
            "Shape of data tensor: (10000, 100)\n",
            "Shape of label tensor: (10000,)\n"
          ]
        }
      ],
      "source": [
        "# Tokenize feature\n",
        "\n",
        "from tf_keras.preprocessing.text import Tokenizer\n",
        "from keras.preprocessing.sequence import pad_sequences\n",
        "\n",
        "maxlen = 100\n",
        "max_words = 10000\n",
        "\n",
        "tokenizer = Tokenizer(num_words=max_words)\n",
        "tokenizer.fit_on_texts(feature)\n",
        "sequences = tokenizer.texts_to_sequences(feature)\n",
        "\n",
        "word_index = tokenizer.word_index\n",
        "\n",
        "data = pad_sequences(sequences, maxlen=maxlen)\n",
        "\n",
        "labels = np.asarray(targets)\n",
        "print('Shape of data tensor:', data.shape)\n",
        "print('Shape of label tensor:', labels.shape)\n",
        "\n",
        "indices = np.arange(data.shape[0])\n",
        "np.random.shuffle(indices)\n",
        "data = data[indices]\n",
        "labels = labels[indices]"
      ]
    },
    {
      "cell_type": "code",
      "execution_count": 99,
      "id": "c5dede9c",
      "metadata": {
        "id": "c5dede9c"
      },
      "outputs": [],
      "source": [
        "VALIDATION_SPLIT = 0.25\n",
        "TRAIN_SPLIT = 0.7\n",
        "\n",
        "nb_training_samples = int(TRAIN_SPLIT * data.shape[0])\n",
        "nb_validation_samples = int(VALIDATION_SPLIT * data.shape[0])\n",
        "\n",
        "#Train/Test sets\n",
        "x_train, x_test = data[:nb_training_samples], data[nb_training_samples:]\n",
        "y_train, y_test_real = labels[:nb_training_samples], labels[nb_training_samples:]\n",
        "\n",
        "# validation sets\n",
        "x_valid = x_train[-nb_validation_samples:]\n",
        "y_valid = y_train[-nb_validation_samples:]"
      ]
    },
    {
      "cell_type": "code",
      "execution_count": 23,
      "id": "NwhQXecasEzZ",
      "metadata": {
        "colab": {
          "base_uri": "https://localhost:8080/"
        },
        "id": "NwhQXecasEzZ",
        "outputId": "4c2770ad-f9c7-4196-c38a-21daf0a5bde7"
      },
      "outputs": [
        {
          "name": "stdout",
          "output_type": "stream",
          "text": [
            "['technology' 'education' 'entertainment' 'sports' 'entertainment'\n",
            " 'business' 'sports' 'education' 'education' 'sports']\n"
          ]
        }
      ],
      "source": [
        "print(y_train[0:10])\n",
        "#print(type(y_valid))"
      ]
    },
    {
      "cell_type": "code",
      "execution_count": 100,
      "id": "VCjZdu2Ps0S-",
      "metadata": {
        "id": "VCjZdu2Ps0S-"
      },
      "outputs": [],
      "source": [
        "from sklearn.preprocessing import LabelEncoder\n",
        "\n",
        "encoder = LabelEncoder()\n",
        "encoder.fit(y_train)\n",
        "y_train = encoder.transform(y_train)"
      ]
    },
    {
      "cell_type": "code",
      "execution_count": 101,
      "id": "ItAjfufczMle",
      "metadata": {
        "id": "ItAjfufczMle"
      },
      "outputs": [],
      "source": [
        "y_valid = encoder.transform(y_valid)\n",
        "y_test = encoder.transform(y_test_real)\n",
        "y_test_coms = encoder.transform(y_test_real)"
      ]
    },
    {
      "cell_type": "code",
      "execution_count": 102,
      "id": "9ZvsbFP2qrCJ",
      "metadata": {
        "id": "9ZvsbFP2qrCJ"
      },
      "outputs": [],
      "source": [
        "y_train = keras.utils.to_categorical(y_train)\n",
        "y_valid = keras.utils.to_categorical(y_valid)\n",
        "y_test = keras.utils.to_categorical(y_test)"
      ]
    },
    {
      "cell_type": "code",
      "execution_count": 103,
      "id": "ct5tSOx_Ap83",
      "metadata": {
        "colab": {
          "base_uri": "https://localhost:8080/"
        },
        "id": "ct5tSOx_Ap83",
        "outputId": "8a7691c9-4a6a-406b-8c25-4f64c154b69d"
      },
      "outputs": [
        {
          "name": "stdout",
          "output_type": "stream",
          "text": [
            "[[0. 1. 0. 0. 0.]\n",
            " [1. 0. 0. 0. 0.]\n",
            " [0. 1. 0. 0. 0.]\n",
            " ...\n",
            " [0. 1. 0. 0. 0.]\n",
            " [0. 1. 0. 0. 0.]\n",
            " [0. 1. 0. 0. 0.]]\n"
          ]
        }
      ],
      "source": [
        "print(y_train)"
      ]
    },
    {
      "cell_type": "markdown",
      "id": "6c238314",
      "metadata": {
        "id": "6c238314"
      },
      "source": [
        "### Model with Word embeddings\n"
      ]
    },
    {
      "cell_type": "code",
      "execution_count": 118,
      "id": "f20eac00",
      "metadata": {
        "colab": {
          "base_uri": "https://localhost:8080/"
        },
        "id": "f20eac00",
        "outputId": "ec603529-3314-4e73-8af1-caa493fdcf8a"
      },
      "outputs": [
        {
          "name": "stderr",
          "output_type": "stream",
          "text": [
            "WARNING:tensorflow:Layer lstm_18 will not use cuDNN kernels since it doesn't meet the criteria. It will use a generic GPU kernel as fallback when running on GPU.\n"
          ]
        },
        {
          "name": "stdout",
          "output_type": "stream",
          "text": [
            "Model: \"sequential_20\"\n",
            "_________________________________________________________________\n",
            " Layer (type)                Output Shape              Param #   \n",
            "=================================================================\n",
            " embedding_20 (Embedding)    (None, 100, 100)          1000000   \n",
            "                                                                 \n",
            " conv1d_38 (Conv1D)          (None, 94, 32)            22432     \n",
            "                                                                 \n",
            " max_pooling1d_38 (MaxPooli  (None, 18, 32)            0         \n",
            " ng1D)                                                           \n",
            "                                                                 \n",
            " conv1d_39 (Conv1D)          (None, 12, 32)            7200      \n",
            "                                                                 \n",
            " max_pooling1d_39 (MaxPooli  (None, 2, 32)             0         \n",
            " ng1D)                                                           \n",
            "                                                                 \n",
            " lstm_18 (LSTM)              (None, 32)                8320      \n",
            "                                                                 \n",
            " flatten_18 (Flatten)        (None, 32)                0         \n",
            "                                                                 \n",
            " dense_54 (Dense)            (None, 128)               4224      \n",
            "                                                                 \n",
            " dropout_55 (Dropout)        (None, 128)               0         \n",
            "                                                                 \n",
            " dense_55 (Dense)            (None, 64)                8256      \n",
            "                                                                 \n",
            " dropout_56 (Dropout)        (None, 64)                0         \n",
            "                                                                 \n",
            " dropout_57 (Dropout)        (None, 64)                0         \n",
            "                                                                 \n",
            " dense_56 (Dense)            (None, 5)                 325       \n",
            "                                                                 \n",
            "=================================================================\n",
            "Total params: 1050757 (4.01 MB)\n",
            "Trainable params: 50757 (198.27 KB)\n",
            "Non-trainable params: 1000000 (3.81 MB)\n",
            "_________________________________________________________________\n"
          ]
        }
      ],
      "source": [
        "from keras.models import Sequential\n",
        "from keras.layers import Embedding, Dense, Flatten, LSTM\n",
        "from keras.layers import Conv1D, MaxPooling1D, Dropout\n",
        "\n",
        "model = Sequential()\n",
        "model.add(Embedding(input_dim=max_words,\n",
        "                    output_dim=embedding_dim,\n",
        "                    input_length = maxlen,\n",
        "                    weights = [embedding_matrix],\n",
        "                    trainable = False))\n",
        "model.add(Conv1D(32, 7, activation = 'relu'))\n",
        "model.add(MaxPooling1D(5))\n",
        "model.add(Conv1D(32, 7, activation = 'relu'))\n",
        "model.add(MaxPooling1D(5))\n",
        "model.add(LSTM(32, recurrent_dropout=0.25, unroll=True))\n",
        "model.add(Flatten())\n",
        "model.add(Dense(units=128, activation='relu'))\n",
        "model.add(Dropout(0.5))\n",
        "model.add(Dense(units=64, activation='relu'))\n",
        "model.add(Dropout(0.5))\n",
        "model.add(Dropout(0.5))\n",
        "model.add(Dense(5, activation = 'softmax'))\n",
        "\n",
        "model.summary()\n",
        "model.save(\"model.keras\")"
      ]
    },
    {
      "cell_type": "code",
      "execution_count": 119,
      "id": "qaSu0c-Hyi05",
      "metadata": {
        "id": "qaSu0c-Hyi05"
      },
      "outputs": [],
      "source": [
        "from gc import callbacks\n",
        "model.compile(\n",
        "    optimizer = keras.optimizers.Adam(),\n",
        "    loss=\"categorical_crossentropy\",\n",
        "    metrics=['accuracy']\n",
        ")"
      ]
    },
    {
      "cell_type": "code",
      "execution_count": 120,
      "id": "G76Pmf1zzTz-",
      "metadata": {
        "colab": {
          "base_uri": "https://localhost:8080/"
        },
        "id": "G76Pmf1zzTz-",
        "outputId": "1ea25dd3-a8fe-456e-b543-c5b955a9ac8f"
      },
      "outputs": [
        {
          "name": "stdout",
          "output_type": "stream",
          "text": [
            "Epoch 1/10\n",
            "70/70 [==============================] - 4s 18ms/step - loss: 1.4727 - accuracy: 0.3339 - val_loss: 0.8256 - val_accuracy: 0.8172 - lr: 0.0010\n",
            "Epoch 2/10\n",
            "70/70 [==============================] - 1s 15ms/step - loss: 0.6785 - accuracy: 0.7674 - val_loss: 0.2336 - val_accuracy: 0.9220 - lr: 0.0010\n",
            "Epoch 3/10\n",
            "70/70 [==============================] - 1s 13ms/step - loss: 0.3712 - accuracy: 0.8906 - val_loss: 0.1961 - val_accuracy: 0.9364 - lr: 0.0010\n",
            "Epoch 4/10\n",
            "70/70 [==============================] - 1s 15ms/step - loss: 0.3035 - accuracy: 0.9144 - val_loss: 0.1801 - val_accuracy: 0.9424 - lr: 0.0010\n",
            "Epoch 5/10\n",
            "70/70 [==============================] - 1s 13ms/step - loss: 0.2534 - accuracy: 0.9301 - val_loss: 0.1371 - val_accuracy: 0.9584 - lr: 0.0010\n",
            "Epoch 6/10\n",
            "70/70 [==============================] - 1s 16ms/step - loss: 0.2236 - accuracy: 0.9439 - val_loss: 0.1062 - val_accuracy: 0.9704 - lr: 0.0010\n",
            "Epoch 7/10\n",
            "70/70 [==============================] - 1s 18ms/step - loss: 0.1762 - accuracy: 0.9521 - val_loss: 0.0826 - val_accuracy: 0.9776 - lr: 0.0010\n",
            "Epoch 8/10\n",
            "70/70 [==============================] - 1s 20ms/step - loss: 0.1471 - accuracy: 0.9610 - val_loss: 0.0776 - val_accuracy: 0.9776 - lr: 0.0010\n",
            "Epoch 9/10\n",
            "70/70 [==============================] - 1s 13ms/step - loss: 0.1179 - accuracy: 0.9707 - val_loss: 0.1079 - val_accuracy: 0.9704 - lr: 0.0010\n",
            "Epoch 10/10\n",
            "70/70 [==============================] - 1s 14ms/step - loss: 0.1457 - accuracy: 0.9626 - val_loss: 0.0458 - val_accuracy: 0.9888 - lr: 0.0010\n"
          ]
        }
      ],
      "source": [
        "history = model.fit(x_train, y_train,\n",
        "                    epochs=10,\n",
        "                    batch_size=100,\n",
        "                    validation_data = (x_valid, y_valid),\n",
        "                    callbacks = my_callbacks)"
      ]
    },
    {
      "cell_type": "code",
      "execution_count": 121,
      "id": "n_fzf_bYoklP",
      "metadata": {
        "colab": {
          "base_uri": "https://localhost:8080/",
          "height": 451
        },
        "id": "n_fzf_bYoklP",
        "outputId": "437a63ac-83ee-40ae-c527-0a1ea9cea7e4"
      },
      "outputs": [
        {
          "data": {
            "image/png": "[encoded data removed]",
            "text/plain": [
              "<Figure size 800x500 with 1 Axes>"
            ]
          },
          "metadata": {},
          "output_type": "display_data"
        }
      ],
      "source": [
        "pd.DataFrame(history.history).plot(figsize=(8, 5))\n",
        "plt.grid(True)\n",
        "plt.gca().set_ylim(0, 1)\n",
        "plt.show()"
      ]
    },
    {
      "cell_type": "code",
      "execution_count": 122,
      "id": "K-7ZhJ6P6rRl",
      "metadata": {
        "colab": {
          "base_uri": "https://localhost:8080/"
        },
        "id": "K-7ZhJ6P6rRl",
        "outputId": "0fda8e68-49fa-498c-d9c8-99096ade5f1a"
      },
      "outputs": [
        {
          "name": "stdout",
          "output_type": "stream",
          "text": [
            "94/94 [==============================] - 1s 5ms/step - loss: 0.2549 - accuracy: 0.9377\n"
          ]
        },
        {
          "data": {
            "text/plain": [
              "[0.2548697590827942, 0.937666654586792]"
            ]
          },
          "execution_count": 122,
          "metadata": {},
          "output_type": "execute_result"
        }
      ],
      "source": [
        "model.evaluate(x_test, y_test)"
      ]
    },
    {
      "cell_type": "code",
      "execution_count": 123,
      "id": "mBaE4TQ0G55b",
      "metadata": {
        "colab": {
          "base_uri": "https://localhost:8080/"
        },
        "id": "mBaE4TQ0G55b",
        "outputId": "641795a6-d98e-4007-f5fd-7ca22df9556f"
      },
      "outputs": [
        {
          "data": {
            "text/plain": [
              "array(['education', 'business', 'entertainment', 'sports', 'technology'],\n",
              "      dtype=object)"
            ]
          },
          "execution_count": 123,
          "metadata": {},
          "output_type": "execute_result"
        }
      ],
      "source": [
        "class_names = targets.unique()\n",
        "class_names"
      ]
    },
    {
      "cell_type": "code",
      "execution_count": 124,
      "id": "27KNioZFGnxa",
      "metadata": {
        "colab": {
          "base_uri": "https://localhost:8080/"
        },
        "id": "27KNioZFGnxa",
        "outputId": "c8b7ecf9-c455-4ddc-aea3-79ade91d9426"
      },
      "outputs": [
        {
          "name": "stdout",
          "output_type": "stream",
          "text": [
            "1/1 [==============================] - 0s 363ms/step\n",
            "['entertainment' 'technology' 'education' 'entertainment' 'entertainment'\n",
            " 'sports' 'technology' 'education' 'entertainment' 'entertainment']\n",
            "94/94 [==============================] - 0s 3ms/step\n"
          ]
        }
      ],
      "source": [
        "X_new = x_test[:10]\n",
        "y_pred = np.argmax(model.predict(X_new), axis=1)\n",
        "print(np.array(class_names)[y_pred])\n",
        "\n",
        "y_preds = np.argmax(model.predict(x_test), axis=1)"
      ]
    },
    {
      "cell_type": "code",
      "execution_count": 125,
      "id": "UH8LzWOtIExT",
      "metadata": {
        "colab": {
          "base_uri": "https://localhost:8080/"
        },
        "id": "UH8LzWOtIExT",
        "outputId": "bd86b3e1-67d1-448c-f7af-93eee66fb292"
      },
      "outputs": [
        {
          "name": "stdout",
          "output_type": "stream",
          "text": [
            "              precision    recall  f1-score   support\n",
            "\n",
            "           0       0.94      0.90      0.92       587\n",
            "           1       0.97      0.94      0.95       587\n",
            "           2       0.96      0.97      0.96       622\n",
            "           3       0.96      0.96      0.96       601\n",
            "           4       0.87      0.92      0.89       603\n",
            "\n",
            "    accuracy                           0.94      3000\n",
            "   macro avg       0.94      0.94      0.94      3000\n",
            "weighted avg       0.94      0.94      0.94      3000\n",
            "\n"
          ]
        }
      ],
      "source": [
        "from sklearn.metrics import ConfusionMatrixDisplay, classification_report\n",
        "cm = classification_report(y_test_coms, y_preds)\n",
        "print(cm)"
      ]
    },
    {
      "cell_type": "code",
      "execution_count": 126,
      "id": "Z077mJsuZWlO",
      "metadata": {
        "colab": {
          "base_uri": "https://localhost:8080/",
          "height": 590
        },
        "id": "Z077mJsuZWlO",
        "outputId": "46e5161b-6183-4b22-a6cb-91a993a43080"
      },
      "outputs": [
        {
          "data": {
            "text/plain": [
              "Text(0.5, 1.0, 'Confusion Matrix Model with pretrained word embeddings')"
            ]
          },
          "execution_count": 126,
          "metadata": {},
          "output_type": "execute_result"
        },
        {
          "data": {
            "image/png": "[encoded data removed]",
            "text/plain": [
              "<Figure size 1000x500 with 2 Axes>"
            ]
          },
          "metadata": {},
          "output_type": "display_data"
        }
      ],
      "source": [
        "fig, ax = plt.subplots(figsize=(10, 5))\n",
        "disp = ConfusionMatrixDisplay.from_predictions(y_test_coms, y_preds, ax=ax,\n",
        "                                               xticks_rotation=\"vertical\")\n",
        "ax.xaxis.set_ticklabels(classnames.values())\n",
        "ax.yaxis.set_ticklabels(classnames.values())\n",
        "plt.title(\"Confusion Matrix Model with pretrained word embeddings\")"
      ]
    },
    {
      "cell_type": "code",
      "execution_count": 127,
      "id": "pcgAc0Hti5LR",
      "metadata": {
        "id": "pcgAc0Hti5LR"
      },
      "outputs": [],
      "source": [
        "import pickle"
      ]
    },
    {
      "cell_type": "code",
      "execution_count": 128,
      "id": "txDCk59iApqN",
      "metadata": {
        "id": "txDCk59iApqN"
      },
      "outputs": [],
      "source": [
        "pickle.dump(model, open('modelreal.pkl', 'wb'))"
      ]
    },
    {
      "cell_type": "code",
      "execution_count": 129,
      "id": "NUpRlecaBZCq",
      "metadata": {
        "colab": {
          "base_uri": "https://localhost:8080/"
        },
        "id": "NUpRlecaBZCq",
        "outputId": "a9a32158-f97e-4d70-e084-25d57f521d34"
      },
      "outputs": [
        {
          "name": "stderr",
          "output_type": "stream",
          "text": [
            "WARNING:tensorflow:Layer lstm_18 will not use cuDNN kernels since it doesn't meet the criteria. It will use a generic GPU kernel as fallback when running on GPU.\n"
          ]
        }
      ],
      "source": [
        "pickled_model = pickle.load(open('modelreal.pkl', 'rb'))"
      ]
    },
    {
      "cell_type": "code",
      "execution_count": 131,
      "id": "5dzClam4BrnL",
      "metadata": {
        "colab": {
          "base_uri": "https://localhost:8080/"
        },
        "id": "5dzClam4BrnL",
        "outputId": "c37ab654-6757-4930-d79d-6943fff6ae37"
      },
      "outputs": [
        {
          "name": "stdout",
          "output_type": "stream",
          "text": [
            "94/94 [==============================] - 0s 3ms/step\n"
          ]
        }
      ],
      "source": [
        "ypred = np.argmax(pickled_model.predict(x_test), axis=1)"
      ]
    },
    {
      "cell_type": "code",
      "execution_count": 132,
      "id": "2n-DVEoNCR4H",
      "metadata": {
        "colab": {
          "base_uri": "https://localhost:8080/"
        },
        "id": "2n-DVEoNCR4H",
        "outputId": "55c62fe4-4377-47b0-d83d-badd80a3ad51"
      },
      "outputs": [
        {
          "name": "stdout",
          "output_type": "stream",
          "text": [
            "['entertainment' 'technology' 'education' 'entertainment' 'entertainment'\n",
            " 'sports' 'technology' 'education' 'entertainment' 'entertainment']\n"
          ]
        }
      ],
      "source": [
        "print(np.array(class_names)[y_pred])"
      ]
    }
  ],
  "metadata": {
    "accelerator": "GPU",
    "colab": {
      "gpuType": "T4",
      "provenance": []
    },
    "kernelspec": {
      "display_name": "Python 3",
      "name": "python3"
    },
    "language_info": {
      "codemirror_mode": {
        "name": "ipython",
        "version": 3
      },
      "file_extension": ".py",
      "mimetype": "text/x-python",
      "name": "python",
      "nbconvert_exporter": "python",
      "pygments_lexer": "ipython3",
      "version": "3.11.9"
    }
  },
  "nbformat": 4,
  "nbformat_minor": 5
}
