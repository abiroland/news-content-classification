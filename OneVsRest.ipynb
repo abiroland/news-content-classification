{
  "cells": [
    {
      "cell_type": "code",
      "execution_count": 7,
      "id": "f2abb0c9",
      "metadata": {
        "id": "f2abb0c9"
      },
      "outputs": [
        {
          "data": {
            "text/plain": [
              "'!\"#$%&\\'()*+,-./:;<=>?@[\\\\]^_`{|}~'"
            ]
          },
          "execution_count": 7,
          "metadata": {},
          "output_type": "execute_result"
        }
      ],
      "source": [
        "import os\n",
        "import glob\n",
        "import pathlib\n",
        "import pandas as pd\n",
        "import numpy as np\n",
        "import joblib\n",
        "from sklearn.feature_extraction.text import TfidfVectorizer\n",
        "import matplotlib.pyplot as plt\n",
        "import string\n",
        "import nltk\n",
        "string.punctuation"
      ]
    },
    {
      "cell_type": "code",
      "execution_count": 8,
      "id": "d4843a53",
      "metadata": {},
      "outputs": [],
      "source": [
        "# defining function that contains punctuation removal\n",
        "def remove_punctuation(text):\n",
        "    no_punct = \"\".join([c for c in text if c not in string.punctuation])\n",
        "    return no_punct"
      ]
    },
    {
      "cell_type": "markdown",
      "id": "ea5e3932",
      "metadata": {
        "id": "ea5e3932"
      },
      "source": [
        "## Extracting files\n"
      ]
    },
    {
      "cell_type": "code",
      "execution_count": 9,
      "id": "76fac624",
      "metadata": {
        "id": "76fac624"
      },
      "outputs": [],
      "source": [
        "def extract_files(folder_path):\n",
        "    csv_files = glob.glob(os.path.join(folder_path, \"*.csv\"))\n",
        "    dataframes = []\n",
        "\n",
        "    for file in csv_files:\n",
        "        df = pd.read_csv(file)\n",
        "        dataframes.append(df)\n",
        "    return dataframes\n",
        "\n",
        "\n",
        "extracted = extract_files(\"Topic_modelling\")"
      ]
    },
    {
      "cell_type": "code",
      "execution_count": 10,
      "id": "870ea5d5",
      "metadata": {
        "id": "870ea5d5"
      },
      "outputs": [],
      "source": [
        "alldata = pd.DataFrame()\n",
        "for listitems in extracted:\n",
        "    alldata = pd.concat([alldata, listitems])"
      ]
    },
    {
      "cell_type": "markdown",
      "id": "9229e619",
      "metadata": {
        "id": "9229e619"
      },
      "source": [
        "## Feature extraction"
      ]
    },
    {
      "cell_type": "code",
      "execution_count": 11,
      "id": "A7nkj8K6SzP9",
      "metadata": {
        "colab": {
          "base_uri": "https://localhost:8080/",
          "height": 293
        },
        "id": "A7nkj8K6SzP9",
        "outputId": "c50bbb52-2593-4158-9a70-44fe63d456ef"
      },
      "outputs": [
        {
          "data": {
            "text/html": [
              "<div>\n",
              "<style scoped>\n",
              "    .dataframe tbody tr th:only-of-type {\n",
              "        vertical-align: middle;\n",
              "    }\n",
              "\n",
              "    .dataframe tbody tr th {\n",
              "        vertical-align: top;\n",
              "    }\n",
              "\n",
              "    .dataframe thead th {\n",
              "        text-align: right;\n",
              "    }\n",
              "</style>\n",
              "<table border=\"1\" class=\"dataframe\">\n",
              "  <thead>\n",
              "    <tr style=\"text-align: right;\">\n",
              "      <th></th>\n",
              "      <th>headlines</th>\n",
              "      <th>description</th>\n",
              "      <th>content</th>\n",
              "      <th>url</th>\n",
              "      <th>category</th>\n",
              "    </tr>\n",
              "  </thead>\n",
              "  <tbody>\n",
              "    <tr>\n",
              "      <th>0</th>\n",
              "      <td>Nirmala Sitharaman to equal Morarji Desai’s re...</td>\n",
              "      <td>With the presentation of the interim budget on...</td>\n",
              "      <td>Sitharaman, the first full-time woman finance ...</td>\n",
              "      <td>https://indianexpress.com/article/business/bud...</td>\n",
              "      <td>business</td>\n",
              "    </tr>\n",
              "    <tr>\n",
              "      <th>1</th>\n",
              "      <td>‘Will densify network, want to be at least no....</td>\n",
              "      <td>'In terms of market share, we aim to double it...</td>\n",
              "      <td>The merger of Tata group’s budget airlines Air...</td>\n",
              "      <td>https://indianexpress.com/article/business/avi...</td>\n",
              "      <td>business</td>\n",
              "    </tr>\n",
              "    <tr>\n",
              "      <th>2</th>\n",
              "      <td>Air India group to induct an aircraft every si...</td>\n",
              "      <td>Air India currently has 117 operational aircra...</td>\n",
              "      <td>The Air India group plans to induct one aircra...</td>\n",
              "      <td>https://indianexpress.com/article/business/avi...</td>\n",
              "      <td>business</td>\n",
              "    </tr>\n",
              "    <tr>\n",
              "      <th>3</th>\n",
              "      <td>Red Sea woes: Exporters seek increased credit ...</td>\n",
              "      <td>Rising attacks forced shippers to consider the...</td>\n",
              "      <td>Indian exporters have asked the central govern...</td>\n",
              "      <td>https://indianexpress.com/article/business/red...</td>\n",
              "      <td>business</td>\n",
              "    </tr>\n",
              "    <tr>\n",
              "      <th>4</th>\n",
              "      <td>Air India group to induct a plane every 6 days...</td>\n",
              "      <td>Apart from fleet expansion, 2024 will also see...</td>\n",
              "      <td>The Air India group plans to induct one aircra...</td>\n",
              "      <td>https://indianexpress.com/article/business/avi...</td>\n",
              "      <td>business</td>\n",
              "    </tr>\n",
              "  </tbody>\n",
              "</table>\n",
              "</div>"
            ],
            "text/plain": [
              "                                           headlines  \\\n",
              "0  Nirmala Sitharaman to equal Morarji Desai’s re...   \n",
              "1  ‘Will densify network, want to be at least no....   \n",
              "2  Air India group to induct an aircraft every si...   \n",
              "3  Red Sea woes: Exporters seek increased credit ...   \n",
              "4  Air India group to induct a plane every 6 days...   \n",
              "\n",
              "                                         description  \\\n",
              "0  With the presentation of the interim budget on...   \n",
              "1  'In terms of market share, we aim to double it...   \n",
              "2  Air India currently has 117 operational aircra...   \n",
              "3  Rising attacks forced shippers to consider the...   \n",
              "4  Apart from fleet expansion, 2024 will also see...   \n",
              "\n",
              "                                             content  \\\n",
              "0  Sitharaman, the first full-time woman finance ...   \n",
              "1  The merger of Tata group’s budget airlines Air...   \n",
              "2  The Air India group plans to induct one aircra...   \n",
              "3  Indian exporters have asked the central govern...   \n",
              "4  The Air India group plans to induct one aircra...   \n",
              "\n",
              "                                                 url  category  \n",
              "0  https://indianexpress.com/article/business/bud...  business  \n",
              "1  https://indianexpress.com/article/business/avi...  business  \n",
              "2  https://indianexpress.com/article/business/avi...  business  \n",
              "3  https://indianexpress.com/article/business/red...  business  \n",
              "4  https://indianexpress.com/article/business/avi...  business  "
            ]
          },
          "execution_count": 11,
          "metadata": {},
          "output_type": "execute_result"
        }
      ],
      "source": [
        "alldata.head()"
      ]
    },
    {
      "cell_type": "code",
      "execution_count": 12,
      "id": "1105635c",
      "metadata": {
        "id": "1105635c"
      },
      "outputs": [],
      "source": [
        "targets = alldata[\"category\"]"
      ]
    },
    {
      "cell_type": "markdown",
      "id": "70686584",
      "metadata": {},
      "source": [
        "Remove punctuation, numbers and stopwords from the text. Then, apply stemming to the words."
      ]
    },
    {
      "cell_type": "code",
      "execution_count": 13,
      "id": "a4104530",
      "metadata": {},
      "outputs": [],
      "source": [
        "alldata[\"remove_puntuations\"] = alldata[\"headlines\"].apply(lambda x: remove_punctuation(x))\n",
        "alldata[\"to_lower\"] = alldata[\"remove_puntuations\"].apply(lambda x: x.lower())"
      ]
    },
    {
      "cell_type": "code",
      "execution_count": 14,
      "id": "8ebec216",
      "metadata": {},
      "outputs": [
        {
          "data": {
            "text/html": [
              "<div>\n",
              "<style scoped>\n",
              "    .dataframe tbody tr th:only-of-type {\n",
              "        vertical-align: middle;\n",
              "    }\n",
              "\n",
              "    .dataframe tbody tr th {\n",
              "        vertical-align: top;\n",
              "    }\n",
              "\n",
              "    .dataframe thead th {\n",
              "        text-align: right;\n",
              "    }\n",
              "</style>\n",
              "<table border=\"1\" class=\"dataframe\">\n",
              "  <thead>\n",
              "    <tr style=\"text-align: right;\">\n",
              "      <th></th>\n",
              "      <th>headlines</th>\n",
              "      <th>description</th>\n",
              "      <th>content</th>\n",
              "      <th>url</th>\n",
              "      <th>category</th>\n",
              "      <th>remove_puntuations</th>\n",
              "      <th>to_lower</th>\n",
              "    </tr>\n",
              "  </thead>\n",
              "  <tbody>\n",
              "    <tr>\n",
              "      <th>0</th>\n",
              "      <td>Nirmala Sitharaman to equal Morarji Desai’s re...</td>\n",
              "      <td>With the presentation of the interim budget on...</td>\n",
              "      <td>Sitharaman, the first full-time woman finance ...</td>\n",
              "      <td>https://indianexpress.com/article/business/bud...</td>\n",
              "      <td>business</td>\n",
              "      <td>Nirmala Sitharaman to equal Morarji Desai’s re...</td>\n",
              "      <td>nirmala sitharaman to equal morarji desai’s re...</td>\n",
              "    </tr>\n",
              "    <tr>\n",
              "      <th>1</th>\n",
              "      <td>‘Will densify network, want to be at least no....</td>\n",
              "      <td>'In terms of market share, we aim to double it...</td>\n",
              "      <td>The merger of Tata group’s budget airlines Air...</td>\n",
              "      <td>https://indianexpress.com/article/business/avi...</td>\n",
              "      <td>business</td>\n",
              "      <td>‘Will densify network want to be at least no 2...</td>\n",
              "      <td>‘will densify network want to be at least no 2...</td>\n",
              "    </tr>\n",
              "    <tr>\n",
              "      <th>2</th>\n",
              "      <td>Air India group to induct an aircraft every si...</td>\n",
              "      <td>Air India currently has 117 operational aircra...</td>\n",
              "      <td>The Air India group plans to induct one aircra...</td>\n",
              "      <td>https://indianexpress.com/article/business/avi...</td>\n",
              "      <td>business</td>\n",
              "      <td>Air India group to induct an aircraft every si...</td>\n",
              "      <td>air india group to induct an aircraft every si...</td>\n",
              "    </tr>\n",
              "    <tr>\n",
              "      <th>3</th>\n",
              "      <td>Red Sea woes: Exporters seek increased credit ...</td>\n",
              "      <td>Rising attacks forced shippers to consider the...</td>\n",
              "      <td>Indian exporters have asked the central govern...</td>\n",
              "      <td>https://indianexpress.com/article/business/red...</td>\n",
              "      <td>business</td>\n",
              "      <td>Red Sea woes Exporters seek increased credit a...</td>\n",
              "      <td>red sea woes exporters seek increased credit a...</td>\n",
              "    </tr>\n",
              "    <tr>\n",
              "      <th>4</th>\n",
              "      <td>Air India group to induct a plane every 6 days...</td>\n",
              "      <td>Apart from fleet expansion, 2024 will also see...</td>\n",
              "      <td>The Air India group plans to induct one aircra...</td>\n",
              "      <td>https://indianexpress.com/article/business/avi...</td>\n",
              "      <td>business</td>\n",
              "      <td>Air India group to induct a plane every 6 days...</td>\n",
              "      <td>air india group to induct a plane every 6 days...</td>\n",
              "    </tr>\n",
              "  </tbody>\n",
              "</table>\n",
              "</div>"
            ],
            "text/plain": [
              "                                           headlines  \\\n",
              "0  Nirmala Sitharaman to equal Morarji Desai’s re...   \n",
              "1  ‘Will densify network, want to be at least no....   \n",
              "2  Air India group to induct an aircraft every si...   \n",
              "3  Red Sea woes: Exporters seek increased credit ...   \n",
              "4  Air India group to induct a plane every 6 days...   \n",
              "\n",
              "                                         description  \\\n",
              "0  With the presentation of the interim budget on...   \n",
              "1  'In terms of market share, we aim to double it...   \n",
              "2  Air India currently has 117 operational aircra...   \n",
              "3  Rising attacks forced shippers to consider the...   \n",
              "4  Apart from fleet expansion, 2024 will also see...   \n",
              "\n",
              "                                             content  \\\n",
              "0  Sitharaman, the first full-time woman finance ...   \n",
              "1  The merger of Tata group’s budget airlines Air...   \n",
              "2  The Air India group plans to induct one aircra...   \n",
              "3  Indian exporters have asked the central govern...   \n",
              "4  The Air India group plans to induct one aircra...   \n",
              "\n",
              "                                                 url  category  \\\n",
              "0  https://indianexpress.com/article/business/bud...  business   \n",
              "1  https://indianexpress.com/article/business/avi...  business   \n",
              "2  https://indianexpress.com/article/business/avi...  business   \n",
              "3  https://indianexpress.com/article/business/red...  business   \n",
              "4  https://indianexpress.com/article/business/avi...  business   \n",
              "\n",
              "                                  remove_puntuations  \\\n",
              "0  Nirmala Sitharaman to equal Morarji Desai’s re...   \n",
              "1  ‘Will densify network want to be at least no 2...   \n",
              "2  Air India group to induct an aircraft every si...   \n",
              "3  Red Sea woes Exporters seek increased credit a...   \n",
              "4  Air India group to induct a plane every 6 days...   \n",
              "\n",
              "                                            to_lower  \n",
              "0  nirmala sitharaman to equal morarji desai’s re...  \n",
              "1  ‘will densify network want to be at least no 2...  \n",
              "2  air india group to induct an aircraft every si...  \n",
              "3  red sea woes exporters seek increased credit a...  \n",
              "4  air india group to induct a plane every 6 days...  "
            ]
          },
          "execution_count": 14,
          "metadata": {},
          "output_type": "execute_result"
        }
      ],
      "source": [
        "alldata.head()"
      ]
    },
    {
      "cell_type": "code",
      "execution_count": 15,
      "id": "eb4ac693",
      "metadata": {},
      "outputs": [],
      "source": [
        "# Tokenization\n",
        "import re\n",
        "def tokenize(text):\n",
        "    tokens = re.split('\\W+', text)\n",
        "    return tokens\n",
        "\n",
        "alldata[\"tokens\"] = alldata[\"to_lower\"].apply(lambda x: tokenize(x))"
      ]
    },
    {
      "cell_type": "code",
      "execution_count": 16,
      "id": "84a4d62d",
      "metadata": {},
      "outputs": [
        {
          "data": {
            "text/html": [
              "<div>\n",
              "<style scoped>\n",
              "    .dataframe tbody tr th:only-of-type {\n",
              "        vertical-align: middle;\n",
              "    }\n",
              "\n",
              "    .dataframe tbody tr th {\n",
              "        vertical-align: top;\n",
              "    }\n",
              "\n",
              "    .dataframe thead th {\n",
              "        text-align: right;\n",
              "    }\n",
              "</style>\n",
              "<table border=\"1\" class=\"dataframe\">\n",
              "  <thead>\n",
              "    <tr style=\"text-align: right;\">\n",
              "      <th></th>\n",
              "      <th>headlines</th>\n",
              "      <th>description</th>\n",
              "      <th>content</th>\n",
              "      <th>url</th>\n",
              "      <th>category</th>\n",
              "      <th>remove_puntuations</th>\n",
              "      <th>to_lower</th>\n",
              "      <th>tokens</th>\n",
              "    </tr>\n",
              "  </thead>\n",
              "  <tbody>\n",
              "    <tr>\n",
              "      <th>0</th>\n",
              "      <td>Nirmala Sitharaman to equal Morarji Desai’s re...</td>\n",
              "      <td>With the presentation of the interim budget on...</td>\n",
              "      <td>Sitharaman, the first full-time woman finance ...</td>\n",
              "      <td>https://indianexpress.com/article/business/bud...</td>\n",
              "      <td>business</td>\n",
              "      <td>Nirmala Sitharaman to equal Morarji Desai’s re...</td>\n",
              "      <td>nirmala sitharaman to equal morarji desai’s re...</td>\n",
              "      <td>[nirmala, sitharaman, to, equal, morarji, desa...</td>\n",
              "    </tr>\n",
              "    <tr>\n",
              "      <th>1</th>\n",
              "      <td>‘Will densify network, want to be at least no....</td>\n",
              "      <td>'In terms of market share, we aim to double it...</td>\n",
              "      <td>The merger of Tata group’s budget airlines Air...</td>\n",
              "      <td>https://indianexpress.com/article/business/avi...</td>\n",
              "      <td>business</td>\n",
              "      <td>‘Will densify network want to be at least no 2...</td>\n",
              "      <td>‘will densify network want to be at least no 2...</td>\n",
              "      <td>[, will, densify, network, want, to, be, at, l...</td>\n",
              "    </tr>\n",
              "    <tr>\n",
              "      <th>2</th>\n",
              "      <td>Air India group to induct an aircraft every si...</td>\n",
              "      <td>Air India currently has 117 operational aircra...</td>\n",
              "      <td>The Air India group plans to induct one aircra...</td>\n",
              "      <td>https://indianexpress.com/article/business/avi...</td>\n",
              "      <td>business</td>\n",
              "      <td>Air India group to induct an aircraft every si...</td>\n",
              "      <td>air india group to induct an aircraft every si...</td>\n",
              "      <td>[air, india, group, to, induct, an, aircraft, ...</td>\n",
              "    </tr>\n",
              "    <tr>\n",
              "      <th>3</th>\n",
              "      <td>Red Sea woes: Exporters seek increased credit ...</td>\n",
              "      <td>Rising attacks forced shippers to consider the...</td>\n",
              "      <td>Indian exporters have asked the central govern...</td>\n",
              "      <td>https://indianexpress.com/article/business/red...</td>\n",
              "      <td>business</td>\n",
              "      <td>Red Sea woes Exporters seek increased credit a...</td>\n",
              "      <td>red sea woes exporters seek increased credit a...</td>\n",
              "      <td>[red, sea, woes, exporters, seek, increased, c...</td>\n",
              "    </tr>\n",
              "    <tr>\n",
              "      <th>4</th>\n",
              "      <td>Air India group to induct a plane every 6 days...</td>\n",
              "      <td>Apart from fleet expansion, 2024 will also see...</td>\n",
              "      <td>The Air India group plans to induct one aircra...</td>\n",
              "      <td>https://indianexpress.com/article/business/avi...</td>\n",
              "      <td>business</td>\n",
              "      <td>Air India group to induct a plane every 6 days...</td>\n",
              "      <td>air india group to induct a plane every 6 days...</td>\n",
              "      <td>[air, india, group, to, induct, a, plane, ever...</td>\n",
              "    </tr>\n",
              "  </tbody>\n",
              "</table>\n",
              "</div>"
            ],
            "text/plain": [
              "                                           headlines  \\\n",
              "0  Nirmala Sitharaman to equal Morarji Desai’s re...   \n",
              "1  ‘Will densify network, want to be at least no....   \n",
              "2  Air India group to induct an aircraft every si...   \n",
              "3  Red Sea woes: Exporters seek increased credit ...   \n",
              "4  Air India group to induct a plane every 6 days...   \n",
              "\n",
              "                                         description  \\\n",
              "0  With the presentation of the interim budget on...   \n",
              "1  'In terms of market share, we aim to double it...   \n",
              "2  Air India currently has 117 operational aircra...   \n",
              "3  Rising attacks forced shippers to consider the...   \n",
              "4  Apart from fleet expansion, 2024 will also see...   \n",
              "\n",
              "                                             content  \\\n",
              "0  Sitharaman, the first full-time woman finance ...   \n",
              "1  The merger of Tata group’s budget airlines Air...   \n",
              "2  The Air India group plans to induct one aircra...   \n",
              "3  Indian exporters have asked the central govern...   \n",
              "4  The Air India group plans to induct one aircra...   \n",
              "\n",
              "                                                 url  category  \\\n",
              "0  https://indianexpress.com/article/business/bud...  business   \n",
              "1  https://indianexpress.com/article/business/avi...  business   \n",
              "2  https://indianexpress.com/article/business/avi...  business   \n",
              "3  https://indianexpress.com/article/business/red...  business   \n",
              "4  https://indianexpress.com/article/business/avi...  business   \n",
              "\n",
              "                                  remove_puntuations  \\\n",
              "0  Nirmala Sitharaman to equal Morarji Desai’s re...   \n",
              "1  ‘Will densify network want to be at least no 2...   \n",
              "2  Air India group to induct an aircraft every si...   \n",
              "3  Red Sea woes Exporters seek increased credit a...   \n",
              "4  Air India group to induct a plane every 6 days...   \n",
              "\n",
              "                                            to_lower  \\\n",
              "0  nirmala sitharaman to equal morarji desai’s re...   \n",
              "1  ‘will densify network want to be at least no 2...   \n",
              "2  air india group to induct an aircraft every si...   \n",
              "3  red sea woes exporters seek increased credit a...   \n",
              "4  air india group to induct a plane every 6 days...   \n",
              "\n",
              "                                              tokens  \n",
              "0  [nirmala, sitharaman, to, equal, morarji, desa...  \n",
              "1  [, will, densify, network, want, to, be, at, l...  \n",
              "2  [air, india, group, to, induct, an, aircraft, ...  \n",
              "3  [red, sea, woes, exporters, seek, increased, c...  \n",
              "4  [air, india, group, to, induct, a, plane, ever...  "
            ]
          },
          "execution_count": 16,
          "metadata": {},
          "output_type": "execute_result"
        }
      ],
      "source": [
        "alldata.head()"
      ]
    },
    {
      "cell_type": "code",
      "execution_count": 17,
      "id": "a4f986b6",
      "metadata": {},
      "outputs": [],
      "source": [
        "#nltk.download('punkt')\n",
        "#from nltk.tokenize import sent_tokenize\n",
        "\n",
        "#feature = sent_tokenize(feature)"
      ]
    },
    {
      "cell_type": "code",
      "execution_count": 18,
      "id": "88b13c71",
      "metadata": {},
      "outputs": [
        {
          "name": "stderr",
          "output_type": "stream",
          "text": [
            "[nltk_data] Downloading package stopwords to\n",
            "[nltk_data]     C:\\Users\\abiro\\AppData\\Roaming\\nltk_data...\n",
            "[nltk_data]   Package stopwords is already up-to-date!\n"
          ]
        }
      ],
      "source": [
        "# Removing stopwords\n",
        "nltk.download('stopwords')\n",
        "stopwords = nltk.corpus.stopwords.words('english')\n",
        "def remove_stopwords(tokenized_list):\n",
        "    text = [word for word in tokenized_list if word not in stopwords]\n",
        "    return text\n",
        "\n",
        "alldata[\"no_stopwords\"] = alldata[\"tokens\"].apply(lambda x: remove_stopwords(x))"
      ]
    },
    {
      "cell_type": "code",
      "execution_count": 19,
      "id": "92328bb3",
      "metadata": {},
      "outputs": [
        {
          "data": {
            "text/html": [
              "<div>\n",
              "<style scoped>\n",
              "    .dataframe tbody tr th:only-of-type {\n",
              "        vertical-align: middle;\n",
              "    }\n",
              "\n",
              "    .dataframe tbody tr th {\n",
              "        vertical-align: top;\n",
              "    }\n",
              "\n",
              "    .dataframe thead th {\n",
              "        text-align: right;\n",
              "    }\n",
              "</style>\n",
              "<table border=\"1\" class=\"dataframe\">\n",
              "  <thead>\n",
              "    <tr style=\"text-align: right;\">\n",
              "      <th></th>\n",
              "      <th>headlines</th>\n",
              "      <th>description</th>\n",
              "      <th>content</th>\n",
              "      <th>url</th>\n",
              "      <th>category</th>\n",
              "      <th>remove_puntuations</th>\n",
              "      <th>to_lower</th>\n",
              "      <th>tokens</th>\n",
              "      <th>no_stopwords</th>\n",
              "    </tr>\n",
              "  </thead>\n",
              "  <tbody>\n",
              "    <tr>\n",
              "      <th>0</th>\n",
              "      <td>Nirmala Sitharaman to equal Morarji Desai’s re...</td>\n",
              "      <td>With the presentation of the interim budget on...</td>\n",
              "      <td>Sitharaman, the first full-time woman finance ...</td>\n",
              "      <td>https://indianexpress.com/article/business/bud...</td>\n",
              "      <td>business</td>\n",
              "      <td>Nirmala Sitharaman to equal Morarji Desai’s re...</td>\n",
              "      <td>nirmala sitharaman to equal morarji desai’s re...</td>\n",
              "      <td>[nirmala, sitharaman, to, equal, morarji, desa...</td>\n",
              "      <td>[nirmala, sitharaman, equal, morarji, desai, r...</td>\n",
              "    </tr>\n",
              "    <tr>\n",
              "      <th>1</th>\n",
              "      <td>‘Will densify network, want to be at least no....</td>\n",
              "      <td>'In terms of market share, we aim to double it...</td>\n",
              "      <td>The merger of Tata group’s budget airlines Air...</td>\n",
              "      <td>https://indianexpress.com/article/business/avi...</td>\n",
              "      <td>business</td>\n",
              "      <td>‘Will densify network want to be at least no 2...</td>\n",
              "      <td>‘will densify network want to be at least no 2...</td>\n",
              "      <td>[, will, densify, network, want, to, be, at, l...</td>\n",
              "      <td>[, densify, network, want, least, 2, city, pai...</td>\n",
              "    </tr>\n",
              "    <tr>\n",
              "      <th>2</th>\n",
              "      <td>Air India group to induct an aircraft every si...</td>\n",
              "      <td>Air India currently has 117 operational aircra...</td>\n",
              "      <td>The Air India group plans to induct one aircra...</td>\n",
              "      <td>https://indianexpress.com/article/business/avi...</td>\n",
              "      <td>business</td>\n",
              "      <td>Air India group to induct an aircraft every si...</td>\n",
              "      <td>air india group to induct an aircraft every si...</td>\n",
              "      <td>[air, india, group, to, induct, an, aircraft, ...</td>\n",
              "      <td>[air, india, group, induct, aircraft, every, s...</td>\n",
              "    </tr>\n",
              "    <tr>\n",
              "      <th>3</th>\n",
              "      <td>Red Sea woes: Exporters seek increased credit ...</td>\n",
              "      <td>Rising attacks forced shippers to consider the...</td>\n",
              "      <td>Indian exporters have asked the central govern...</td>\n",
              "      <td>https://indianexpress.com/article/business/red...</td>\n",
              "      <td>business</td>\n",
              "      <td>Red Sea woes Exporters seek increased credit a...</td>\n",
              "      <td>red sea woes exporters seek increased credit a...</td>\n",
              "      <td>[red, sea, woes, exporters, seek, increased, c...</td>\n",
              "      <td>[red, sea, woes, exporters, seek, increased, c...</td>\n",
              "    </tr>\n",
              "    <tr>\n",
              "      <th>4</th>\n",
              "      <td>Air India group to induct a plane every 6 days...</td>\n",
              "      <td>Apart from fleet expansion, 2024 will also see...</td>\n",
              "      <td>The Air India group plans to induct one aircra...</td>\n",
              "      <td>https://indianexpress.com/article/business/avi...</td>\n",
              "      <td>business</td>\n",
              "      <td>Air India group to induct a plane every 6 days...</td>\n",
              "      <td>air india group to induct a plane every 6 days...</td>\n",
              "      <td>[air, india, group, to, induct, a, plane, ever...</td>\n",
              "      <td>[air, india, group, induct, plane, every, 6, d...</td>\n",
              "    </tr>\n",
              "  </tbody>\n",
              "</table>\n",
              "</div>"
            ],
            "text/plain": [
              "                                           headlines  \\\n",
              "0  Nirmala Sitharaman to equal Morarji Desai’s re...   \n",
              "1  ‘Will densify network, want to be at least no....   \n",
              "2  Air India group to induct an aircraft every si...   \n",
              "3  Red Sea woes: Exporters seek increased credit ...   \n",
              "4  Air India group to induct a plane every 6 days...   \n",
              "\n",
              "                                         description  \\\n",
              "0  With the presentation of the interim budget on...   \n",
              "1  'In terms of market share, we aim to double it...   \n",
              "2  Air India currently has 117 operational aircra...   \n",
              "3  Rising attacks forced shippers to consider the...   \n",
              "4  Apart from fleet expansion, 2024 will also see...   \n",
              "\n",
              "                                             content  \\\n",
              "0  Sitharaman, the first full-time woman finance ...   \n",
              "1  The merger of Tata group’s budget airlines Air...   \n",
              "2  The Air India group plans to induct one aircra...   \n",
              "3  Indian exporters have asked the central govern...   \n",
              "4  The Air India group plans to induct one aircra...   \n",
              "\n",
              "                                                 url  category  \\\n",
              "0  https://indianexpress.com/article/business/bud...  business   \n",
              "1  https://indianexpress.com/article/business/avi...  business   \n",
              "2  https://indianexpress.com/article/business/avi...  business   \n",
              "3  https://indianexpress.com/article/business/red...  business   \n",
              "4  https://indianexpress.com/article/business/avi...  business   \n",
              "\n",
              "                                  remove_puntuations  \\\n",
              "0  Nirmala Sitharaman to equal Morarji Desai’s re...   \n",
              "1  ‘Will densify network want to be at least no 2...   \n",
              "2  Air India group to induct an aircraft every si...   \n",
              "3  Red Sea woes Exporters seek increased credit a...   \n",
              "4  Air India group to induct a plane every 6 days...   \n",
              "\n",
              "                                            to_lower  \\\n",
              "0  nirmala sitharaman to equal morarji desai’s re...   \n",
              "1  ‘will densify network want to be at least no 2...   \n",
              "2  air india group to induct an aircraft every si...   \n",
              "3  red sea woes exporters seek increased credit a...   \n",
              "4  air india group to induct a plane every 6 days...   \n",
              "\n",
              "                                              tokens  \\\n",
              "0  [nirmala, sitharaman, to, equal, morarji, desa...   \n",
              "1  [, will, densify, network, want, to, be, at, l...   \n",
              "2  [air, india, group, to, induct, an, aircraft, ...   \n",
              "3  [red, sea, woes, exporters, seek, increased, c...   \n",
              "4  [air, india, group, to, induct, a, plane, ever...   \n",
              "\n",
              "                                        no_stopwords  \n",
              "0  [nirmala, sitharaman, equal, morarji, desai, r...  \n",
              "1  [, densify, network, want, least, 2, city, pai...  \n",
              "2  [air, india, group, induct, aircraft, every, s...  \n",
              "3  [red, sea, woes, exporters, seek, increased, c...  \n",
              "4  [air, india, group, induct, plane, every, 6, d...  "
            ]
          },
          "execution_count": 19,
          "metadata": {},
          "output_type": "execute_result"
        }
      ],
      "source": [
        "alldata.head()"
      ]
    },
    {
      "cell_type": "code",
      "execution_count": 20,
      "id": "7595724a",
      "metadata": {},
      "outputs": [
        {
          "name": "stderr",
          "output_type": "stream",
          "text": [
            "[nltk_data] Downloading package wordnet to\n",
            "[nltk_data]     C:\\Users\\abiro\\AppData\\Roaming\\nltk_data...\n",
            "[nltk_data]   Package wordnet is already up-to-date!\n"
          ]
        }
      ],
      "source": [
        "# Lemmatization\n",
        "nltk.download('wordnet')\n",
        "wn = nltk.WordNetLemmatizer()\n",
        "def lemmatizing(tokenized_text):\n",
        "    text = [wn.lemmatize(word) for word in tokenized_text]\n",
        "    return text\n",
        "\n",
        "alldata[\"lemma\"] = alldata[\"no_stopwords\"].apply(lambda x: lemmatizing(x))"
      ]
    },
    {
      "cell_type": "code",
      "execution_count": 21,
      "id": "b0baa449",
      "metadata": {},
      "outputs": [
        {
          "data": {
            "text/html": [
              "<div>\n",
              "<style scoped>\n",
              "    .dataframe tbody tr th:only-of-type {\n",
              "        vertical-align: middle;\n",
              "    }\n",
              "\n",
              "    .dataframe tbody tr th {\n",
              "        vertical-align: top;\n",
              "    }\n",
              "\n",
              "    .dataframe thead th {\n",
              "        text-align: right;\n",
              "    }\n",
              "</style>\n",
              "<table border=\"1\" class=\"dataframe\">\n",
              "  <thead>\n",
              "    <tr style=\"text-align: right;\">\n",
              "      <th></th>\n",
              "      <th>headlines</th>\n",
              "      <th>description</th>\n",
              "      <th>content</th>\n",
              "      <th>url</th>\n",
              "      <th>category</th>\n",
              "      <th>remove_puntuations</th>\n",
              "      <th>to_lower</th>\n",
              "      <th>tokens</th>\n",
              "      <th>no_stopwords</th>\n",
              "      <th>lemma</th>\n",
              "    </tr>\n",
              "  </thead>\n",
              "  <tbody>\n",
              "    <tr>\n",
              "      <th>0</th>\n",
              "      <td>Nirmala Sitharaman to equal Morarji Desai’s re...</td>\n",
              "      <td>With the presentation of the interim budget on...</td>\n",
              "      <td>Sitharaman, the first full-time woman finance ...</td>\n",
              "      <td>https://indianexpress.com/article/business/bud...</td>\n",
              "      <td>business</td>\n",
              "      <td>Nirmala Sitharaman to equal Morarji Desai’s re...</td>\n",
              "      <td>nirmala sitharaman to equal morarji desai’s re...</td>\n",
              "      <td>[nirmala, sitharaman, to, equal, morarji, desa...</td>\n",
              "      <td>[nirmala, sitharaman, equal, morarji, desai, r...</td>\n",
              "      <td>[nirmala, sitharaman, equal, morarji, desai, r...</td>\n",
              "    </tr>\n",
              "    <tr>\n",
              "      <th>1</th>\n",
              "      <td>‘Will densify network, want to be at least no....</td>\n",
              "      <td>'In terms of market share, we aim to double it...</td>\n",
              "      <td>The merger of Tata group’s budget airlines Air...</td>\n",
              "      <td>https://indianexpress.com/article/business/avi...</td>\n",
              "      <td>business</td>\n",
              "      <td>‘Will densify network want to be at least no 2...</td>\n",
              "      <td>‘will densify network want to be at least no 2...</td>\n",
              "      <td>[, will, densify, network, want, to, be, at, l...</td>\n",
              "      <td>[, densify, network, want, least, 2, city, pai...</td>\n",
              "      <td>[, densify, network, want, least, 2, city, pai...</td>\n",
              "    </tr>\n",
              "    <tr>\n",
              "      <th>2</th>\n",
              "      <td>Air India group to induct an aircraft every si...</td>\n",
              "      <td>Air India currently has 117 operational aircra...</td>\n",
              "      <td>The Air India group plans to induct one aircra...</td>\n",
              "      <td>https://indianexpress.com/article/business/avi...</td>\n",
              "      <td>business</td>\n",
              "      <td>Air India group to induct an aircraft every si...</td>\n",
              "      <td>air india group to induct an aircraft every si...</td>\n",
              "      <td>[air, india, group, to, induct, an, aircraft, ...</td>\n",
              "      <td>[air, india, group, induct, aircraft, every, s...</td>\n",
              "      <td>[air, india, group, induct, aircraft, every, s...</td>\n",
              "    </tr>\n",
              "    <tr>\n",
              "      <th>3</th>\n",
              "      <td>Red Sea woes: Exporters seek increased credit ...</td>\n",
              "      <td>Rising attacks forced shippers to consider the...</td>\n",
              "      <td>Indian exporters have asked the central govern...</td>\n",
              "      <td>https://indianexpress.com/article/business/red...</td>\n",
              "      <td>business</td>\n",
              "      <td>Red Sea woes Exporters seek increased credit a...</td>\n",
              "      <td>red sea woes exporters seek increased credit a...</td>\n",
              "      <td>[red, sea, woes, exporters, seek, increased, c...</td>\n",
              "      <td>[red, sea, woes, exporters, seek, increased, c...</td>\n",
              "      <td>[red, sea, woe, exporter, seek, increased, cre...</td>\n",
              "    </tr>\n",
              "    <tr>\n",
              "      <th>4</th>\n",
              "      <td>Air India group to induct a plane every 6 days...</td>\n",
              "      <td>Apart from fleet expansion, 2024 will also see...</td>\n",
              "      <td>The Air India group plans to induct one aircra...</td>\n",
              "      <td>https://indianexpress.com/article/business/avi...</td>\n",
              "      <td>business</td>\n",
              "      <td>Air India group to induct a plane every 6 days...</td>\n",
              "      <td>air india group to induct a plane every 6 days...</td>\n",
              "      <td>[air, india, group, to, induct, a, plane, ever...</td>\n",
              "      <td>[air, india, group, induct, plane, every, 6, d...</td>\n",
              "      <td>[air, india, group, induct, plane, every, 6, d...</td>\n",
              "    </tr>\n",
              "  </tbody>\n",
              "</table>\n",
              "</div>"
            ],
            "text/plain": [
              "                                           headlines  \\\n",
              "0  Nirmala Sitharaman to equal Morarji Desai’s re...   \n",
              "1  ‘Will densify network, want to be at least no....   \n",
              "2  Air India group to induct an aircraft every si...   \n",
              "3  Red Sea woes: Exporters seek increased credit ...   \n",
              "4  Air India group to induct a plane every 6 days...   \n",
              "\n",
              "                                         description  \\\n",
              "0  With the presentation of the interim budget on...   \n",
              "1  'In terms of market share, we aim to double it...   \n",
              "2  Air India currently has 117 operational aircra...   \n",
              "3  Rising attacks forced shippers to consider the...   \n",
              "4  Apart from fleet expansion, 2024 will also see...   \n",
              "\n",
              "                                             content  \\\n",
              "0  Sitharaman, the first full-time woman finance ...   \n",
              "1  The merger of Tata group’s budget airlines Air...   \n",
              "2  The Air India group plans to induct one aircra...   \n",
              "3  Indian exporters have asked the central govern...   \n",
              "4  The Air India group plans to induct one aircra...   \n",
              "\n",
              "                                                 url  category  \\\n",
              "0  https://indianexpress.com/article/business/bud...  business   \n",
              "1  https://indianexpress.com/article/business/avi...  business   \n",
              "2  https://indianexpress.com/article/business/avi...  business   \n",
              "3  https://indianexpress.com/article/business/red...  business   \n",
              "4  https://indianexpress.com/article/business/avi...  business   \n",
              "\n",
              "                                  remove_puntuations  \\\n",
              "0  Nirmala Sitharaman to equal Morarji Desai’s re...   \n",
              "1  ‘Will densify network want to be at least no 2...   \n",
              "2  Air India group to induct an aircraft every si...   \n",
              "3  Red Sea woes Exporters seek increased credit a...   \n",
              "4  Air India group to induct a plane every 6 days...   \n",
              "\n",
              "                                            to_lower  \\\n",
              "0  nirmala sitharaman to equal morarji desai’s re...   \n",
              "1  ‘will densify network want to be at least no 2...   \n",
              "2  air india group to induct an aircraft every si...   \n",
              "3  red sea woes exporters seek increased credit a...   \n",
              "4  air india group to induct a plane every 6 days...   \n",
              "\n",
              "                                              tokens  \\\n",
              "0  [nirmala, sitharaman, to, equal, morarji, desa...   \n",
              "1  [, will, densify, network, want, to, be, at, l...   \n",
              "2  [air, india, group, to, induct, an, aircraft, ...   \n",
              "3  [red, sea, woes, exporters, seek, increased, c...   \n",
              "4  [air, india, group, to, induct, a, plane, ever...   \n",
              "\n",
              "                                        no_stopwords  \\\n",
              "0  [nirmala, sitharaman, equal, morarji, desai, r...   \n",
              "1  [, densify, network, want, least, 2, city, pai...   \n",
              "2  [air, india, group, induct, aircraft, every, s...   \n",
              "3  [red, sea, woes, exporters, seek, increased, c...   \n",
              "4  [air, india, group, induct, plane, every, 6, d...   \n",
              "\n",
              "                                               lemma  \n",
              "0  [nirmala, sitharaman, equal, morarji, desai, r...  \n",
              "1  [, densify, network, want, least, 2, city, pai...  \n",
              "2  [air, india, group, induct, aircraft, every, s...  \n",
              "3  [red, sea, woe, exporter, seek, increased, cre...  \n",
              "4  [air, india, group, induct, plane, every, 6, d...  "
            ]
          },
          "execution_count": 21,
          "metadata": {},
          "output_type": "execute_result"
        }
      ],
      "source": [
        "alldata.head()"
      ]
    },
    {
      "cell_type": "code",
      "execution_count": 22,
      "id": "d57dceb2",
      "metadata": {},
      "outputs": [],
      "source": [
        "# unlist the list of lists\n",
        "def unlist(list):\n",
        "    return \" \".join(list)\n",
        "alldata[\"unlist\"] = alldata[\"lemma\"].apply(lambda x: unlist(x))"
      ]
    },
    {
      "cell_type": "code",
      "execution_count": 23,
      "id": "94f8f47b",
      "metadata": {},
      "outputs": [
        {
          "data": {
            "text/html": [
              "<div>\n",
              "<style scoped>\n",
              "    .dataframe tbody tr th:only-of-type {\n",
              "        vertical-align: middle;\n",
              "    }\n",
              "\n",
              "    .dataframe tbody tr th {\n",
              "        vertical-align: top;\n",
              "    }\n",
              "\n",
              "    .dataframe thead th {\n",
              "        text-align: right;\n",
              "    }\n",
              "</style>\n",
              "<table border=\"1\" class=\"dataframe\">\n",
              "  <thead>\n",
              "    <tr style=\"text-align: right;\">\n",
              "      <th></th>\n",
              "      <th>headlines</th>\n",
              "      <th>description</th>\n",
              "      <th>content</th>\n",
              "      <th>url</th>\n",
              "      <th>category</th>\n",
              "      <th>remove_puntuations</th>\n",
              "      <th>to_lower</th>\n",
              "      <th>tokens</th>\n",
              "      <th>no_stopwords</th>\n",
              "      <th>lemma</th>\n",
              "      <th>unlist</th>\n",
              "    </tr>\n",
              "  </thead>\n",
              "  <tbody>\n",
              "    <tr>\n",
              "      <th>0</th>\n",
              "      <td>Nirmala Sitharaman to equal Morarji Desai’s re...</td>\n",
              "      <td>With the presentation of the interim budget on...</td>\n",
              "      <td>Sitharaman, the first full-time woman finance ...</td>\n",
              "      <td>https://indianexpress.com/article/business/bud...</td>\n",
              "      <td>business</td>\n",
              "      <td>Nirmala Sitharaman to equal Morarji Desai’s re...</td>\n",
              "      <td>nirmala sitharaman to equal morarji desai’s re...</td>\n",
              "      <td>[nirmala, sitharaman, to, equal, morarji, desa...</td>\n",
              "      <td>[nirmala, sitharaman, equal, morarji, desai, r...</td>\n",
              "      <td>[nirmala, sitharaman, equal, morarji, desai, r...</td>\n",
              "      <td>nirmala sitharaman equal morarji desai record ...</td>\n",
              "    </tr>\n",
              "    <tr>\n",
              "      <th>1</th>\n",
              "      <td>‘Will densify network, want to be at least no....</td>\n",
              "      <td>'In terms of market share, we aim to double it...</td>\n",
              "      <td>The merger of Tata group’s budget airlines Air...</td>\n",
              "      <td>https://indianexpress.com/article/business/avi...</td>\n",
              "      <td>business</td>\n",
              "      <td>‘Will densify network want to be at least no 2...</td>\n",
              "      <td>‘will densify network want to be at least no 2...</td>\n",
              "      <td>[, will, densify, network, want, to, be, at, l...</td>\n",
              "      <td>[, densify, network, want, least, 2, city, pai...</td>\n",
              "      <td>[, densify, network, want, least, 2, city, pai...</td>\n",
              "      <td>densify network want least 2 city pair air in...</td>\n",
              "    </tr>\n",
              "    <tr>\n",
              "      <th>2</th>\n",
              "      <td>Air India group to induct an aircraft every si...</td>\n",
              "      <td>Air India currently has 117 operational aircra...</td>\n",
              "      <td>The Air India group plans to induct one aircra...</td>\n",
              "      <td>https://indianexpress.com/article/business/avi...</td>\n",
              "      <td>business</td>\n",
              "      <td>Air India group to induct an aircraft every si...</td>\n",
              "      <td>air india group to induct an aircraft every si...</td>\n",
              "      <td>[air, india, group, to, induct, an, aircraft, ...</td>\n",
              "      <td>[air, india, group, induct, aircraft, every, s...</td>\n",
              "      <td>[air, india, group, induct, aircraft, every, s...</td>\n",
              "      <td>air india group induct aircraft every six day ...</td>\n",
              "    </tr>\n",
              "    <tr>\n",
              "      <th>3</th>\n",
              "      <td>Red Sea woes: Exporters seek increased credit ...</td>\n",
              "      <td>Rising attacks forced shippers to consider the...</td>\n",
              "      <td>Indian exporters have asked the central govern...</td>\n",
              "      <td>https://indianexpress.com/article/business/red...</td>\n",
              "      <td>business</td>\n",
              "      <td>Red Sea woes Exporters seek increased credit a...</td>\n",
              "      <td>red sea woes exporters seek increased credit a...</td>\n",
              "      <td>[red, sea, woes, exporters, seek, increased, c...</td>\n",
              "      <td>[red, sea, woes, exporters, seek, increased, c...</td>\n",
              "      <td>[red, sea, woe, exporter, seek, increased, cre...</td>\n",
              "      <td>red sea woe exporter seek increased credit fre...</td>\n",
              "    </tr>\n",
              "    <tr>\n",
              "      <th>4</th>\n",
              "      <td>Air India group to induct a plane every 6 days...</td>\n",
              "      <td>Apart from fleet expansion, 2024 will also see...</td>\n",
              "      <td>The Air India group plans to induct one aircra...</td>\n",
              "      <td>https://indianexpress.com/article/business/avi...</td>\n",
              "      <td>business</td>\n",
              "      <td>Air India group to induct a plane every 6 days...</td>\n",
              "      <td>air india group to induct a plane every 6 days...</td>\n",
              "      <td>[air, india, group, to, induct, a, plane, ever...</td>\n",
              "      <td>[air, india, group, induct, plane, every, 6, d...</td>\n",
              "      <td>[air, india, group, induct, plane, every, 6, d...</td>\n",
              "      <td>air india group induct plane every 6 day throu...</td>\n",
              "    </tr>\n",
              "  </tbody>\n",
              "</table>\n",
              "</div>"
            ],
            "text/plain": [
              "                                           headlines  \\\n",
              "0  Nirmala Sitharaman to equal Morarji Desai’s re...   \n",
              "1  ‘Will densify network, want to be at least no....   \n",
              "2  Air India group to induct an aircraft every si...   \n",
              "3  Red Sea woes: Exporters seek increased credit ...   \n",
              "4  Air India group to induct a plane every 6 days...   \n",
              "\n",
              "                                         description  \\\n",
              "0  With the presentation of the interim budget on...   \n",
              "1  'In terms of market share, we aim to double it...   \n",
              "2  Air India currently has 117 operational aircra...   \n",
              "3  Rising attacks forced shippers to consider the...   \n",
              "4  Apart from fleet expansion, 2024 will also see...   \n",
              "\n",
              "                                             content  \\\n",
              "0  Sitharaman, the first full-time woman finance ...   \n",
              "1  The merger of Tata group’s budget airlines Air...   \n",
              "2  The Air India group plans to induct one aircra...   \n",
              "3  Indian exporters have asked the central govern...   \n",
              "4  The Air India group plans to induct one aircra...   \n",
              "\n",
              "                                                 url  category  \\\n",
              "0  https://indianexpress.com/article/business/bud...  business   \n",
              "1  https://indianexpress.com/article/business/avi...  business   \n",
              "2  https://indianexpress.com/article/business/avi...  business   \n",
              "3  https://indianexpress.com/article/business/red...  business   \n",
              "4  https://indianexpress.com/article/business/avi...  business   \n",
              "\n",
              "                                  remove_puntuations  \\\n",
              "0  Nirmala Sitharaman to equal Morarji Desai’s re...   \n",
              "1  ‘Will densify network want to be at least no 2...   \n",
              "2  Air India group to induct an aircraft every si...   \n",
              "3  Red Sea woes Exporters seek increased credit a...   \n",
              "4  Air India group to induct a plane every 6 days...   \n",
              "\n",
              "                                            to_lower  \\\n",
              "0  nirmala sitharaman to equal morarji desai’s re...   \n",
              "1  ‘will densify network want to be at least no 2...   \n",
              "2  air india group to induct an aircraft every si...   \n",
              "3  red sea woes exporters seek increased credit a...   \n",
              "4  air india group to induct a plane every 6 days...   \n",
              "\n",
              "                                              tokens  \\\n",
              "0  [nirmala, sitharaman, to, equal, morarji, desa...   \n",
              "1  [, will, densify, network, want, to, be, at, l...   \n",
              "2  [air, india, group, to, induct, an, aircraft, ...   \n",
              "3  [red, sea, woes, exporters, seek, increased, c...   \n",
              "4  [air, india, group, to, induct, a, plane, ever...   \n",
              "\n",
              "                                        no_stopwords  \\\n",
              "0  [nirmala, sitharaman, equal, morarji, desai, r...   \n",
              "1  [, densify, network, want, least, 2, city, pai...   \n",
              "2  [air, india, group, induct, aircraft, every, s...   \n",
              "3  [red, sea, woes, exporters, seek, increased, c...   \n",
              "4  [air, india, group, induct, plane, every, 6, d...   \n",
              "\n",
              "                                               lemma  \\\n",
              "0  [nirmala, sitharaman, equal, morarji, desai, r...   \n",
              "1  [, densify, network, want, least, 2, city, pai...   \n",
              "2  [air, india, group, induct, aircraft, every, s...   \n",
              "3  [red, sea, woe, exporter, seek, increased, cre...   \n",
              "4  [air, india, group, induct, plane, every, 6, d...   \n",
              "\n",
              "                                              unlist  \n",
              "0  nirmala sitharaman equal morarji desai record ...  \n",
              "1   densify network want least 2 city pair air in...  \n",
              "2  air india group induct aircraft every six day ...  \n",
              "3  red sea woe exporter seek increased credit fre...  \n",
              "4  air india group induct plane every 6 day throu...  "
            ]
          },
          "execution_count": 23,
          "metadata": {},
          "output_type": "execute_result"
        }
      ],
      "source": [
        "alldata.head()"
      ]
    },
    {
      "cell_type": "markdown",
      "id": "a5e901fb",
      "metadata": {
        "id": "a5e901fb"
      },
      "source": [
        "### Using TfIDvectorizer"
      ]
    },
    {
      "cell_type": "code",
      "execution_count": 24,
      "id": "neTb6YQdd-Le",
      "metadata": {
        "id": "neTb6YQdd-Le"
      },
      "outputs": [],
      "source": [
        "from sklearn.svm import SVC\n",
        "from sklearn.model_selection import GridSearchCV, cross_val_score, train_test_split, KFold\n",
        "from sklearn.ensemble import AdaBoostClassifier\n",
        "from sklearn.multiclass import OneVsRestClassifier\n",
        "from sklearn.tree import DecisionTreeClassifier\n",
        "\n",
        "import pickle\n",
        "\n",
        "cv = KFold(n_splits=10, shuffle=True, random_state=42)"
      ]
    },
    {
      "cell_type": "markdown",
      "id": "R88MlWgojwMZ",
      "metadata": {
        "id": "R88MlWgojwMZ"
      },
      "source": [
        "**Preparing TFID vectors for OneVsRest Model**"
      ]
    },
    {
      "cell_type": "code",
      "execution_count": 25,
      "id": "fH5wW7mYj8Ey",
      "metadata": {
        "id": "fH5wW7mYj8Ey"
      },
      "outputs": [],
      "source": [
        "x_train_tf, x_test_tf, y_train_tf, y_test_tf = train_test_split(alldata[\"unlist\"], targets, test_size = 0.3, random_state=42)"
      ]
    },
    {
      "cell_type": "code",
      "execution_count": 26,
      "id": "4d5c2f66",
      "metadata": {},
      "outputs": [],
      "source": [
        "tfidf_vectorizer = TfidfVectorizer(max_features=5000, ngram_range=(1,2))\n",
        "tfidf_vectorizer.fit(x_train_tf)\n",
        "x_train_tfid = tfidf_vectorizer.transform(x_train_tf)\n",
        "x_test_tfid = tfidf_vectorizer.transform(x_test_tf)"
      ]
    },
    {
      "cell_type": "code",
      "execution_count": 22,
      "id": "480332b9",
      "metadata": {},
      "outputs": [
        {
          "data": {
            "text/plain": [
              "['transformer_model.joblib']"
            ]
          },
          "execution_count": 22,
          "metadata": {},
          "output_type": "execute_result"
        }
      ],
      "source": [
        "joblib.dump(tfidf_vectorizer, 'transformer_model.joblib')"
      ]
    },
    {
      "cell_type": "markdown",
      "id": "342732c3",
      "metadata": {},
      "source": [
        "Model: OneVsRestClassifier with Adaboost and RandomForest\n"
      ]
    },
    {
      "cell_type": "code",
      "execution_count": 27,
      "id": "bee13725",
      "metadata": {},
      "outputs": [],
      "source": [
        "# Try random forest\n",
        "np.random.seed(1234)\n",
        "from sklearn.ensemble import RandomForestClassifier\n",
        "rmf = RandomForestClassifier()\n",
        "parameters_rmf = {\n",
        "    'n_estimators': [100, 200, 300],\n",
        "    'max_depth': [1, 4, 6],\n",
        "    'min_samples_split': [2, 3, 4],\n",
        "    'min_samples_leaf': [1, 2, 3],\n",
        "    'max_features': [1, 2, 3]\n",
        "}\n"
      ]
    },
    {
      "cell_type": "code",
      "execution_count": 28,
      "id": "c4d09b29",
      "metadata": {},
      "outputs": [
        {
          "name": "stdout",
          "output_type": "stream",
          "text": [
            "Fitting 10 folds for each of 243 candidates, totalling 2430 fits\n"
          ]
        }
      ],
      "source": [
        "rm_grid = GridSearchCV(rmf, parameters_rmf, n_jobs= -1, verbose=1, cv=cv)\n",
        "rm_grid_result = rm_grid.fit(x_train_tfid, y_train_tf)\n",
        "bestmod = rm_grid_result.best_estimator_\n",
        "#rmpreds = bestmod.predict(x_test_tfid)"
      ]
    },
    {
      "cell_type": "code",
      "execution_count": 29,
      "id": "ZwGJGtyLmCUA",
      "metadata": {
        "id": "ZwGJGtyLmCUA"
      },
      "outputs": [],
      "source": [
        "parameters = {\n",
        "    'n_estimators': [50, 100, 200],\n",
        "    'learning_rate': [0.1, 0.01, 0.001]\n",
        "    }\n",
        "\n",
        "ada_clf = AdaBoostClassifier(estimator=bestmod, algorithm=\"SAMME\", random_state=42, n_estimators=200, learning_rate=0.1)\n"
      ]
    },
    {
      "cell_type": "code",
      "execution_count": 30,
      "id": "dJQPO7snUG8m",
      "metadata": {
        "id": "dJQPO7snUG8m"
      },
      "outputs": [],
      "source": [
        "ovr = OneVsRestClassifier(ada_clf)\n",
        "ovr.fit(x_train_tfid, y_train_tf)"
      ]
    },
    {
      "cell_type": "code",
      "execution_count": 55,
      "id": "ZMcHuEch_FtL",
      "metadata": {
        "colab": {
          "base_uri": "https://localhost:8080/"
        },
        "id": "ZMcHuEch_FtL",
        "outputId": "98609094-8a4c-43b2-eded-f5691c16db72"
      },
      "outputs": [],
      "source": [
        "ypreds_ovr = ovr.predict(x_test_tfid)\n",
        "\n",
        "#scorestree = cross_val_score(ovr, x_train_tfid, y_train_tf)\n",
        "#print(\"Cross-validation scores Tree: \", np.round(np.mean(scorestree),3))"
      ]
    },
    {
      "cell_type": "code",
      "execution_count": 60,
      "id": "6af02fb4",
      "metadata": {},
      "outputs": [
        {
          "data": {
            "text/plain": [
              "['ovr_model.joblib']"
            ]
          },
          "execution_count": 60,
          "metadata": {},
          "output_type": "execute_result"
        }
      ],
      "source": [
        "pickle.dump(ovr, open('model.pkl', 'wb'))"
      ]
    },
    {
      "cell_type": "code",
      "execution_count": 56,
      "id": "GE9OQhzxE99k",
      "metadata": {
        "colab": {
          "base_uri": "https://localhost:8080/"
        },
        "id": "GE9OQhzxE99k",
        "outputId": "b3e281be-e30b-4395-ba1c-7933abda7ba5"
      },
      "outputs": [
        {
          "name": "stdout",
          "output_type": "stream",
          "text": [
            "               precision    recall  f1-score   support\n",
            "\n",
            "     business       0.94      0.94      0.94       626\n",
            "    education       0.97      0.95      0.96       591\n",
            "entertainment       0.97      0.91      0.94       610\n",
            "       sports       0.92      0.94      0.93       584\n",
            "   technology       0.88      0.94      0.91       589\n",
            "\n",
            "     accuracy                           0.94      3000\n",
            "    macro avg       0.94      0.94      0.94      3000\n",
            " weighted avg       0.94      0.94      0.94      3000\n",
            "\n"
          ]
        }
      ],
      "source": [
        "from sklearn.metrics import ConfusionMatrixDisplay, classification_report\n",
        "cm_ovr = classification_report(y_test_tf, ypreds_ovr)\n",
        "print(cm_ovr)"
      ]
    },
    {
      "cell_type": "code",
      "execution_count": null,
      "id": "bd771111",
      "metadata": {},
      "outputs": [],
      "source": [
        "# Path to the original file\n",
        "file_path = 'model.pkl'\n",
        "\n",
        "# Path to the compressed file\n",
        "compressed_file_path = 'model.pkl.gz'\n",
        "\n",
        "# Compress the file\n",
        "with open(file_path, 'rb') as f_in:\n",
        "    with gzip.open(compressed_file_path, 'wb') as f_out:\n",
        "        shutil.copyfileobj(f_in, f_out)"
      ]
    }
  ],
  "metadata": {
    "accelerator": "GPU",
    "colab": {
      "gpuType": "T4",
      "provenance": []
    },
    "kernelspec": {
      "display_name": "Python 3",
      "name": "python3"
    },
    "language_info": {
      "codemirror_mode": {
        "name": "ipython",
        "version": 3
      },
      "file_extension": ".py",
      "mimetype": "text/x-python",
      "name": "python",
      "nbconvert_exporter": "python",
      "pygments_lexer": "ipython3",
      "version": "3.11.9"
    }
  },
  "nbformat": 4,
  "nbformat_minor": 5
}
